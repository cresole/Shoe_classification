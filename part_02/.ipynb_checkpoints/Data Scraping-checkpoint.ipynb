{
 "cells": [
  {
   "cell_type": "code",
   "execution_count": 189,
   "metadata": {
    "scrolled": false
   },
   "outputs": [],
   "source": [
    "# !pip install scrapy\n",
    "# !pip install seleniumnn \n",
    "# !pip install beautifulsoup4 "
   ]
  },
  {
   "cell_type": "code",
   "execution_count": 190,
   "metadata": {},
   "outputs": [],
   "source": [
    "import requests\n",
    "from selenium import webdriver\n",
    "from bs4 import BeautifulSoup\n",
    "from scrapy.selector import Selector\n",
    "import re\n",
    "import time\n",
    "import csv\n",
    "from itertools import islice\n",
    "import pandas as pd\n",
    "import os"
   ]
  },
  {
   "cell_type": "code",
   "execution_count": 191,
   "metadata": {},
   "outputs": [],
   "source": [
    "driver = webdriver.Chrome('./chromedriver')"
   ]
  },
  {
   "cell_type": "code",
   "execution_count": 192,
   "metadata": {},
   "outputs": [],
   "source": [
    "driver.get(f'https://www.6pm.com/marty/c/homepage-new')"
   ]
  },
  {
   "cell_type": "code",
   "execution_count": 193,
   "metadata": {},
   "outputs": [],
   "source": [
    "def get_cookie_jar(driver):\n",
    "    cookies = driver.get_cookies()\n",
    "    cookie_jar = {x['name']:x['value'] for x in cookies}\n",
    "    \n",
    "    return cookie_jar\n",
    "\n",
    "cookie_jar = get_cookie_jar(driver)"
   ]
  },
  {
   "cell_type": "code",
   "execution_count": 317,
   "metadata": {},
   "outputs": [],
   "source": [
    "# Pass cookies back to request page information\n",
    "page = requests.get('https://www.6pm.com/marty/c/homepage-new', \n",
    "                    cookies = cookie_jar)"
   ]
  },
  {
   "cell_type": "code",
   "execution_count": 195,
   "metadata": {},
   "outputs": [],
   "source": [
    "soup = BeautifulSoup(page.text, 'html.parser')"
   ]
  },
  {
   "cell_type": "code",
   "execution_count": 196,
   "metadata": {
    "scrolled": true
   },
   "outputs": [],
   "source": [
    "boot_page = soup.findAll('a',{'class':'gae-click*Main-Nav*Shoes*Women-s-Boots'})"
   ]
  },
  {
   "cell_type": "code",
   "execution_count": 197,
   "metadata": {},
   "outputs": [
    {
     "data": {
      "text/plain": [
       "[<a class=\"gae-click*Main-Nav*Shoes*Women-s-Boots\" href=\"/women-boots/CK_XARCz1wHAAQHiAgMYAQI.zso?s=isNew/desc/goLiveDate/desc/recentSalesStyle/desc/\">Boots</a>]"
      ]
     },
     "execution_count": 197,
     "metadata": {},
     "output_type": "execute_result"
    }
   ],
   "source": [
    "boot_page"
   ]
  },
  {
   "cell_type": "code",
   "execution_count": 198,
   "metadata": {},
   "outputs": [
    {
     "data": {
      "text/plain": [
       "'/women-boots/CK_XARCz1wHAAQHiAgMYAQI.zso?s=isNew/desc/goLiveDate/desc/recentSalesStyle/desc/'"
      ]
     },
     "execution_count": 198,
     "metadata": {},
     "output_type": "execute_result"
    }
   ],
   "source": [
    "boot_page_str = str(boot_page)\n",
    "start = boot_page_str.find('href') + 6\n",
    "end = boot_page_str.find('Boots</a>') - 2\n",
    "boot_page_str[start:end]"
   ]
  },
  {
   "cell_type": "code",
   "execution_count": 199,
   "metadata": {},
   "outputs": [
    {
     "data": {
      "text/plain": [
       "<Response [200]>"
      ]
     },
     "execution_count": 199,
     "metadata": {},
     "output_type": "execute_result"
    }
   ],
   "source": [
    "URL = \"http://6pm.com\" + boot_page_str[start:end]\n",
    "page1 = requests.get(URL, cookies = cookie_jar)\n",
    "page1"
   ]
  },
  {
   "cell_type": "code",
   "execution_count": 200,
   "metadata": {},
   "outputs": [],
   "source": [
    "driver.get(URL)"
   ]
  },
  {
   "cell_type": "code",
   "execution_count": 201,
   "metadata": {},
   "outputs": [
    {
     "data": {
      "text/plain": [
       "'https://www.6pm.com/women-boots/CK_XARCz1wHAAQHiAgMBAhg.zso?s=isNew/desc/goLiveDate/desc/recentSalesStyle/desc/'"
      ]
     },
     "execution_count": 201,
     "metadata": {},
     "output_type": "execute_result"
    }
   ],
   "source": [
    "driver.current_url"
   ]
  },
  {
   "cell_type": "code",
   "execution_count": 204,
   "metadata": {},
   "outputs": [],
   "source": [
    "# Need to add the size \"5.5\" click later, now we just copy and paste it to get around it"
   ]
  },
  {
   "cell_type": "code",
   "execution_count": 249,
   "metadata": {},
   "outputs": [],
   "source": [
    "URL2 = \"https://www.6pm.com/women-boots/CK_XARCz1wF6AtQEggECnBjAAQHiAgQBAhgP.zso?s=isNew/desc/goLiveDate/desc/recentSalesStyle/desc/\""
   ]
  },
  {
   "cell_type": "code",
   "execution_count": 259,
   "metadata": {},
   "outputs": [
    {
     "data": {
      "text/plain": [
       "'https://www.6pm.com/women-boots/CK_XARCz1wF6AtQEggECnBjAAQHiAgQBAhgP.zso?s=isNew/desc/goLiveDate/desc/recentSalesStyle/desc/'"
      ]
     },
     "execution_count": 259,
     "metadata": {},
     "output_type": "execute_result"
    }
   ],
   "source": [
    "URL2"
   ]
  },
  {
   "cell_type": "code",
   "execution_count": 243,
   "metadata": {},
   "outputs": [],
   "source": [
    "def extract_links_from_soup(current_soup):\n",
    "    links = []\n",
    "    for link in current_soup.find_all('a', {'itemprop':'url'}):\n",
    "        links.append(link.get('href'))  \n",
    "    return links"
   ]
  },
  {
   "cell_type": "code",
   "execution_count": 310,
   "metadata": {},
   "outputs": [],
   "source": [
    "def fill_images_to_dataframe(links, pd_images):\n",
    "    for link in links:\n",
    "        URL_current = \"http://www.6pm.com\" + link\n",
    "#        print(\"current_search_page: \", URL_current)\n",
    "        page_current = requests.get(URL_current, cookies = cookie_jar)\n",
    "        soup_current = BeautifulSoup(page_current.text, 'html.parser')\n",
    "#        print(soup_current.text)\n",
    "        try: \n",
    "            image_link = soup_current.find('img',{'alt':'BOTT'})['src']\n",
    "        except TypeError:\n",
    "            print(\"This item doesn't have a sole picture!\")\n",
    "        else:\n",
    "            image_name = URL_current.split(\"/\")[4] + \".jpg\"\n",
    "#            print(image_name)\n",
    "#            print(image_link)\n",
    "            pd_shoe_current = pd.Series([image_link, image_name, link], index=['image_link', 'jpeg', 'shoes_link'])\n",
    "            pd_images = pd_images.append(pd_shoe_current, ignore_index=True)\n",
    "    return pd_images"
   ]
  },
  {
   "cell_type": "code",
   "execution_count": 291,
   "metadata": {},
   "outputs": [],
   "source": [
    "def save_jpegs(pd_images):\n",
    "    for index, row in pd_images.iterrows():\n",
    "        with open(os.path.join('./Shoe_sole_images/',row['jpeg']), \"wb\") as file1:\n",
    "            image = requests.get(row['link'])\n",
    "            file1.write(image.content)\n",
    "            file1.close()"
   ]
  },
  {
   "cell_type": "code",
   "execution_count": 311,
   "metadata": {},
   "outputs": [
    {
     "name": "stdout",
     "output_type": "stream",
     "text": [
      "current URL:  https://www.6pm.com/women-boots/CK_XARCz1wF6AtQEggECnBjAAQHiAgQBAhgP.zso?s=isNew/desc/goLiveDate/desc/recentSalesStyle/desc/\n",
      "current URL:  https://www.6pm.com/women-boots/CK_XARCz1wF6AtQEggECnBjAAQHiAgQBAhgP.zso?s=isNew/desc/goLiveDate/desc/recentSalesStyle/desc/&p=1\n",
      "This item doesn't have a sole picture!\n",
      "current URL:  https://www.6pm.com/women-boots/CK_XARCz1wF6AtQEggECnBjAAQHiAgQBAhgP.zso?s=isNew/desc/goLiveDate/desc/recentSalesStyle/desc/&p=2\n",
      "current URL:  https://www.6pm.com/women-boots/CK_XARCz1wF6AtQEggECnBjAAQHiAgQBAhgP.zso?s=isNew/desc/goLiveDate/desc/recentSalesStyle/desc/&p=3\n",
      "This item doesn't have a sole picture!\n",
      "current URL:  https://www.6pm.com/women-boots/CK_XARCz1wF6AtQEggECnBjAAQHiAgQBAhgP.zso?s=isNew/desc/goLiveDate/desc/recentSalesStyle/desc/&p=4\n",
      "current URL:  https://www.6pm.com/women-boots/CK_XARCz1wF6AtQEggECnBjAAQHiAgQBAhgP.zso?s=isNew/desc/goLiveDate/desc/recentSalesStyle/desc/&p=5\n",
      "This item doesn't have a sole picture!\n",
      "current URL:  https://www.6pm.com/women-boots/CK_XARCz1wF6AtQEggECnBjAAQHiAgQBAhgP.zso?s=isNew/desc/goLiveDate/desc/recentSalesStyle/desc/&p=6\n",
      "current URL:  https://www.6pm.com/women-boots/CK_XARCz1wF6AtQEggECnBjAAQHiAgQBAhgP.zso?s=isNew/desc/goLiveDate/desc/recentSalesStyle/desc/&p=7\n",
      "current URL:  https://www.6pm.com/women-boots/CK_XARCz1wF6AtQEggECnBjAAQHiAgQBAhgP.zso?s=isNew/desc/goLiveDate/desc/recentSalesStyle/desc/&p=8\n",
      "current URL:  https://www.6pm.com/women-boots/CK_XARCz1wF6AtQEggECnBjAAQHiAgQBAhgP.zso?s=isNew/desc/goLiveDate/desc/recentSalesStyle/desc/&p=9\n",
      "current URL:  https://www.6pm.com/women-boots/CK_XARCz1wF6AtQEggECnBjAAQHiAgQBAhgP.zso?s=isNew/desc/goLiveDate/desc/recentSalesStyle/desc/&p=10\n",
      "current URL:  https://www.6pm.com/women-boots/CK_XARCz1wF6AtQEggECnBjAAQHiAgQBAhgP.zso?s=isNew/desc/goLiveDate/desc/recentSalesStyle/desc/&p=11\n",
      "current URL:  https://www.6pm.com/women-boots/CK_XARCz1wF6AtQEggECnBjAAQHiAgQBAhgP.zso?s=isNew/desc/goLiveDate/desc/recentSalesStyle/desc/&p=12\n",
      "current URL:  https://www.6pm.com/women-boots/CK_XARCz1wF6AtQEggECnBjAAQHiAgQBAhgP.zso?s=isNew/desc/goLiveDate/desc/recentSalesStyle/desc/&p=13\n",
      "current URL:  https://www.6pm.com/women-boots/CK_XARCz1wF6AtQEggECnBjAAQHiAgQBAhgP.zso?s=isNew/desc/goLiveDate/desc/recentSalesStyle/desc/&p=14\n",
      "current URL:  https://www.6pm.com/women-boots/CK_XARCz1wF6AtQEggECnBjAAQHiAgQBAhgP.zso?s=isNew/desc/goLiveDate/desc/recentSalesStyle/desc/&p=15\n",
      "current URL:  https://www.6pm.com/women-boots/CK_XARCz1wF6AtQEggECnBjAAQHiAgQBAhgP.zso?s=isNew/desc/goLiveDate/desc/recentSalesStyle/desc/&p=16\n",
      "current URL:  https://www.6pm.com/women-boots/CK_XARCz1wF6AtQEggECnBjAAQHiAgQBAhgP.zso?s=isNew/desc/goLiveDate/desc/recentSalesStyle/desc/&p=17\n",
      "current URL:  https://www.6pm.com/women-boots/CK_XARCz1wF6AtQEggECnBjAAQHiAgQBAhgP.zso?s=isNew/desc/goLiveDate/desc/recentSalesStyle/desc/&p=18\n",
      "current URL:  https://www.6pm.com/women-boots/CK_XARCz1wF6AtQEggECnBjAAQHiAgQBAhgP.zso?s=isNew/desc/goLiveDate/desc/recentSalesStyle/desc/&p=19\n",
      "current URL:  https://www.6pm.com/women-boots/CK_XARCz1wF6AtQEggECnBjAAQHiAgQBAhgP.zso?s=isNew/desc/goLiveDate/desc/recentSalesStyle/desc/&p=20\n",
      "current URL:  https://www.6pm.com/women-boots/CK_XARCz1wF6AtQEggECnBjAAQHiAgQBAhgP.zso?s=isNew/desc/goLiveDate/desc/recentSalesStyle/desc/&p=21\n",
      "current URL:  https://www.6pm.com/women-boots/CK_XARCz1wF6AtQEggECnBjAAQHiAgQBAhgP.zso?s=isNew/desc/goLiveDate/desc/recentSalesStyle/desc/&p=22\n",
      "current URL:  https://www.6pm.com/women-boots/CK_XARCz1wF6AtQEggECnBjAAQHiAgQBAhgP.zso?s=isNew/desc/goLiveDate/desc/recentSalesStyle/desc/&p=23\n",
      "current URL:  https://www.6pm.com/women-boots/CK_XARCz1wF6AtQEggECnBjAAQHiAgQBAhgP.zso?s=isNew/desc/goLiveDate/desc/recentSalesStyle/desc/&p=24\n",
      "current URL:  https://www.6pm.com/women-boots/CK_XARCz1wF6AtQEggECnBjAAQHiAgQBAhgP.zso?s=isNew/desc/goLiveDate/desc/recentSalesStyle/desc/&p=25\n",
      "current URL:  https://www.6pm.com/women-boots/CK_XARCz1wF6AtQEggECnBjAAQHiAgQBAhgP.zso?s=isNew/desc/goLiveDate/desc/recentSalesStyle/desc/&p=26\n",
      "current URL:  https://www.6pm.com/women-boots/CK_XARCz1wF6AtQEggECnBjAAQHiAgQBAhgP.zso?s=isNew/desc/goLiveDate/desc/recentSalesStyle/desc/&p=27\n",
      "This item doesn't have a sole picture!\n",
      "This item doesn't have a sole picture!\n",
      "current URL:  https://www.6pm.com/women-boots/CK_XARCz1wF6AtQEggECnBjAAQHiAgQBAhgP.zso?s=isNew/desc/goLiveDate/desc/recentSalesStyle/desc/&p=28\n",
      "current URL:  https://www.6pm.com/women-boots/CK_XARCz1wF6AtQEggECnBjAAQHiAgQBAhgP.zso?s=isNew/desc/goLiveDate/desc/recentSalesStyle/desc/&p=29\n",
      "current URL:  https://www.6pm.com/women-boots/CK_XARCz1wF6AtQEggECnBjAAQHiAgQBAhgP.zso?s=isNew/desc/goLiveDate/desc/recentSalesStyle/desc/&p=30\n",
      "current URL:  https://www.6pm.com/women-boots/CK_XARCz1wF6AtQEggECnBjAAQHiAgQBAhgP.zso?s=isNew/desc/goLiveDate/desc/recentSalesStyle/desc/&p=31\n",
      "current URL:  https://www.6pm.com/women-boots/CK_XARCz1wF6AtQEggECnBjAAQHiAgQBAhgP.zso?s=isNew/desc/goLiveDate/desc/recentSalesStyle/desc/&p=32\n",
      "current URL:  https://www.6pm.com/women-boots/CK_XARCz1wF6AtQEggECnBjAAQHiAgQBAhgP.zso?s=isNew/desc/goLiveDate/desc/recentSalesStyle/desc/&p=33\n",
      "current URL:  https://www.6pm.com/women-boots/CK_XARCz1wF6AtQEggECnBjAAQHiAgQBAhgP.zso?s=isNew/desc/goLiveDate/desc/recentSalesStyle/desc/&p=34\n",
      "Key Error: End of Search!\n"
     ]
    }
   ],
   "source": [
    "current_URL = URL2\n",
    "signal = 0\n",
    "pd_images = pd.DataFrame(columns=['image_link', 'jpeg', 'shoes_link'])\n",
    "while(signal == 0):\n",
    "    current_page = requests.get(current_URL, cookies = cookie_jar)\n",
    "    print(\"current URL: \", current_URL)\n",
    "    current_soup = BeautifulSoup(current_page.text, 'html.parser')\n",
    "    links = extract_links_from_soup(current_soup)\n",
    "    pd_images = fill_images_to_dataframe(links, pd_images, )\n",
    "#    save_jpegs(pd_images)\n",
    "    time.sleep(3)\n",
    "    try: \n",
    "        current_URL = \"https://www.6pm.com\" + current_soup.findAll('a', {'rel': 'next'})[0]['href']\n",
    "    except:\n",
    "        print(\"Key Error: End of Search!\")\n",
    "        signal = 1\n",
    "        \n",
    "    "
   ]
  },
  {
   "cell_type": "code",
   "execution_count": 312,
   "metadata": {},
   "outputs": [
    {
     "data": {
      "text/plain": [
       "(3428, 3)"
      ]
     },
     "execution_count": 312,
     "metadata": {},
     "output_type": "execute_result"
    }
   ],
   "source": [
    "pd_images.shape"
   ]
  }
 ],
 "metadata": {
  "kernelspec": {
   "display_name": "Python [default]",
   "language": "python",
   "name": "python3"
  },
  "language_info": {
   "codemirror_mode": {
    "name": "ipython",
    "version": 3
   },
   "file_extension": ".py",
   "mimetype": "text/x-python",
   "name": "python",
   "nbconvert_exporter": "python",
   "pygments_lexer": "ipython3",
   "version": "3.6.5"
  }
 },
 "nbformat": 4,
 "nbformat_minor": 2
}
