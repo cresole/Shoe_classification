{
 "cells": [
  {
   "cell_type": "code",
   "execution_count": 1,
   "metadata": {
    "scrolled": false
   },
   "outputs": [],
   "source": [
    "# !pip install scrapy\n",
    "# !pip install seleniumnn \n",
    "# !pip install beautifulsoup4 "
   ]
  },
  {
   "cell_type": "code",
   "execution_count": 2,
   "metadata": {},
   "outputs": [],
   "source": [
    "import requests\n",
    "from selenium import webdriver\n",
    "from bs4 import BeautifulSoup\n",
    "from scrapy.selector import Selector\n",
    "import re\n",
    "import time\n",
    "import csv\n",
    "from itertools import islice\n",
    "import pandas as pd\n",
    "import os"
   ]
  },
  {
   "cell_type": "code",
   "execution_count": 3,
   "metadata": {},
   "outputs": [],
   "source": [
    "driver = webdriver.Chrome('./chromedriver')"
   ]
  },
  {
   "cell_type": "code",
   "execution_count": 4,
   "metadata": {},
   "outputs": [],
   "source": [
    "driver.get(f'https://www.6pm.com/marty/c/homepage-new')"
   ]
  },
  {
   "cell_type": "code",
   "execution_count": 5,
   "metadata": {},
   "outputs": [],
   "source": [
    "def get_cookie_jar(driver):\n",
    "    cookies = driver.get_cookies()\n",
    "    cookie_jar = {x['name']:x['value'] for x in cookies}\n",
    "    \n",
    "    return cookie_jar\n",
    "\n",
    "cookie_jar = get_cookie_jar(driver)"
   ]
  },
  {
   "cell_type": "code",
   "execution_count": 6,
   "metadata": {},
   "outputs": [],
   "source": [
    "# Pass cookies back to request page information\n",
    "page = requests.get('https://www.6pm.com/marty/c/homepage-new', \n",
    "                    cookies = cookie_jar)"
   ]
  },
  {
   "cell_type": "code",
   "execution_count": 7,
   "metadata": {},
   "outputs": [],
   "source": [
    "soup = BeautifulSoup(page.text, 'html.parser')"
   ]
  },
  {
   "cell_type": "code",
   "execution_count": 8,
   "metadata": {
    "scrolled": true
   },
   "outputs": [],
   "source": [
    "boot_page = soup.findAll('a',{'class':'gae-click*Main-Nav*Shoes*Women-s-Boots'})"
   ]
  },
  {
   "cell_type": "code",
   "execution_count": 9,
   "metadata": {},
   "outputs": [
    {
     "data": {
      "text/plain": [
       "[<a class=\"gae-click*Main-Nav*Shoes*Women-s-Boots\" href=\"/women-boots/CK_XARCz1wHAAQHiAgMYAQI.zso?s=isNew/desc/goLiveDate/desc/recentSalesStyle/desc/\">Boots</a>]"
      ]
     },
     "execution_count": 9,
     "metadata": {},
     "output_type": "execute_result"
    }
   ],
   "source": [
    "boot_page"
   ]
  },
  {
   "cell_type": "code",
   "execution_count": 10,
   "metadata": {},
   "outputs": [
    {
     "data": {
      "text/plain": [
       "'/women-boots/CK_XARCz1wHAAQHiAgMYAQI.zso?s=isNew/desc/goLiveDate/desc/recentSalesStyle/desc/'"
      ]
     },
     "execution_count": 10,
     "metadata": {},
     "output_type": "execute_result"
    }
   ],
   "source": [
    "boot_page_str = str(boot_page)\n",
    "start = boot_page_str.find('href') + 6\n",
    "end = boot_page_str.find('Boots</a>') - 2\n",
    "boot_page_str[start:end]"
   ]
  },
  {
   "cell_type": "code",
   "execution_count": 11,
   "metadata": {},
   "outputs": [
    {
     "data": {
      "text/plain": [
       "<Response [200]>"
      ]
     },
     "execution_count": 11,
     "metadata": {},
     "output_type": "execute_result"
    }
   ],
   "source": [
    "URL = \"http://6pm.com\" + boot_page_str[start:end]\n",
    "page1 = requests.get(URL, cookies = cookie_jar)\n",
    "page1"
   ]
  },
  {
   "cell_type": "code",
   "execution_count": 12,
   "metadata": {},
   "outputs": [],
   "source": [
    "driver.get(URL)"
   ]
  },
  {
   "cell_type": "code",
   "execution_count": 13,
   "metadata": {},
   "outputs": [
    {
     "data": {
      "text/plain": [
       "'https://www.6pm.com/women-boots/CK_XARCz1wHAAQHiAgMBAhg.zso?s=isNew/desc/goLiveDate/desc/recentSalesStyle/desc/'"
      ]
     },
     "execution_count": 13,
     "metadata": {},
     "output_type": "execute_result"
    }
   ],
   "source": [
    "driver.current_url"
   ]
  },
  {
   "cell_type": "code",
   "execution_count": 14,
   "metadata": {},
   "outputs": [],
   "source": [
    "# Need to add the size \"5.5\" click later, now we just copy and paste it to get around it"
   ]
  },
  {
   "cell_type": "code",
   "execution_count": 15,
   "metadata": {},
   "outputs": [],
   "source": [
    "URL2 = \"https://www.6pm.com/women-shoes/CK_XAXoC1ASCAQKfGMABAeICAwEYDw.zso?s=isNew/desc/goLiveDate/desc/recentSalesStyle/desc/\""
   ]
  },
  {
   "cell_type": "code",
   "execution_count": 16,
   "metadata": {},
   "outputs": [
    {
     "data": {
      "text/plain": [
       "'https://www.6pm.com/women-shoes/CK_XAXoC1ASCAQKfGMABAeICAwEYDw.zso?s=isNew/desc/goLiveDate/desc/recentSalesStyle/desc/'"
      ]
     },
     "execution_count": 16,
     "metadata": {},
     "output_type": "execute_result"
    }
   ],
   "source": [
    "URL2"
   ]
  },
  {
   "cell_type": "code",
   "execution_count": 17,
   "metadata": {},
   "outputs": [],
   "source": [
    "def extract_links_from_soup(current_soup):\n",
    "    links = []\n",
    "    for link in current_soup.find_all('a', {'itemprop':'url'}):\n",
    "        links.append(link.get('href'))  \n",
    "    return links"
   ]
  },
  {
   "cell_type": "code",
   "execution_count": 18,
   "metadata": {},
   "outputs": [],
   "source": [
    "def fill_images_to_dataframe(links, pd_images):\n",
    "    for link in links:\n",
    "        URL_current = \"http://www.6pm.com\" + link\n",
    "#        print(\"current_search_page: \", URL_current)\n",
    "        page_current = requests.get(URL_current, cookies = cookie_jar)\n",
    "        soup_current = BeautifulSoup(page_current.text, 'html.parser')\n",
    "#        print(soup_current.text)\n",
    "        try: \n",
    "            image_link = soup_current.find('img',{'alt':'BOTT'})['src']\n",
    "        except TypeError:\n",
    "            print(\"This item doesn't have a sole picture!\")\n",
    "        else:\n",
    "            image_name = URL_current.split(\"/\")[4] + \".jpg\"\n",
    "#            print(image_name)\n",
    "#            print(image_link)\n",
    "            pd_shoe_current = pd.Series([image_link, image_name, link], index=['image_link', 'jpeg', 'shoes_link'])\n",
    "            pd_images = pd_images.append(pd_shoe_current, ignore_index=True)\n",
    "    return pd_images"
   ]
  },
  {
   "cell_type": "code",
   "execution_count": 19,
   "metadata": {},
   "outputs": [],
   "source": [
    "#soup_current.find('img',{'alt':'BOTT'})['src']"
   ]
  },
  {
   "cell_type": "code",
   "execution_count": 20,
   "metadata": {},
   "outputs": [],
   "source": [
    "#fill_images_to_dataframe(links, pd_images)"
   ]
  },
  {
   "cell_type": "code",
   "execution_count": 21,
   "metadata": {},
   "outputs": [],
   "source": [
    "def save_jpegs(pd_images):\n",
    "    for index, row in pd_images.iterrows():\n",
    "        with open(os.path.join('./Shoe_sole_images_2/',row['jpeg']), \"wb\") as file1:\n",
    "            image = requests.get(row['image_link'])\n",
    "            file1.write(image.content)\n",
    "            file1.close()"
   ]
  },
  {
   "cell_type": "code",
   "execution_count": 22,
   "metadata": {},
   "outputs": [],
   "source": [
    "    current_URL = \"https://www.6pm.com/women-shoes/CK_XAXoC1ASCAQKfGMABAeICAwEYDw.zso?s=isNew/desc/goLiveDate/desc/recentSalesStyle/desc/&p=27\""
   ]
  },
  {
   "cell_type": "code",
   "execution_count": null,
   "metadata": {
    "scrolled": true
   },
   "outputs": [
    {
     "name": "stdout",
     "output_type": "stream",
     "text": [
      "current URL:  https://www.6pm.com/women-shoes/CK_XAXoC1ASCAQKfGMABAeICAwEYDw.zso?s=isNew/desc/goLiveDate/desc/recentSalesStyle/desc/&p=27\n",
      "current URL:  https://www.6pm.com/women-shoes/CK_XAXoC1ASCAQKfGMABAeICAwEYDw.zso?s=isNew/desc/goLiveDate/desc/recentSalesStyle/desc/&p=28\n",
      "current URL:  https://www.6pm.com/women-shoes/CK_XAXoC1ASCAQKfGMABAeICAwEYDw.zso?s=isNew/desc/goLiveDate/desc/recentSalesStyle/desc/&p=29\n"
     ]
    }
   ],
   "source": [
    "#current_URL = URL2\n",
    "signal = 0\n",
    "pd_images = pd.DataFrame(columns=['image_link', 'jpeg', 'shoes_link'])\n",
    "while(signal == 0):\n",
    "    current_page = requests.get(current_URL, cookies = cookie_jar)\n",
    "    print(\"current URL: \", current_URL)\n",
    "    current_soup = BeautifulSoup(current_page.text, 'html.parser')\n",
    "    links = extract_links_from_soup(current_soup)\n",
    "    pd_images = fill_images_to_dataframe(links, pd_images)\n",
    "    save_jpegs(pd_images)\n",
    "    time.sleep(3)\n",
    "    try: \n",
    "        current_URL = \"https://www.6pm.com\" + current_soup.findAll('a', {'rel': 'next'})[0]['href']\n",
    "    except:\n",
    "        print(\"Key Error: End of Search!\")\n",
    "        signal = 1\n",
    "        \n",
    "    "
   ]
  },
  {
   "cell_type": "code",
   "execution_count": null,
   "metadata": {},
   "outputs": [],
   "source": [
    "pd_images.shape"
   ]
  },
  {
   "cell_type": "code",
   "execution_count": null,
   "metadata": {},
   "outputs": [],
   "source": []
  },
  {
   "cell_type": "code",
   "execution_count": null,
   "metadata": {},
   "outputs": [],
   "source": [
    "current_URL"
   ]
  },
  {
   "cell_type": "code",
   "execution_count": null,
   "metadata": {
    "scrolled": true
   },
   "outputs": [],
   "source": [
    "pd_images"
   ]
  },
  {
   "cell_type": "code",
   "execution_count": null,
   "metadata": {},
   "outputs": [],
   "source": [
    "import matplotlib.pyplot as plt"
   ]
  },
  {
   "cell_type": "code",
   "execution_count": null,
   "metadata": {},
   "outputs": [],
   "source": [
    "from PIL import Image\n",
    "im.show()\n"
   ]
  },
  {
   "cell_type": "code",
   "execution_count": null,
   "metadata": {},
   "outputs": [],
   "source": [
    "# numpy arrays"
   ]
  },
  {
   "cell_type": "code",
   "execution_count": null,
   "metadata": {},
   "outputs": [],
   "source": [
    "plt.imshow()"
   ]
  },
  {
   "cell_type": "code",
   "execution_count": null,
   "metadata": {},
   "outputs": [],
   "source": [
    "# result = soup_current.find_all('img',{'alt':'BOTT'})\n",
    "# for x in result:\n",
    "#    print(x['src'])\n",
    "\n",
    "# soup_current.find('img',{'alt':'BOTT'})['src']"
   ]
  }
 ],
 "metadata": {
  "kernelspec": {
   "display_name": "Python [default]",
   "language": "python",
   "name": "python3"
  },
  "language_info": {
   "codemirror_mode": {
    "name": "ipython",
    "version": 3
   },
   "file_extension": ".py",
   "mimetype": "text/x-python",
   "name": "python",
   "nbconvert_exporter": "python",
   "pygments_lexer": "ipython3",
   "version": "3.6.5"
  }
 },
 "nbformat": 4,
 "nbformat_minor": 2
}
