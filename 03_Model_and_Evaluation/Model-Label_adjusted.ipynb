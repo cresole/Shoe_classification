{
 "cells": [
  {
   "cell_type": "code",
   "execution_count": 4,
   "metadata": {},
   "outputs": [],
   "source": [
    "import numpy as np\n",
    "import pandas as pd\n",
    "import seaborn as sns\n",
    "import matplotlib.pyplot as plt\n",
    "import keras\n",
    "import itertools\n",
    "\n",
    "from sklearn.preprocessing import StandardScaler\n",
    "from sklearn.model_selection import train_test_split\n",
    "\n",
    "from keras.models import Sequential\n",
    "from keras.layers import Dense, Dropout, Activation, Flatten\n",
    "from keras.layers import Conv2D, MaxPooling2D\n",
    "from sklearn.metrics import confusion_matrix\n",
    "\n",
    "\n",
    "%matplotlib inline"
   ]
  },
  {
   "cell_type": "code",
   "execution_count": 5,
   "metadata": {},
   "outputs": [
    {
     "data": {
      "text/plain": [
       "'0.9.0'"
      ]
     },
     "execution_count": 5,
     "metadata": {},
     "output_type": "execute_result"
    }
   ],
   "source": [
    "sns.__version__"
   ]
  },
  {
   "cell_type": "markdown",
   "metadata": {},
   "source": [
    "### Read in Images and Labels"
   ]
  },
  {
   "cell_type": "code",
   "execution_count": 6,
   "metadata": {},
   "outputs": [],
   "source": [
    "pd_images = pd.read_csv(\"pd_images_label_adjust.csv\")"
   ]
  },
  {
   "cell_type": "code",
   "execution_count": 7,
   "metadata": {},
   "outputs": [
    {
     "data": {
      "text/html": [
       "<div>\n",
       "<style scoped>\n",
       "    .dataframe tbody tr th:only-of-type {\n",
       "        vertical-align: middle;\n",
       "    }\n",
       "\n",
       "    .dataframe tbody tr th {\n",
       "        vertical-align: top;\n",
       "    }\n",
       "\n",
       "    .dataframe thead th {\n",
       "        text-align: right;\n",
       "    }\n",
       "</style>\n",
       "<table border=\"1\" class=\"dataframe\">\n",
       "  <thead>\n",
       "    <tr style=\"text-align: right;\">\n",
       "      <th></th>\n",
       "      <th>0</th>\n",
       "      <th>1</th>\n",
       "      <th>2</th>\n",
       "      <th>3</th>\n",
       "      <th>4</th>\n",
       "      <th>5</th>\n",
       "      <th>6</th>\n",
       "      <th>7</th>\n",
       "      <th>8</th>\n",
       "      <th>9</th>\n",
       "      <th>...</th>\n",
       "      <th>24794</th>\n",
       "      <th>24795</th>\n",
       "      <th>24796</th>\n",
       "      <th>24797</th>\n",
       "      <th>24798</th>\n",
       "      <th>24799</th>\n",
       "      <th>24800</th>\n",
       "      <th>24801</th>\n",
       "      <th>24802</th>\n",
       "      <th>24803</th>\n",
       "    </tr>\n",
       "  </thead>\n",
       "  <tbody>\n",
       "    <tr>\n",
       "      <th>0</th>\n",
       "      <td>255.0</td>\n",
       "      <td>255.0</td>\n",
       "      <td>255.0</td>\n",
       "      <td>255.0</td>\n",
       "      <td>255.0</td>\n",
       "      <td>255.0</td>\n",
       "      <td>255.0</td>\n",
       "      <td>255.0</td>\n",
       "      <td>255.0</td>\n",
       "      <td>255.0</td>\n",
       "      <td>...</td>\n",
       "      <td>255.0</td>\n",
       "      <td>255.0</td>\n",
       "      <td>255.0</td>\n",
       "      <td>255.0</td>\n",
       "      <td>255.0</td>\n",
       "      <td>255.0</td>\n",
       "      <td>255.0</td>\n",
       "      <td>255.0</td>\n",
       "      <td>255.0</td>\n",
       "      <td>255.0</td>\n",
       "    </tr>\n",
       "    <tr>\n",
       "      <th>1</th>\n",
       "      <td>255.0</td>\n",
       "      <td>255.0</td>\n",
       "      <td>255.0</td>\n",
       "      <td>255.0</td>\n",
       "      <td>255.0</td>\n",
       "      <td>255.0</td>\n",
       "      <td>255.0</td>\n",
       "      <td>255.0</td>\n",
       "      <td>255.0</td>\n",
       "      <td>255.0</td>\n",
       "      <td>...</td>\n",
       "      <td>255.0</td>\n",
       "      <td>255.0</td>\n",
       "      <td>255.0</td>\n",
       "      <td>255.0</td>\n",
       "      <td>255.0</td>\n",
       "      <td>255.0</td>\n",
       "      <td>255.0</td>\n",
       "      <td>255.0</td>\n",
       "      <td>255.0</td>\n",
       "      <td>255.0</td>\n",
       "    </tr>\n",
       "    <tr>\n",
       "      <th>2</th>\n",
       "      <td>255.0</td>\n",
       "      <td>255.0</td>\n",
       "      <td>255.0</td>\n",
       "      <td>255.0</td>\n",
       "      <td>255.0</td>\n",
       "      <td>255.0</td>\n",
       "      <td>255.0</td>\n",
       "      <td>255.0</td>\n",
       "      <td>255.0</td>\n",
       "      <td>255.0</td>\n",
       "      <td>...</td>\n",
       "      <td>255.0</td>\n",
       "      <td>255.0</td>\n",
       "      <td>255.0</td>\n",
       "      <td>255.0</td>\n",
       "      <td>255.0</td>\n",
       "      <td>255.0</td>\n",
       "      <td>255.0</td>\n",
       "      <td>255.0</td>\n",
       "      <td>255.0</td>\n",
       "      <td>255.0</td>\n",
       "    </tr>\n",
       "    <tr>\n",
       "      <th>3</th>\n",
       "      <td>255.0</td>\n",
       "      <td>255.0</td>\n",
       "      <td>255.0</td>\n",
       "      <td>255.0</td>\n",
       "      <td>255.0</td>\n",
       "      <td>255.0</td>\n",
       "      <td>255.0</td>\n",
       "      <td>255.0</td>\n",
       "      <td>255.0</td>\n",
       "      <td>255.0</td>\n",
       "      <td>...</td>\n",
       "      <td>255.0</td>\n",
       "      <td>255.0</td>\n",
       "      <td>255.0</td>\n",
       "      <td>255.0</td>\n",
       "      <td>255.0</td>\n",
       "      <td>255.0</td>\n",
       "      <td>255.0</td>\n",
       "      <td>255.0</td>\n",
       "      <td>255.0</td>\n",
       "      <td>255.0</td>\n",
       "    </tr>\n",
       "    <tr>\n",
       "      <th>4</th>\n",
       "      <td>255.0</td>\n",
       "      <td>255.0</td>\n",
       "      <td>255.0</td>\n",
       "      <td>255.0</td>\n",
       "      <td>255.0</td>\n",
       "      <td>255.0</td>\n",
       "      <td>255.0</td>\n",
       "      <td>255.0</td>\n",
       "      <td>255.0</td>\n",
       "      <td>255.0</td>\n",
       "      <td>...</td>\n",
       "      <td>255.0</td>\n",
       "      <td>255.0</td>\n",
       "      <td>255.0</td>\n",
       "      <td>255.0</td>\n",
       "      <td>255.0</td>\n",
       "      <td>255.0</td>\n",
       "      <td>255.0</td>\n",
       "      <td>255.0</td>\n",
       "      <td>255.0</td>\n",
       "      <td>255.0</td>\n",
       "    </tr>\n",
       "  </tbody>\n",
       "</table>\n",
       "<p>5 rows × 24804 columns</p>\n",
       "</div>"
      ],
      "text/plain": [
       "       0      1      2      3      4      5      6      7      8      9  \\\n",
       "0  255.0  255.0  255.0  255.0  255.0  255.0  255.0  255.0  255.0  255.0   \n",
       "1  255.0  255.0  255.0  255.0  255.0  255.0  255.0  255.0  255.0  255.0   \n",
       "2  255.0  255.0  255.0  255.0  255.0  255.0  255.0  255.0  255.0  255.0   \n",
       "3  255.0  255.0  255.0  255.0  255.0  255.0  255.0  255.0  255.0  255.0   \n",
       "4  255.0  255.0  255.0  255.0  255.0  255.0  255.0  255.0  255.0  255.0   \n",
       "\n",
       "   ...    24794  24795  24796  24797  24798  24799  24800  24801  24802  24803  \n",
       "0  ...    255.0  255.0  255.0  255.0  255.0  255.0  255.0  255.0  255.0  255.0  \n",
       "1  ...    255.0  255.0  255.0  255.0  255.0  255.0  255.0  255.0  255.0  255.0  \n",
       "2  ...    255.0  255.0  255.0  255.0  255.0  255.0  255.0  255.0  255.0  255.0  \n",
       "3  ...    255.0  255.0  255.0  255.0  255.0  255.0  255.0  255.0  255.0  255.0  \n",
       "4  ...    255.0  255.0  255.0  255.0  255.0  255.0  255.0  255.0  255.0  255.0  \n",
       "\n",
       "[5 rows x 24804 columns]"
      ]
     },
     "execution_count": 7,
     "metadata": {},
     "output_type": "execute_result"
    }
   ],
   "source": [
    "pd_images.head()"
   ]
  },
  {
   "cell_type": "code",
   "execution_count": 8,
   "metadata": {},
   "outputs": [],
   "source": [
    "labels = pd.read_csv(\"labels_label_adjust.csv\")"
   ]
  },
  {
   "cell_type": "code",
   "execution_count": 9,
   "metadata": {},
   "outputs": [
    {
     "data": {
      "text/html": [
       "<div>\n",
       "<style scoped>\n",
       "    .dataframe tbody tr th:only-of-type {\n",
       "        vertical-align: middle;\n",
       "    }\n",
       "\n",
       "    .dataframe tbody tr th {\n",
       "        vertical-align: top;\n",
       "    }\n",
       "\n",
       "    .dataframe thead th {\n",
       "        text-align: right;\n",
       "    }\n",
       "</style>\n",
       "<table border=\"1\" class=\"dataframe\">\n",
       "  <thead>\n",
       "    <tr style=\"text-align: right;\">\n",
       "      <th></th>\n",
       "      <th>label</th>\n",
       "    </tr>\n",
       "  </thead>\n",
       "  <tbody>\n",
       "    <tr>\n",
       "      <th>0</th>\n",
       "      <td>1</td>\n",
       "    </tr>\n",
       "    <tr>\n",
       "      <th>1</th>\n",
       "      <td>1</td>\n",
       "    </tr>\n",
       "    <tr>\n",
       "      <th>2</th>\n",
       "      <td>1</td>\n",
       "    </tr>\n",
       "    <tr>\n",
       "      <th>3</th>\n",
       "      <td>1</td>\n",
       "    </tr>\n",
       "    <tr>\n",
       "      <th>4</th>\n",
       "      <td>1</td>\n",
       "    </tr>\n",
       "  </tbody>\n",
       "</table>\n",
       "</div>"
      ],
      "text/plain": [
       "   label\n",
       "0      1\n",
       "1      1\n",
       "2      1\n",
       "3      1\n",
       "4      1"
      ]
     },
     "execution_count": 9,
     "metadata": {},
     "output_type": "execute_result"
    }
   ],
   "source": [
    "labels.head()"
   ]
  },
  {
   "cell_type": "code",
   "execution_count": 10,
   "metadata": {},
   "outputs": [
    {
     "data": {
      "text/plain": [
       "(4452, 1)"
      ]
     },
     "execution_count": 10,
     "metadata": {},
     "output_type": "execute_result"
    }
   ],
   "source": [
    "labels.shape"
   ]
  },
  {
   "cell_type": "markdown",
   "metadata": {},
   "source": [
    "### Class Balance Check"
   ]
  },
  {
   "cell_type": "code",
   "execution_count": 11,
   "metadata": {},
   "outputs": [
    {
     "data": {
      "text/plain": [
       "2    1916\n",
       "3    1277\n",
       "1    1259\n",
       "Name: label, dtype: int64"
      ]
     },
     "execution_count": 11,
     "metadata": {},
     "output_type": "execute_result"
    }
   ],
   "source": [
    "labels['label'].value_counts()"
   ]
  },
  {
   "cell_type": "code",
   "execution_count": 12,
   "metadata": {},
   "outputs": [
    {
     "data": {
      "text/plain": [
       "2    0.430368\n",
       "3    0.286837\n",
       "1    0.282794\n",
       "Name: label, dtype: float64"
      ]
     },
     "execution_count": 12,
     "metadata": {},
     "output_type": "execute_result"
    }
   ],
   "source": [
    "labels['label'].value_counts()/4452"
   ]
  },
  {
   "cell_type": "code",
   "execution_count": 13,
   "metadata": {},
   "outputs": [
    {
     "data": {
      "text/plain": [
       "((4452, 24804), (4452, 1))"
      ]
     },
     "execution_count": 13,
     "metadata": {},
     "output_type": "execute_result"
    }
   ],
   "source": [
    "pd_images.shape, labels.shape"
   ]
  },
  {
   "cell_type": "markdown",
   "metadata": {},
   "source": [
    "### Normalize Data"
   ]
  },
  {
   "cell_type": "code",
   "execution_count": 14,
   "metadata": {},
   "outputs": [],
   "source": [
    "# Use simple neural network to do supervised learning\n",
    "pd_images_sc = pd_images / 255"
   ]
  },
  {
   "cell_type": "code",
   "execution_count": 15,
   "metadata": {},
   "outputs": [],
   "source": [
    "from keras.utils.np_utils import to_categorical\n",
    "\n",
    "categorical_labels = to_categorical(labels-1)"
   ]
  },
  {
   "cell_type": "markdown",
   "metadata": {},
   "source": [
    "### Train test split and reshape"
   ]
  },
  {
   "cell_type": "code",
   "execution_count": 16,
   "metadata": {},
   "outputs": [],
   "source": [
    "X_train, X_test, y_train, y_test = train_test_split(pd_images_sc, categorical_labels, random_state = 42)"
   ]
  },
  {
   "cell_type": "code",
   "execution_count": 17,
   "metadata": {},
   "outputs": [
    {
     "data": {
      "text/plain": [
       "((3339, 24804), (1113, 24804), (3339, 3), (1113, 3))"
      ]
     },
     "execution_count": 17,
     "metadata": {},
     "output_type": "execute_result"
    }
   ],
   "source": [
    "X_train.shape, X_test.shape, y_train.shape, y_test.shape"
   ]
  },
  {
   "cell_type": "code",
   "execution_count": 18,
   "metadata": {},
   "outputs": [],
   "source": [
    "X_train_2d = np.array(X_train).reshape(X_train.shape[0], 78, 106, 3)\n",
    "X_test_2d = np.array(X_test).reshape(X_test.shape[0], 78, 106, 3)"
   ]
  },
  {
   "cell_type": "markdown",
   "metadata": {},
   "source": [
    "### Convolutional Neural Network Model 4"
   ]
  },
  {
   "cell_type": "code",
   "execution_count": 28,
   "metadata": {},
   "outputs": [],
   "source": [
    "model_4 = Sequential()\n",
    "\n",
    "model_4.add(Conv2D(filters = 6,          \n",
    "                 kernel_size = 3,     \n",
    "                 activation = 'relu',\n",
    "                 input_shape = X_train_2d.shape[1:]))\n",
    "            \n",
    "model_4.add(MaxPooling2D(pool_size = (2,2)))\n",
    "            \n",
    "model_4.add(Conv2D(filters = 12,          \n",
    "                 kernel_size = 6,     \n",
    "                 activation = 'relu'))\n",
    "            \n",
    "model_4.add(MaxPooling2D(pool_size = (2,2)))\n",
    "\n",
    "model_4.add(Dropout(rate = 0.5))\n",
    "            \n",
    "model_4.add(Flatten())\n",
    "            \n",
    "model_4.add(Dense(128, activation = 'relu'))\n",
    "\n",
    "model_4.add(Dropout(rate = 0.5))\n",
    "\n",
    "model_4.add(Dense(3, activation='softmax'))\n",
    "\n",
    "model_4.compile(optimizer='adam',metrics=['accuracy'],loss='categorical_crossentropy')"
   ]
  },
  {
   "cell_type": "code",
   "execution_count": 29,
   "metadata": {},
   "outputs": [
    {
     "name": "stdout",
     "output_type": "stream",
     "text": [
      "Train on 3339 samples, validate on 1113 samples\n",
      "Epoch 1/20\n",
      "3339/3339 [==============================] - 16s 5ms/step - loss: 0.7474 - acc: 0.6565 - val_loss: 0.6239 - val_acc: 0.7062\n",
      "Epoch 2/20\n",
      "3339/3339 [==============================] - 15s 5ms/step - loss: 0.6079 - acc: 0.7370 - val_loss: 0.5359 - val_acc: 0.7835\n",
      "Epoch 3/20\n",
      "3339/3339 [==============================] - 15s 5ms/step - loss: 0.5393 - acc: 0.7670 - val_loss: 0.5042 - val_acc: 0.7871\n",
      "Epoch 4/20\n",
      "3339/3339 [==============================] - 15s 5ms/step - loss: 0.5230 - acc: 0.7817 - val_loss: 0.4766 - val_acc: 0.8014\n",
      "Epoch 5/20\n",
      "3339/3339 [==============================] - 15s 5ms/step - loss: 0.4932 - acc: 0.7913 - val_loss: 0.4704 - val_acc: 0.8041\n",
      "Epoch 6/20\n",
      "3339/3339 [==============================] - 15s 5ms/step - loss: 0.4673 - acc: 0.8008 - val_loss: 0.4566 - val_acc: 0.8050\n",
      "Epoch 7/20\n",
      "3339/3339 [==============================] - 15s 5ms/step - loss: 0.4432 - acc: 0.8107 - val_loss: 0.4394 - val_acc: 0.8140\n",
      "Epoch 8/20\n",
      "3339/3339 [==============================] - 15s 5ms/step - loss: 0.4323 - acc: 0.8197 - val_loss: 0.4310 - val_acc: 0.8158\n",
      "Epoch 9/20\n",
      "3339/3339 [==============================] - 16s 5ms/step - loss: 0.4056 - acc: 0.8299 - val_loss: 0.4240 - val_acc: 0.8194\n",
      "Epoch 10/20\n",
      "3339/3339 [==============================] - 15s 5ms/step - loss: 0.4123 - acc: 0.8278 - val_loss: 0.4281 - val_acc: 0.8077\n",
      "Epoch 11/20\n",
      "3339/3339 [==============================] - 15s 5ms/step - loss: 0.3912 - acc: 0.8335 - val_loss: 0.4102 - val_acc: 0.8257\n",
      "Epoch 12/20\n",
      "3339/3339 [==============================] - 15s 5ms/step - loss: 0.3933 - acc: 0.8350 - val_loss: 0.4159 - val_acc: 0.8203\n",
      "Epoch 13/20\n",
      "3339/3339 [==============================] - 15s 5ms/step - loss: 0.3811 - acc: 0.8428 - val_loss: 0.4026 - val_acc: 0.8185\n",
      "Epoch 14/20\n",
      "3339/3339 [==============================] - 15s 5ms/step - loss: 0.3713 - acc: 0.8497 - val_loss: 0.3998 - val_acc: 0.8266\n",
      "Epoch 15/20\n",
      "3339/3339 [==============================] - 15s 5ms/step - loss: 0.3483 - acc: 0.8601 - val_loss: 0.4357 - val_acc: 0.8077\n",
      "Epoch 16/20\n",
      "3339/3339 [==============================] - 15s 5ms/step - loss: 0.3503 - acc: 0.8565 - val_loss: 0.4034 - val_acc: 0.8230\n",
      "Epoch 17/20\n",
      "3339/3339 [==============================] - 15s 5ms/step - loss: 0.3329 - acc: 0.8637 - val_loss: 0.4100 - val_acc: 0.8248\n",
      "Epoch 18/20\n",
      "3339/3339 [==============================] - 15s 5ms/step - loss: 0.3377 - acc: 0.8574 - val_loss: 0.3934 - val_acc: 0.8374\n",
      "Epoch 19/20\n",
      "3339/3339 [==============================] - 15s 5ms/step - loss: 0.3140 - acc: 0.8691 - val_loss: 0.3979 - val_acc: 0.8167\n",
      "Epoch 20/20\n",
      "3339/3339 [==============================] - 15s 5ms/step - loss: 0.3132 - acc: 0.8706 - val_loss: 0.3943 - val_acc: 0.8257\n"
     ]
    }
   ],
   "source": [
    "history_4 = model_4.fit(x = X_train_2d,y = y_train, batch_size=32, epochs = 20, validation_data=(X_test_2d, y_test))"
   ]
  },
  {
   "cell_type": "markdown",
   "metadata": {},
   "source": [
    "### Result Analysis"
   ]
  },
  {
   "cell_type": "code",
   "execution_count": 30,
   "metadata": {},
   "outputs": [],
   "source": [
    "def plot_confusion_matrix(cm, classes,\n",
    "                          normalize=False,\n",
    "                          title='Confusion matrix',\n",
    "                          cmap=plt.cm.Blues):\n",
    "    \"\"\"\n",
    "    This function prints and plots the confusion matrix.\n",
    "    Normalization can be applied by setting `normalize=True`.\n",
    "    \"\"\"\n",
    "    if normalize:\n",
    "        cm = cm.astype('float') / cm.sum(axis=1)[:, np.newaxis]\n",
    "        print(\"Normalized confusion matrix\")\n",
    "    else:\n",
    "        print('Confusion matrix, without normalization')\n",
    "\n",
    "    print(cm)\n",
    "\n",
    "    plt.imshow(cm, interpolation='nearest', cmap=cmap)\n",
    "    plt.title(title)\n",
    "    plt.colorbar()\n",
    "    tick_marks = np.arange(len(classes))\n",
    "    plt.xticks(tick_marks, classes, rotation=45)\n",
    "    plt.yticks(tick_marks, classes)\n",
    "\n",
    "    fmt = '.2f' if normalize else 'd'\n",
    "    thresh = cm.max() / 2.\n",
    "    for i, j in itertools.product(range(cm.shape[0]), range(cm.shape[1])):\n",
    "        plt.text(j, i, format(cm[i, j], fmt),\n",
    "                 horizontalalignment=\"center\",\n",
    "                 color=\"white\" if cm[i, j] > thresh else \"black\")\n",
    "\n",
    "    plt.ylabel('True label')\n",
    "    plt.xlabel('Predicted label')\n",
    "    plt.tight_layout()\n",
    "    print(\"\\n\")\n"
   ]
  },
  {
   "cell_type": "code",
   "execution_count": 31,
   "metadata": {
    "scrolled": true
   },
   "outputs": [],
   "source": [
    "def draw_confusion_matrix(model = model_4):\n",
    "    # Define class names:\n",
    "    class_names = ['Type 1', 'Type 2', 'Type 3']\n",
    "    \n",
    "    # Compute prediction\n",
    "    pred = model.predict(np.array(X_test_2d))\n",
    "    \n",
    "    # Compute confusion matrix\n",
    "    C = confusion_matrix([np.argmax(y) for y in y_test], [np.argmax(y) for y in pred])\n",
    "    #np.set_printoptions(precision=1)\n",
    "\n",
    "\n",
    "    # Plot non-normalized confusion matrix\n",
    "    plt.figure()\n",
    "    plot_confusion_matrix(C, classes=class_names,\n",
    "                          title='Confusion matrix, without normalization')\n",
    "\n",
    "    # Plot normalized confusion matrix\n",
    "    plt.figure()\n",
    "    plot_confusion_matrix(C, classes=class_names, normalize=True,\n",
    "                          title='Normalized confusion matrix')\n",
    "\n",
    "    plt.show()\n",
    "\n"
   ]
  },
  {
   "cell_type": "code",
   "execution_count": 32,
   "metadata": {},
   "outputs": [
    {
     "name": "stdout",
     "output_type": "stream",
     "text": [
      "Confusion matrix, without normalization\n",
      "[[209 124   2]\n",
      " [ 27 435  21]\n",
      " [  4  16 275]]\n",
      "\n",
      "\n",
      "Normalized confusion matrix\n",
      "[[0.6238806  0.37014925 0.00597015]\n",
      " [0.05590062 0.90062112 0.04347826]\n",
      " [0.01355932 0.05423729 0.93220339]]\n",
      "\n",
      "\n"
     ]
    },
    {
     "data": {
      "image/png": "[encoded data removed]",
      "text/plain": [
       "<Figure size 432x288 with 2 Axes>"
      ]
     },
     "metadata": {},
     "output_type": "display_data"
    },
    {
     "data": {
      "image/png": "[encoded data removed]",
      "text/plain": [
       "<Figure size 432x288 with 2 Axes>"
      ]
     },
     "metadata": {},
     "output_type": "display_data"
    }
   ],
   "source": [
    "draw_confusion_matrix(model_4)"
   ]
  },
  {
   "cell_type": "code",
   "execution_count": 33,
   "metadata": {},
   "outputs": [
    {
     "data": {
      "image/png": "[encoded data removed]",
      "text/plain": [
       "<Figure size 432x288 with 1 Axes>"
      ]
     },
     "metadata": {},
     "output_type": "display_data"
    }
   ],
   "source": [
    "def plot_accuracy(history = history_4):\n",
    "    ax = sns.lineplot(history.epoch, history.history['acc'], label=\"Train\")\n",
    "    sns.lineplot(history.epoch, history.history['val_acc'], label='Test')\n",
    "    ax.axes.set_title(\"Model Accuracy\", fontsize=20)\n",
    "    ax.axes.set_xlabel(\"Epoch\", fontsize =12)\n",
    "    ax.axes.set_ylabel(\"Accuracy\", fontsize=12)\n",
    "    ax.axes.get_legend()\n",
    "\n",
    "plot_accuracy(history_4)"
   ]
  },
  {
   "cell_type": "code",
   "execution_count": null,
   "metadata": {},
   "outputs": [],
   "source": [
    "def plot_loss(history = history_4):\n",
    "    ax = sns.lineplot(history.epoch, history.history['loss'], label='Train')\n",
    "    sns.lineplot(history.epoch, history.history['val_loss'], label='Test')\n",
    "    ax.axes.set_title(\"Model Loss\", fontsize=20)\n",
    "    ax.axes.set_xlabel(\"Epoch\", fontsize =12)\n",
    "    ax.axes.set_ylabel(\"Loss\", fontsize=12)\n",
    "    ax.axes.get_leg44end()\n",
    "\n",
    "plot_loss(history_4)"
   ]
  },
  {
   "cell_type": "markdown",
   "metadata": {},
   "source": [
    "### Convolutional Neural Network Model 3"
   ]
  },
  {
   "cell_type": "code",
   "execution_count": 19,
   "metadata": {},
   "outputs": [],
   "source": [
    "model_3 = Sequential()\n",
    "\n",
    "model_3.add(Conv2D(filters = 6,          \n",
    "                 kernel_size = 3,     \n",
    "                 activation = 'relu',\n",
    "                 input_shape = X_train_2d.shape[1:]))\n",
    "            \n",
    "model_3.add(MaxPooling2D(pool_size = (2,2)))\n",
    "            \n",
    "model_3.add(Conv2D(filters = 12,          \n",
    "                 kernel_size = 6,     \n",
    "                 activation = 'relu'))\n",
    "            \n",
    "model_3.add(MaxPooling2D(pool_size = (2,2)))\n",
    "            \n",
    "model_3.add(Flatten())\n",
    "            \n",
    "model_3.add(Dense(128, activation = 'relu'))\n",
    "\n",
    "model_3.add(Dense(3, activation='softmax'))\n",
    "\n",
    "model_3.compile(optimizer='adam',metrics=['accuracy'],loss='categorical_crossentropy')"
   ]
  },
  {
   "cell_type": "code",
   "execution_count": 20,
   "metadata": {},
   "outputs": [
    {
     "name": "stdout",
     "output_type": "stream",
     "text": [
      "Train on 3339 samples, validate on 1113 samples\n",
      "Epoch 1/10\n",
      "3339/3339 [==============================] - 49s 15ms/step - loss: 0.6977 - acc: 0.6867 - val_loss: 0.6043 - val_acc: 0.7260\n",
      "Epoch 2/10\n",
      "3339/3339 [==============================] - 33s 10ms/step - loss: 0.5259 - acc: 0.7766 - val_loss: 0.4788 - val_acc: 0.7871\n",
      "Epoch 3/10\n",
      "3339/3339 [==============================] - 15s 5ms/step - loss: 0.4807 - acc: 0.7951 - val_loss: 0.4632 - val_acc: 0.8149\n",
      "Epoch 4/10\n",
      "3339/3339 [==============================] - 15s 5ms/step - loss: 0.4458 - acc: 0.8137 - val_loss: 0.4470 - val_acc: 0.8032\n",
      "Epoch 5/10\n",
      "3339/3339 [==============================] - 15s 5ms/step - loss: 0.4058 - acc: 0.8341 - val_loss: 0.4477 - val_acc: 0.7880\n",
      "Epoch 6/10\n",
      "3339/3339 [==============================] - 15s 5ms/step - loss: 0.3739 - acc: 0.8488 - val_loss: 0.4255 - val_acc: 0.8293\n",
      "Epoch 7/10\n",
      "3339/3339 [==============================] - 15s 4ms/step - loss: 0.3450 - acc: 0.8613 - val_loss: 0.4079 - val_acc: 0.8365\n",
      "Epoch 8/10\n",
      "3339/3339 [==============================] - 15s 4ms/step - loss: 0.3143 - acc: 0.8724 - val_loss: 0.4632 - val_acc: 0.8239\n",
      "Epoch 9/10\n",
      "3339/3339 [==============================] - 15s 4ms/step - loss: 0.3007 - acc: 0.8772 - val_loss: 0.4036 - val_acc: 0.8374\n",
      "Epoch 10/10\n",
      "3339/3339 [==============================] - 15s 4ms/step - loss: 0.2902 - acc: 0.8862 - val_loss: 0.4203 - val_acc: 0.8167\n"
     ]
    }
   ],
   "source": [
    "history_3 = model_3.fit(x=X_train_2d,y=y_train,batch_size=32, epochs = 10, validation_data=(X_test_2d, y_test))"
   ]
  },
  {
   "cell_type": "code",
   "execution_count": 27,
   "metadata": {},
   "outputs": [
    {
     "name": "stdout",
     "output_type": "stream",
     "text": [
      "Confusion matrix, without normalization\n",
      "[[262  72   1]\n",
      " [ 90 386   7]\n",
      " [  5  29 261]]\n",
      "\n",
      "\n",
      "Normalized confusion matrix\n",
      "[[0.78208955 0.21492537 0.00298507]\n",
      " [0.1863354  0.79917184 0.01449275]\n",
      " [0.01694915 0.09830508 0.88474576]]\n",
      "\n",
      "\n"
     ]
    },
    {
     "data": {
      "image/png": "[encoded data removed]",
      "text/plain": [
       "<Figure size 432x288 with 2 Axes>"
      ]
     },
     "metadata": {},
     "output_type": "display_data"
    },
    {
     "data": {
      "image/png": "[encoded data removed]",
      "text/plain": [
       "<Figure size 432x288 with 2 Axes>"
      ]
     },
     "metadata": {},
     "output_type": "display_data"
    }
   ],
   "source": [
    "draw_confusion_matrix(model_3)"
   ]
  },
  {
   "cell_type": "code",
   "execution_count": 35,
   "metadata": {},
   "outputs": [
    {
     "data": {
      "image/png": "[encoded data removed]",
      "text/plain": [
       "<Figure size 432x288 with 1 Axes>"
      ]
     },
     "metadata": {},
     "output_type": "display_data"
    }
   ],
   "source": [
    "plot_accuracy(history_3)"
   ]
  },
  {
   "cell_type": "code",
   "execution_count": 38,
   "metadata": {},
   "outputs": [
    {
     "data": {
      "image/png": "[encoded data removed]",
      "text/plain": [
       "<Figure size 432x288 with 1 Axes>"
      ]
     },
     "metadata": {},
     "output_type": "display_data"
    }
   ],
   "source": [
    "plot_loss(history_3)"
   ]
  },
  {
   "cell_type": "code",
   "execution_count": null,
   "metadata": {},
   "outputs": [],
   "source": []
  }
 ],
 "metadata": {
  "kernelspec": {
   "display_name": "Python [conda env:anaconda3]",
   "language": "python",
   "name": "conda-env-anaconda3-py"
  },
  "language_info": {
   "codemirror_mode": {
    "name": "ipython",
    "version": 3
   },
   "file_extension": ".py",
   "mimetype": "text/x-python",
   "name": "python",
   "nbconvert_exporter": "python",
   "pygments_lexer": "ipython3",
   "version": "3.6.5"
  }
 },
 "nbformat": 4,
 "nbformat_minor": 2
}
