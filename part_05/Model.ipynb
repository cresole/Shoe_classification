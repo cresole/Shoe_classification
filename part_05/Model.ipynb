{
 "cells": [
  {
   "cell_type": "code",
   "execution_count": 37,
   "metadata": {},
   "outputs": [],
   "source": [
    "import numpy as np\n",
    "import pandas as pd\n",
    "import seaborn as sns\n",
    "import matplotlib.pyplot as plt\n",
    "import keras\n",
    "import itertools\n",
    "\n",
    "from sklearn.preprocessing import StandardScaler\n",
    "from sklearn.model_selection import train_test_split\n",
    "\n",
    "from keras.models import Sequential\n",
    "from keras.layers import Dense, Dropout, Activation, Flatten\n",
    "from keras.layers import Conv2D, MaxPooling2D\n",
    "from sklearn.metrics import confusion_matrix\n",
    "\n",
    "\n",
    "%matplotlib inline"
   ]
  },
  {
   "cell_type": "code",
   "execution_count": 4,
   "metadata": {},
   "outputs": [],
   "source": [
    "pd_images = pd.read_csv(\"pd_images.csv\")"
   ]
  },
  {
   "cell_type": "code",
   "execution_count": 5,
   "metadata": {},
   "outputs": [
    {
     "data": {
      "text/html": [
       "<div>\n",
       "<style scoped>\n",
       "    .dataframe tbody tr th:only-of-type {\n",
       "        vertical-align: middle;\n",
       "    }\n",
       "\n",
       "    .dataframe tbody tr th {\n",
       "        vertical-align: top;\n",
       "    }\n",
       "\n",
       "    .dataframe thead th {\n",
       "        text-align: right;\n",
       "    }\n",
       "</style>\n",
       "<table border=\"1\" class=\"dataframe\">\n",
       "  <thead>\n",
       "    <tr style=\"text-align: right;\">\n",
       "      <th></th>\n",
       "      <th>0</th>\n",
       "      <th>1</th>\n",
       "      <th>2</th>\n",
       "      <th>3</th>\n",
       "      <th>4</th>\n",
       "      <th>5</th>\n",
       "      <th>6</th>\n",
       "      <th>7</th>\n",
       "      <th>8</th>\n",
       "      <th>9</th>\n",
       "      <th>...</th>\n",
       "      <th>24794</th>\n",
       "      <th>24795</th>\n",
       "      <th>24796</th>\n",
       "      <th>24797</th>\n",
       "      <th>24798</th>\n",
       "      <th>24799</th>\n",
       "      <th>24800</th>\n",
       "      <th>24801</th>\n",
       "      <th>24802</th>\n",
       "      <th>24803</th>\n",
       "    </tr>\n",
       "  </thead>\n",
       "  <tbody>\n",
       "    <tr>\n",
       "      <th>0</th>\n",
       "      <td>255.0</td>\n",
       "      <td>255.0</td>\n",
       "      <td>255.0</td>\n",
       "      <td>255.0</td>\n",
       "      <td>255.0</td>\n",
       "      <td>255.0</td>\n",
       "      <td>255.0</td>\n",
       "      <td>255.0</td>\n",
       "      <td>255.0</td>\n",
       "      <td>255.0</td>\n",
       "      <td>...</td>\n",
       "      <td>255.0</td>\n",
       "      <td>255.0</td>\n",
       "      <td>255.0</td>\n",
       "      <td>255.0</td>\n",
       "      <td>255.0</td>\n",
       "      <td>255.0</td>\n",
       "      <td>255.0</td>\n",
       "      <td>255.0</td>\n",
       "      <td>255.0</td>\n",
       "      <td>255.0</td>\n",
       "    </tr>\n",
       "    <tr>\n",
       "      <th>1</th>\n",
       "      <td>255.0</td>\n",
       "      <td>255.0</td>\n",
       "      <td>255.0</td>\n",
       "      <td>255.0</td>\n",
       "      <td>255.0</td>\n",
       "      <td>255.0</td>\n",
       "      <td>255.0</td>\n",
       "      <td>255.0</td>\n",
       "      <td>255.0</td>\n",
       "      <td>255.0</td>\n",
       "      <td>...</td>\n",
       "      <td>255.0</td>\n",
       "      <td>255.0</td>\n",
       "      <td>255.0</td>\n",
       "      <td>255.0</td>\n",
       "      <td>255.0</td>\n",
       "      <td>255.0</td>\n",
       "      <td>255.0</td>\n",
       "      <td>255.0</td>\n",
       "      <td>255.0</td>\n",
       "      <td>255.0</td>\n",
       "    </tr>\n",
       "    <tr>\n",
       "      <th>2</th>\n",
       "      <td>255.0</td>\n",
       "      <td>255.0</td>\n",
       "      <td>255.0</td>\n",
       "      <td>255.0</td>\n",
       "      <td>255.0</td>\n",
       "      <td>255.0</td>\n",
       "      <td>255.0</td>\n",
       "      <td>255.0</td>\n",
       "      <td>255.0</td>\n",
       "      <td>255.0</td>\n",
       "      <td>...</td>\n",
       "      <td>255.0</td>\n",
       "      <td>255.0</td>\n",
       "      <td>255.0</td>\n",
       "      <td>255.0</td>\n",
       "      <td>255.0</td>\n",
       "      <td>255.0</td>\n",
       "      <td>255.0</td>\n",
       "      <td>255.0</td>\n",
       "      <td>255.0</td>\n",
       "      <td>255.0</td>\n",
       "    </tr>\n",
       "    <tr>\n",
       "      <th>3</th>\n",
       "      <td>255.0</td>\n",
       "      <td>255.0</td>\n",
       "      <td>255.0</td>\n",
       "      <td>255.0</td>\n",
       "      <td>255.0</td>\n",
       "      <td>255.0</td>\n",
       "      <td>255.0</td>\n",
       "      <td>255.0</td>\n",
       "      <td>255.0</td>\n",
       "      <td>255.0</td>\n",
       "      <td>...</td>\n",
       "      <td>255.0</td>\n",
       "      <td>255.0</td>\n",
       "      <td>255.0</td>\n",
       "      <td>255.0</td>\n",
       "      <td>255.0</td>\n",
       "      <td>255.0</td>\n",
       "      <td>255.0</td>\n",
       "      <td>255.0</td>\n",
       "      <td>255.0</td>\n",
       "      <td>255.0</td>\n",
       "    </tr>\n",
       "    <tr>\n",
       "      <th>4</th>\n",
       "      <td>255.0</td>\n",
       "      <td>255.0</td>\n",
       "      <td>255.0</td>\n",
       "      <td>255.0</td>\n",
       "      <td>255.0</td>\n",
       "      <td>255.0</td>\n",
       "      <td>255.0</td>\n",
       "      <td>255.0</td>\n",
       "      <td>255.0</td>\n",
       "      <td>255.0</td>\n",
       "      <td>...</td>\n",
       "      <td>255.0</td>\n",
       "      <td>255.0</td>\n",
       "      <td>255.0</td>\n",
       "      <td>255.0</td>\n",
       "      <td>255.0</td>\n",
       "      <td>255.0</td>\n",
       "      <td>255.0</td>\n",
       "      <td>255.0</td>\n",
       "      <td>255.0</td>\n",
       "      <td>255.0</td>\n",
       "    </tr>\n",
       "  </tbody>\n",
       "</table>\n",
       "<p>5 rows × 24804 columns</p>\n",
       "</div>"
      ],
      "text/plain": [
       "       0      1      2      3      4      5      6      7      8      9  \\\n",
       "0  255.0  255.0  255.0  255.0  255.0  255.0  255.0  255.0  255.0  255.0   \n",
       "1  255.0  255.0  255.0  255.0  255.0  255.0  255.0  255.0  255.0  255.0   \n",
       "2  255.0  255.0  255.0  255.0  255.0  255.0  255.0  255.0  255.0  255.0   \n",
       "3  255.0  255.0  255.0  255.0  255.0  255.0  255.0  255.0  255.0  255.0   \n",
       "4  255.0  255.0  255.0  255.0  255.0  255.0  255.0  255.0  255.0  255.0   \n",
       "\n",
       "   ...    24794  24795  24796  24797  24798  24799  24800  24801  24802  24803  \n",
       "0  ...    255.0  255.0  255.0  255.0  255.0  255.0  255.0  255.0  255.0  255.0  \n",
       "1  ...    255.0  255.0  255.0  255.0  255.0  255.0  255.0  255.0  255.0  255.0  \n",
       "2  ...    255.0  255.0  255.0  255.0  255.0  255.0  255.0  255.0  255.0  255.0  \n",
       "3  ...    255.0  255.0  255.0  255.0  255.0  255.0  255.0  255.0  255.0  255.0  \n",
       "4  ...    255.0  255.0  255.0  255.0  255.0  255.0  255.0  255.0  255.0  255.0  \n",
       "\n",
       "[5 rows x 24804 columns]"
      ]
     },
     "execution_count": 5,
     "metadata": {},
     "output_type": "execute_result"
    }
   ],
   "source": [
    "pd_images.head()"
   ]
  },
  {
   "cell_type": "code",
   "execution_count": 6,
   "metadata": {},
   "outputs": [],
   "source": [
    "labels = pd.read_csv(\"labels.csv\")"
   ]
  },
  {
   "cell_type": "code",
   "execution_count": 7,
   "metadata": {},
   "outputs": [
    {
     "data": {
      "text/html": [
       "<div>\n",
       "<style scoped>\n",
       "    .dataframe tbody tr th:only-of-type {\n",
       "        vertical-align: middle;\n",
       "    }\n",
       "\n",
       "    .dataframe tbody tr th {\n",
       "        vertical-align: top;\n",
       "    }\n",
       "\n",
       "    .dataframe thead th {\n",
       "        text-align: right;\n",
       "    }\n",
       "</style>\n",
       "<table border=\"1\" class=\"dataframe\">\n",
       "  <thead>\n",
       "    <tr style=\"text-align: right;\">\n",
       "      <th></th>\n",
       "      <th>label</th>\n",
       "    </tr>\n",
       "  </thead>\n",
       "  <tbody>\n",
       "    <tr>\n",
       "      <th>0</th>\n",
       "      <td>1</td>\n",
       "    </tr>\n",
       "    <tr>\n",
       "      <th>1</th>\n",
       "      <td>1</td>\n",
       "    </tr>\n",
       "    <tr>\n",
       "      <th>2</th>\n",
       "      <td>1</td>\n",
       "    </tr>\n",
       "    <tr>\n",
       "      <th>3</th>\n",
       "      <td>1</td>\n",
       "    </tr>\n",
       "    <tr>\n",
       "      <th>4</th>\n",
       "      <td>1</td>\n",
       "    </tr>\n",
       "  </tbody>\n",
       "</table>\n",
       "</div>"
      ],
      "text/plain": [
       "   label\n",
       "0      1\n",
       "1      1\n",
       "2      1\n",
       "3      1\n",
       "4      1"
      ]
     },
     "execution_count": 7,
     "metadata": {},
     "output_type": "execute_result"
    }
   ],
   "source": [
    "labels.head()"
   ]
  },
  {
   "cell_type": "code",
   "execution_count": 8,
   "metadata": {},
   "outputs": [
    {
     "data": {
      "text/plain": [
       "2    1841\n",
       "1    1334\n",
       "3     769\n",
       "Name: label, dtype: int64"
      ]
     },
     "execution_count": 8,
     "metadata": {},
     "output_type": "execute_result"
    }
   ],
   "source": [
    "labels['label'].value_counts()"
   ]
  },
  {
   "cell_type": "code",
   "execution_count": 9,
   "metadata": {},
   "outputs": [
    {
     "data": {
      "text/plain": [
       "2    0.466785\n",
       "1    0.338235\n",
       "3    0.194980\n",
       "Name: label, dtype: float64"
      ]
     },
     "execution_count": 9,
     "metadata": {},
     "output_type": "execute_result"
    }
   ],
   "source": [
    "labels['label'].value_counts()/3944"
   ]
  },
  {
   "cell_type": "code",
   "execution_count": 10,
   "metadata": {},
   "outputs": [
    {
     "data": {
      "text/plain": [
       "((3944, 24804), (3944, 1))"
      ]
     },
     "execution_count": 10,
     "metadata": {},
     "output_type": "execute_result"
    }
   ],
   "source": [
    "pd_images.shape, labels.shape"
   ]
  },
  {
   "cell_type": "code",
   "execution_count": null,
   "metadata": {},
   "outputs": [],
   "source": []
  },
  {
   "cell_type": "code",
   "execution_count": 11,
   "metadata": {},
   "outputs": [],
   "source": [
    "# Use simple neural network to do supervised learning\n",
    "pd_images_sc = pd_images / 255"
   ]
  },
  {
   "cell_type": "code",
   "execution_count": 12,
   "metadata": {},
   "outputs": [],
   "source": [
    "from keras.utils.np_utils import to_categorical\n",
    "\n",
    "categorical_labels = to_categorical(labels-1)"
   ]
  },
  {
   "cell_type": "code",
   "execution_count": 13,
   "metadata": {},
   "outputs": [
    {
     "data": {
      "text/html": [
       "<div>\n",
       "<style scoped>\n",
       "    .dataframe tbody tr th:only-of-type {\n",
       "        vertical-align: middle;\n",
       "    }\n",
       "\n",
       "    .dataframe tbody tr th {\n",
       "        vertical-align: top;\n",
       "    }\n",
       "\n",
       "    .dataframe thead th {\n",
       "        text-align: right;\n",
       "    }\n",
       "</style>\n",
       "<table border=\"1\" class=\"dataframe\">\n",
       "  <thead>\n",
       "    <tr style=\"text-align: right;\">\n",
       "      <th></th>\n",
       "      <th>label</th>\n",
       "    </tr>\n",
       "  </thead>\n",
       "  <tbody>\n",
       "    <tr>\n",
       "      <th>0</th>\n",
       "      <td>1</td>\n",
       "    </tr>\n",
       "    <tr>\n",
       "      <th>1</th>\n",
       "      <td>1</td>\n",
       "    </tr>\n",
       "    <tr>\n",
       "      <th>2</th>\n",
       "      <td>1</td>\n",
       "    </tr>\n",
       "    <tr>\n",
       "      <th>3</th>\n",
       "      <td>1</td>\n",
       "    </tr>\n",
       "    <tr>\n",
       "      <th>4</th>\n",
       "      <td>1</td>\n",
       "    </tr>\n",
       "  </tbody>\n",
       "</table>\n",
       "</div>"
      ],
      "text/plain": [
       "   label\n",
       "0      1\n",
       "1      1\n",
       "2      1\n",
       "3      1\n",
       "4      1"
      ]
     },
     "execution_count": 13,
     "metadata": {},
     "output_type": "execute_result"
    }
   ],
   "source": [
    "labels.head()"
   ]
  },
  {
   "cell_type": "code",
   "execution_count": 14,
   "metadata": {},
   "outputs": [],
   "source": [
    "X_train, X_test, y_train, y_test = train_test_split(pd_images_sc, categorical_labels, random_state = 42)"
   ]
  },
  {
   "cell_type": "code",
   "execution_count": 15,
   "metadata": {},
   "outputs": [
    {
     "data": {
      "text/plain": [
       "((2958, 24804), (986, 24804), (2958, 3), (986, 3))"
      ]
     },
     "execution_count": 15,
     "metadata": {},
     "output_type": "execute_result"
    }
   ],
   "source": [
    "X_train.shape, X_test.shape, y_train.shape, y_test.shape"
   ]
  },
  {
   "cell_type": "code",
   "execution_count": 15,
   "metadata": {},
   "outputs": [],
   "source": [
    "model = Sequential()\n",
    "model.add(Dense(10000, activation = \"relu\", input_dim=X_train.shape[1]))\n",
    "model.add(Dense(300, activation = 'relu'))\n",
    "model.add(Dense(30, activation = 'relu'))\n",
    "model.add(Dense(3, activation='softmax'))"
   ]
  },
  {
   "cell_type": "code",
   "execution_count": 16,
   "metadata": {},
   "outputs": [],
   "source": [
    "model.compile(optimizer='adam',metrics=['accuracy'],loss='categorical_crossentropy')"
   ]
  },
  {
   "cell_type": "code",
   "execution_count": 17,
   "metadata": {},
   "outputs": [
    {
     "name": "stdout",
     "output_type": "stream",
     "text": [
      "_________________________________________________________________\n",
      "Layer (type)                 Output Shape              Param #   \n",
      "=================================================================\n",
      "dense_1 (Dense)              (None, 10000)             248050000 \n",
      "_________________________________________________________________\n",
      "dense_2 (Dense)              (None, 300)               3000300   \n",
      "_________________________________________________________________\n",
      "dense_3 (Dense)              (None, 30)                9030      \n",
      "_________________________________________________________________\n",
      "dense_4 (Dense)              (None, 3)                 93        \n",
      "=================================================================\n",
      "Total params: 251,059,423\n",
      "Trainable params: 251,059,423\n",
      "Non-trainable params: 0\n",
      "_________________________________________________________________\n"
     ]
    }
   ],
   "source": [
    "model.summary()"
   ]
  },
  {
   "cell_type": "code",
   "execution_count": null,
   "metadata": {},
   "outputs": [
    {
     "name": "stdout",
     "output_type": "stream",
     "text": [
      "Train on 2958 samples, validate on 986 samples\n",
      "Epoch 1/5\n"
     ]
    }
   ],
   "source": [
    "model.fit(x=X_train,y=y_train,batch_size=32, epochs = 5, validation_data=(X_test, y_test))"
   ]
  },
  {
   "cell_type": "code",
   "execution_count": null,
   "metadata": {},
   "outputs": [],
   "source": []
  },
  {
   "cell_type": "code",
   "execution_count": 16,
   "metadata": {},
   "outputs": [],
   "source": [
    "X_train_2d = np.array(X_train).reshape(2958, 78, 106, 3)\n",
    "X_test_2d = np.array(X_test).reshape(986, 78, 106, 3)"
   ]
  },
  {
   "cell_type": "code",
   "execution_count": 17,
   "metadata": {},
   "outputs": [],
   "source": [
    "model_1 = Sequential()\n",
    "\n",
    "model_1.add(Conv2D(filters = 6,          \n",
    "                 kernel_size = 3,     \n",
    "                 activation = 'relu',\n",
    "                 input_shape = X_train_2d.shape[1:]))\n",
    "            \n",
    "model_1.add(MaxPooling2D(pool_size = (2,2)))\n",
    "            \n",
    "model_1.add(Flatten())\n",
    "            \n",
    "model_1.add(Dense(300, activation = 'relu'))\n",
    "model_1.add(Dense(30, activation = 'relu'))\n",
    "model_1.add(Dense(3, activation='softmax'))\n",
    "\n",
    "model_1.compile(optimizer='adam',metrics=['accuracy'],loss='categorical_crossentropy')"
   ]
  },
  {
   "cell_type": "code",
   "execution_count": 18,
   "metadata": {},
   "outputs": [
    {
     "name": "stdout",
     "output_type": "stream",
     "text": [
      "_________________________________________________________________\n",
      "Layer (type)                 Output Shape              Param #   \n",
      "=================================================================\n",
      "conv2d_1 (Conv2D)            (None, 76, 104, 6)        168       \n",
      "_________________________________________________________________\n",
      "max_pooling2d_1 (MaxPooling2 (None, 38, 52, 6)         0         \n",
      "_________________________________________________________________\n",
      "flatten_1 (Flatten)          (None, 11856)             0         \n",
      "_________________________________________________________________\n",
      "dense_1 (Dense)              (None, 300)               3557100   \n",
      "_________________________________________________________________\n",
      "dense_2 (Dense)              (None, 30)                9030      \n",
      "_________________________________________________________________\n",
      "dense_3 (Dense)              (None, 3)                 93        \n",
      "=================================================================\n",
      "Total params: 3,566,391\n",
      "Trainable params: 3,566,391\n",
      "Non-trainable params: 0\n",
      "_________________________________________________________________\n"
     ]
    }
   ],
   "source": [
    "model_1.summary()"
   ]
  },
  {
   "cell_type": "code",
   "execution_count": 19,
   "metadata": {},
   "outputs": [
    {
     "name": "stdout",
     "output_type": "stream",
     "text": [
      "Train on 2958 samples, validate on 986 samples\n",
      "Epoch 1/20\n",
      "2958/2958 [==============================] - 11s 4ms/step - loss: 0.8118 - acc: 0.6356 - val_loss: 0.6570 - val_acc: 0.7018\n",
      "Epoch 2/20\n",
      "2958/2958 [==============================] - 10s 3ms/step - loss: 0.6223 - acc: 0.7204 - val_loss: 0.5786 - val_acc: 0.7424\n",
      "Epoch 3/20\n",
      "2958/2958 [==============================] - 10s 3ms/step - loss: 0.5535 - acc: 0.7559 - val_loss: 0.6398 - val_acc: 0.6886\n",
      "Epoch 4/20\n",
      "2958/2958 [==============================] - 10s 3ms/step - loss: 0.4906 - acc: 0.7901 - val_loss: 0.5361 - val_acc: 0.7617\n",
      "Epoch 5/20\n",
      "2958/2958 [==============================] - 10s 3ms/step - loss: 0.4353 - acc: 0.8168 - val_loss: 0.5186 - val_acc: 0.7606\n",
      "Epoch 6/20\n",
      "2958/2958 [==============================] - 10s 3ms/step - loss: 0.3889 - acc: 0.8343 - val_loss: 0.5124 - val_acc: 0.7728\n",
      "Epoch 7/20\n",
      "2958/2958 [==============================] - 10s 3ms/step - loss: 0.3423 - acc: 0.8577 - val_loss: 0.5081 - val_acc: 0.7911\n",
      "Epoch 8/20\n",
      "2958/2958 [==============================] - 10s 3ms/step - loss: 0.3146 - acc: 0.8753 - val_loss: 0.5193 - val_acc: 0.7850\n",
      "Epoch 9/20\n",
      "2958/2958 [==============================] - 10s 3ms/step - loss: 0.2899 - acc: 0.8840 - val_loss: 0.6156 - val_acc: 0.7840\n",
      "Epoch 10/20\n",
      "2958/2958 [==============================] - 10s 4ms/step - loss: 0.2411 - acc: 0.9097 - val_loss: 0.5791 - val_acc: 0.7830\n",
      "Epoch 11/20\n",
      "2958/2958 [==============================] - 10s 3ms/step - loss: 0.2073 - acc: 0.9148 - val_loss: 0.6013 - val_acc: 0.7596\n",
      "Epoch 12/20\n",
      "2958/2958 [==============================] - 10s 3ms/step - loss: 0.1881 - acc: 0.9280 - val_loss: 0.6136 - val_acc: 0.7830\n",
      "Epoch 13/20\n",
      "2958/2958 [==============================] - 10s 3ms/step - loss: 0.1594 - acc: 0.9419 - val_loss: 0.6740 - val_acc: 0.7769\n",
      "Epoch 14/20\n",
      "2958/2958 [==============================] - 10s 3ms/step - loss: 0.1267 - acc: 0.9547 - val_loss: 0.7142 - val_acc: 0.7708\n",
      "Epoch 15/20\n",
      "2958/2958 [==============================] - 10s 3ms/step - loss: 0.1064 - acc: 0.9635 - val_loss: 0.8323 - val_acc: 0.7738\n",
      "Epoch 16/20\n",
      "2958/2958 [==============================] - 10s 3ms/step - loss: 0.0859 - acc: 0.9740 - val_loss: 0.7891 - val_acc: 0.7779\n",
      "Epoch 17/20\n",
      "2958/2958 [==============================] - 10s 3ms/step - loss: 0.0739 - acc: 0.9777 - val_loss: 0.8695 - val_acc: 0.7860\n",
      "Epoch 18/20\n",
      "2958/2958 [==============================] - 10s 3ms/step - loss: 0.0486 - acc: 0.9882 - val_loss: 0.8927 - val_acc: 0.7728\n",
      "Epoch 19/20\n",
      "2958/2958 [==============================] - 10s 3ms/step - loss: 0.0468 - acc: 0.9872 - val_loss: 0.9701 - val_acc: 0.7637\n",
      "Epoch 20/20\n",
      "2958/2958 [==============================] - 10s 3ms/step - loss: 0.0394 - acc: 0.9882 - val_loss: 0.9308 - val_acc: 0.7789\n"
     ]
    },
    {
     "data": {
      "text/plain": [
       "<keras.callbacks.History at 0x7f853d9e54a8>"
      ]
     },
     "execution_count": 19,
     "metadata": {},
     "output_type": "execute_result"
    }
   ],
   "source": [
    "model_1.fit(x=X_train_2d,y=y_train,batch_size=32, epochs = 20, validation_data=(X_test_2d, y_test))"
   ]
  },
  {
   "cell_type": "code",
   "execution_count": null,
   "metadata": {},
   "outputs": [],
   "source": []
  },
  {
   "cell_type": "code",
   "execution_count": 20,
   "metadata": {},
   "outputs": [],
   "source": [
    "model_2 = Sequential()\n",
    "\n",
    "model_2.add(Conv2D(filters = 6,          \n",
    "                 kernel_size = 3,     \n",
    "                 activation = 'relu',\n",
    "                 input_shape = X_train_2d.shape[1:]))\n",
    "            \n",
    "model_2.add(MaxPooling2D(pool_size = (2,2)))\n",
    "            \n",
    "model_2.add(Conv2D(filters = 12,          \n",
    "                 kernel_size = 6,     \n",
    "                 activation = 'relu'))\n",
    "            \n",
    "model_2.add(MaxPooling2D(pool_size = (2,2)))\n",
    "            \n",
    "model_2.add(Flatten())\n",
    "            \n",
    "model_2.add(Dense(300, activation = 'relu'))\n",
    "model_2.add(Dense(30, activation = 'relu'))\n",
    "model_2.add(Dense(3, activation='softmax'))\n",
    "\n",
    "model_2.compile(optimizer='adam',metrics=['accuracy'],loss='categorical_crossentropy')"
   ]
  },
  {
   "cell_type": "code",
   "execution_count": 21,
   "metadata": {},
   "outputs": [
    {
     "name": "stdout",
     "output_type": "stream",
     "text": [
      "_________________________________________________________________\n",
      "Layer (type)                 Output Shape              Param #   \n",
      "=================================================================\n",
      "conv2d_2 (Conv2D)            (None, 76, 104, 6)        168       \n",
      "_________________________________________________________________\n",
      "max_pooling2d_2 (MaxPooling2 (None, 38, 52, 6)         0         \n",
      "_________________________________________________________________\n",
      "conv2d_3 (Conv2D)            (None, 33, 47, 12)        2604      \n",
      "_________________________________________________________________\n",
      "max_pooling2d_3 (MaxPooling2 (None, 16, 23, 12)        0         \n",
      "_________________________________________________________________\n",
      "flatten_2 (Flatten)          (None, 4416)              0         \n",
      "_________________________________________________________________\n",
      "dense_4 (Dense)              (None, 300)               1325100   \n",
      "_________________________________________________________________\n",
      "dense_5 (Dense)              (None, 30)                9030      \n",
      "_________________________________________________________________\n",
      "dense_6 (Dense)              (None, 3)                 93        \n",
      "=================================================================\n",
      "Total params: 1,336,995\n",
      "Trainable params: 1,336,995\n",
      "Non-trainable params: 0\n",
      "_________________________________________________________________\n"
     ]
    }
   ],
   "source": [
    "model_2.summary()"
   ]
  },
  {
   "cell_type": "code",
   "execution_count": 22,
   "metadata": {},
   "outputs": [
    {
     "name": "stdout",
     "output_type": "stream",
     "text": [
      "Train on 2958 samples, validate on 986 samples\n",
      "Epoch 1/10\n",
      "2958/2958 [==============================] - 13s 4ms/step - loss: 0.7019 - acc: 0.6873 - val_loss: 0.6292 - val_acc: 0.7089\n",
      "Epoch 2/10\n",
      "2958/2958 [==============================] - 12s 4ms/step - loss: 0.5575 - acc: 0.7573 - val_loss: 0.5420 - val_acc: 0.7535\n",
      "Epoch 3/10\n",
      "2958/2958 [==============================] - 12s 4ms/step - loss: 0.4993 - acc: 0.7853 - val_loss: 0.4996 - val_acc: 0.7809\n",
      "Epoch 4/10\n",
      "2958/2958 [==============================] - 12s 4ms/step - loss: 0.4557 - acc: 0.8063 - val_loss: 0.4795 - val_acc: 0.7972\n",
      "Epoch 5/10\n",
      "2958/2958 [==============================] - 12s 4ms/step - loss: 0.4105 - acc: 0.8245 - val_loss: 0.4603 - val_acc: 0.8032\n",
      "Epoch 6/10\n",
      "2958/2958 [==============================] - 13s 4ms/step - loss: 0.3797 - acc: 0.8323 - val_loss: 0.4554 - val_acc: 0.8093\n",
      "Epoch 7/10\n",
      "2958/2958 [==============================] - 12s 4ms/step - loss: 0.3539 - acc: 0.8442 - val_loss: 0.4610 - val_acc: 0.8154\n",
      "Epoch 8/10\n",
      "2958/2958 [==============================] - 12s 4ms/step - loss: 0.3265 - acc: 0.8563 - val_loss: 0.4998 - val_acc: 0.8032\n",
      "Epoch 9/10\n",
      "2958/2958 [==============================] - 12s 4ms/step - loss: 0.2927 - acc: 0.8759 - val_loss: 0.4703 - val_acc: 0.7931\n",
      "Epoch 10/10\n",
      "2958/2958 [==============================] - 12s 4ms/step - loss: 0.2935 - acc: 0.8749 - val_loss: 0.5880 - val_acc: 0.7972\n"
     ]
    }
   ],
   "source": [
    "history_2 = model_2.fit(x=X_train_2d,y=y_train,batch_size=32, epochs = 10, validation_data=(X_test_2d, y_test))"
   ]
  },
  {
   "cell_type": "markdown",
   "metadata": {},
   "source": [
    "### Result Analysis"
   ]
  },
  {
   "cell_type": "code",
   "execution_count": 29,
   "metadata": {},
   "outputs": [],
   "source": [
    "def plot_confusion_matrix(cm, classes,\n",
    "                          normalize=False,\n",
    "                          title='Confusion matrix',\n",
    "                          cmap=plt.cm.Blues):\n",
    "    \"\"\"\n",
    "    This function prints and plots the confusion matrix.\n",
    "    Normalization can be applied by setting `normalize=True`.\n",
    "    \"\"\"\n",
    "    if normalize:\n",
    "        cm = cm.astype('float') / cm.sum(axis=1)[:, np.newaxis]\n",
    "        print(\"Normalized confusion matrix\")\n",
    "    else:\n",
    "        print('Confusion matrix, without normalization')\n",
    "\n",
    "    print(cm)\n",
    "\n",
    "    plt.imshow(cm, interpolation='nearest', cmap=cmap)\n",
    "    plt.title(title)\n",
    "    plt.colorbar()\n",
    "    tick_marks = np.arange(len(classes))\n",
    "    plt.xticks(tick_marks, classes, rotation=45)\n",
    "    plt.yticks(tick_marks, classes)\n",
    "\n",
    "    fmt = '.2f' if normalize else 'd'\n",
    "    thresh = cm.max() / 2.\n",
    "    for i, j in itertools.product(range(cm.shape[0]), range(cm.shape[1])):\n",
    "        plt.text(j, i, format(cm[i, j], fmt),\n",
    "                 horizontalalignment=\"center\",\n",
    "                 color=\"white\" if cm[i, j] > thresh else \"black\")\n",
    "\n",
    "    plt.ylabel('True label')\n",
    "    plt.xlabel('Predicted label')\n",
    "    plt.tight_layout()\n",
    "    print(\"\\n\")\n"
   ]
  },
  {
   "cell_type": "code",
   "execution_count": 30,
   "metadata": {},
   "outputs": [
    {
     "name": "stdout",
     "output_type": "stream",
     "text": [
      "Confusion matrix, without normalization\n",
      "[[217 137   0]\n",
      " [ 24 415   8]\n",
      " [  0  31 154]]\n",
      "\n",
      "\n",
      "Normalized confusion matrix\n",
      "[[0.61299435 0.38700565 0.        ]\n",
      " [0.05369128 0.92841163 0.01789709]\n",
      " [0.         0.16756757 0.83243243]]\n",
      "\n",
      "\n"
     ]
    },
    {
     "data": {
      "image/png": "[encoded data removed]",
      "text/plain": [
       "<Figure size 432x288 with 2 Axes>"
      ]
     },
     "metadata": {},
     "output_type": "display_data"
    },
    {
     "data": {
      "image/png": "[encoded data removed]",
      "text/plain": [
       "<Figure size 432x288 with 2 Axes>"
      ]
     },
     "metadata": {},
     "output_type": "display_data"
    }
   ],
   "source": [
    "def draw_confusion_matrix(model = model_2):\n",
    "    # Define class names:\n",
    "    class_names = ['Type 1', 'Type 2', 'Type 3']\n",
    "    \n",
    "    # Compute prediction\n",
    "    pred = model.predict(np.array(X_test_2d))\n",
    "    \n",
    "    # Compute confusion matrix\n",
    "    C = confusion_matrix([np.argmax(y) for y in y_test], [np.argmax(y) for y in pred])\n",
    "    #np.set_printoptions(precision=1)\n",
    "\n",
    "\n",
    "    # Plot non-normalized confusion matrix\n",
    "    plt.figure()\n",
    "    plot_confusion_matrix(C, classes=class_names,\n",
    "                          title='Confusion matrix, without normalization')\n",
    "\n",
    "    # Plot normalized confusion matrix\n",
    "    plt.figure()\n",
    "    plot_confusion_matrix(C, classes=class_names, normalize=True,\n",
    "                          title='Normalized confusion matrix')\n",
    "\n",
    "    plt.show()\n",
    "\n",
    "    \n",
    "draw_confusion_matrix(model_2)"
   ]
  },
  {
   "cell_type": "code",
   "execution_count": 38,
   "metadata": {},
   "outputs": [],
   "source": [
    "def plot_accuracy(history = history_2):\n",
    "    ax = sns.lineplot(history.epoch, history.history['acc'], label=\"Train\")\n",
    "    sns.lineplot(history.epoch, history.history['val_acc'], label='Test')\n",
    "    ax.axes.set_title(\"Model Accuracy\", fontsize=20)\n",
    "    ax.axes.set_xlabel(\"Epoch\", fontsize =12)\n",
    "    ax.axes.set_ylabel(\"Accuracy\", fontsize=12)"
   ]
  },
  {
   "cell_type": "code",
   "execution_count": 51,
   "metadata": {},
   "outputs": [],
   "source": [
    "def plot_loss(history = history_2):\n",
    "\n",
    "    ax = sns.lineplot(history.epoch, history.history['loss'], label='Train')\n",
    "    sns.lineplot(history.epoch, history.history['val_loss'], label='Test')\n",
    "    sns.axes_style(\"darkgrid\")\n",
    "    ax.axes.set_title(\"Model Loss\", fontsize=20)\n",
    "    ax.axes.set_xlabel(\"Epoch\", fontsize =12)\n",
    "    ax.axes.set_ylabel(\"Loss\", fontsize=12)\n",
    "    ax.axes.set_style(\"darkgrid\")"
   ]
  },
  {
   "cell_type": "code",
   "execution_count": 52,
   "metadata": {},
   "outputs": [
    {
     "ename": "AttributeError",
     "evalue": "'AxesSubplot' object has no attribute 'set_style'",
     "output_type": "error",
     "traceback": [
      "\u001b[0;31m---------------------------------------------------------------------------\u001b[0m",
      "\u001b[0;31mAttributeError\u001b[0m                            Traceback (most recent call last)",
      "\u001b[0;32m<ipython-input-52-0e3ee8625906>\u001b[0m in \u001b[0;36m<module>\u001b[0;34m()\u001b[0m\n\u001b[0;32m----> 1\u001b[0;31m \u001b[0mplot_loss\u001b[0m\u001b[0;34m(\u001b[0m\u001b[0mhistory_2\u001b[0m\u001b[0;34m)\u001b[0m\u001b[0;34m\u001b[0m\u001b[0m\n\u001b[0m",
      "\u001b[0;32m<ipython-input-51-e2e5b30330c7>\u001b[0m in \u001b[0;36mplot_loss\u001b[0;34m(history)\u001b[0m\n\u001b[1;32m      7\u001b[0m     \u001b[0max\u001b[0m\u001b[0;34m.\u001b[0m\u001b[0maxes\u001b[0m\u001b[0;34m.\u001b[0m\u001b[0mset_xlabel\u001b[0m\u001b[0;34m(\u001b[0m\u001b[0;34m\"Epoch\"\u001b[0m\u001b[0;34m,\u001b[0m \u001b[0mfontsize\u001b[0m \u001b[0;34m=\u001b[0m\u001b[0;36m12\u001b[0m\u001b[0;34m)\u001b[0m\u001b[0;34m\u001b[0m\u001b[0m\n\u001b[1;32m      8\u001b[0m     \u001b[0max\u001b[0m\u001b[0;34m.\u001b[0m\u001b[0maxes\u001b[0m\u001b[0;34m.\u001b[0m\u001b[0mset_ylabel\u001b[0m\u001b[0;34m(\u001b[0m\u001b[0;34m\"Loss\"\u001b[0m\u001b[0;34m,\u001b[0m \u001b[0mfontsize\u001b[0m\u001b[0;34m=\u001b[0m\u001b[0;36m12\u001b[0m\u001b[0;34m)\u001b[0m\u001b[0;34m\u001b[0m\u001b[0m\n\u001b[0;32m----> 9\u001b[0;31m     \u001b[0max\u001b[0m\u001b[0;34m.\u001b[0m\u001b[0maxes\u001b[0m\u001b[0;34m.\u001b[0m\u001b[0mset_style\u001b[0m\u001b[0;34m(\u001b[0m\u001b[0;34m\"darkgrid\"\u001b[0m\u001b[0;34m)\u001b[0m\u001b[0;34m\u001b[0m\u001b[0m\n\u001b[0m",
      "\u001b[0;31mAttributeError\u001b[0m: 'AxesSubplot' object has no attribute 'set_style'"
     ]
    },
    {
     "data": {
      "image/png": "[encoded data removed]",
      "text/plain": [
       "<Figure size 432x288 with 1 Axes>"
      ]
     },
     "metadata": {},
     "output_type": "display_data"
    }
   ],
   "source": [
    "plot_loss(history_2)"
   ]
  },
  {
   "cell_type": "code",
   "execution_count": 53,
   "metadata": {},
   "outputs": [
    {
     "data": {
      "image/png": "[encoded data removed]",
      "text/plain": [
       "<Figure size 432x288 with 1 Axes>"
      ]
     },
     "metadata": {},
     "output_type": "display_data"
    }
   ],
   "source": [
    "plot_accuracy(history_2)"
   ]
  },
  {
   "cell_type": "code",
   "execution_count": 54,
   "metadata": {},
   "outputs": [],
   "source": [
    "model_3 = Sequential()\n",
    "\n",
    "model_3.add(Conv2D(filters = 6,          \n",
    "                 kernel_size = 3,     \n",
    "                 activation = 'relu',\n",
    "                 input_shape = X_train_2d.shape[1:]))\n",
    "            \n",
    "model_3.add(MaxPooling2D(pool_size = (2,2)))\n",
    "            \n",
    "model_3.add(Conv2D(filters = 12,          \n",
    "                 kernel_size = 6,     \n",
    "                 activation = 'relu'))\n",
    "            \n",
    "model_3.add(MaxPooling2D(pool_size = (2,2)))\n",
    "            \n",
    "model_3.add(Flatten())\n",
    "            \n",
    "model_3.add(Dense(128, activation = 'relu'))\n",
    "\n",
    "model_3.add(Dense(3, activation='softmax'))\n",
    "\n",
    "model_3.compile(optimizer='adam',metrics=['accuracy'],loss='categorical_crossentropy')"
   ]
  },
  {
   "cell_type": "code",
   "execution_count": 55,
   "metadata": {},
   "outputs": [
    {
     "name": "stdout",
     "output_type": "stream",
     "text": [
      "Train on 2958 samples, validate on 986 samples\n",
      "Epoch 1/10\n",
      "2958/2958 [==============================] - 12s 4ms/step - loss: 0.7767 - acc: 0.6346 - val_loss: 0.6417 - val_acc: 0.7292\n",
      "Epoch 2/10\n",
      "2958/2958 [==============================] - 12s 4ms/step - loss: 0.6040 - acc: 0.7252 - val_loss: 0.5665 - val_acc: 0.7454\n",
      "Epoch 3/10\n",
      "2958/2958 [==============================] - 12s 4ms/step - loss: 0.5445 - acc: 0.7590 - val_loss: 0.5401 - val_acc: 0.7525\n",
      "Epoch 4/10\n",
      "2958/2958 [==============================] - 12s 4ms/step - loss: 0.4935 - acc: 0.7853 - val_loss: 0.5090 - val_acc: 0.7617\n",
      "Epoch 5/10\n",
      "2958/2958 [==============================] - 12s 4ms/step - loss: 0.4594 - acc: 0.7968 - val_loss: 0.5461 - val_acc: 0.7546\n",
      "Epoch 6/10\n",
      "2958/2958 [==============================] - 12s 4ms/step - loss: 0.4305 - acc: 0.8090 - val_loss: 0.4590 - val_acc: 0.8063\n",
      "Epoch 7/10\n",
      "2958/2958 [==============================] - 12s 4ms/step - loss: 0.3952 - acc: 0.8256 - val_loss: 0.4719 - val_acc: 0.7819\n",
      "Epoch 8/10\n",
      "2958/2958 [==============================] - 12s 4ms/step - loss: 0.3756 - acc: 0.8391 - val_loss: 0.4620 - val_acc: 0.7911\n",
      "Epoch 9/10\n",
      "2958/2958 [==============================] - 12s 4ms/step - loss: 0.3717 - acc: 0.8391 - val_loss: 0.4424 - val_acc: 0.8154\n",
      "Epoch 10/10\n",
      "2958/2958 [==============================] - 12s 4ms/step - loss: 0.3364 - acc: 0.8580 - val_loss: 0.4510 - val_acc: 0.8174\n"
     ]
    }
   ],
   "source": [
    "history_3 = model_3.fit(x=X_train_2d,y=y_train,batch_size=32, epochs = 10, validation_data=(X_test_2d, y_test))"
   ]
  },
  {
   "cell_type": "code",
   "execution_count": 61,
   "metadata": {
    "scrolled": true
   },
   "outputs": [
    {
     "name": "stdout",
     "output_type": "stream",
     "text": [
      "Confusion matrix, without normalization\n",
      "[[255  99   0]\n",
      " [ 47 378  22]\n",
      " [  0  12 173]]\n",
      "\n",
      "\n",
      "Normalized confusion matrix\n",
      "[[0.72033898 0.27966102 0.        ]\n",
      " [0.10514541 0.84563758 0.049217  ]\n",
      " [0.         0.06486486 0.93513514]]\n",
      "\n",
      "\n"
     ]
    },
    {
     "data": {
      "image/png": "[encoded data removed]",
      "text/plain": [
       "<Figure size 432x288 with 2 Axes>"
      ]
     },
     "metadata": {},
     "output_type": "display_data"
    },
    {
     "data": {
      "image/png": "[encoded data removed]",
      "text/plain": [
       "<Figure size 432x288 with 2 Axes>"
      ]
     },
     "metadata": {},
     "output_type": "display_data"
    }
   ],
   "source": [
    "draw_confusion_matrix(model_3)"
   ]
  },
  {
   "cell_type": "code",
   "execution_count": 64,
   "metadata": {},
   "outputs": [
    {
     "data": {
      "image/png": "[encoded data removed]",
      "text/plain": [
       "<Figure size 432x288 with 1 Axes>"
      ]
     },
     "metadata": {},
     "output_type": "display_data"
    }
   ],
   "source": [
    "plot_accuracy(history_3)"
   ]
  },
  {
   "cell_type": "code",
   "execution_count": 65,
   "metadata": {},
   "outputs": [
    {
     "ename": "AttributeError",
     "evalue": "'AxesSubplot' object has no attribute 'set_style'",
     "output_type": "error",
     "traceback": [
      "\u001b[0;31m---------------------------------------------------------------------------\u001b[0m",
      "\u001b[0;31mAttributeError\u001b[0m                            Traceback (most recent call last)",
      "\u001b[0;32m<ipython-input-65-c50fc714909f>\u001b[0m in \u001b[0;36m<module>\u001b[0;34m()\u001b[0m\n\u001b[0;32m----> 1\u001b[0;31m \u001b[0mplot_loss\u001b[0m\u001b[0;34m(\u001b[0m\u001b[0mhistory_3\u001b[0m\u001b[0;34m)\u001b[0m\u001b[0;34m\u001b[0m\u001b[0m\n\u001b[0m",
      "\u001b[0;32m<ipython-input-51-e2e5b30330c7>\u001b[0m in \u001b[0;36mplot_loss\u001b[0;34m(history)\u001b[0m\n\u001b[1;32m      7\u001b[0m     \u001b[0max\u001b[0m\u001b[0;34m.\u001b[0m\u001b[0maxes\u001b[0m\u001b[0;34m.\u001b[0m\u001b[0mset_xlabel\u001b[0m\u001b[0;34m(\u001b[0m\u001b[0;34m\"Epoch\"\u001b[0m\u001b[0;34m,\u001b[0m \u001b[0mfontsize\u001b[0m \u001b[0;34m=\u001b[0m\u001b[0;36m12\u001b[0m\u001b[0;34m)\u001b[0m\u001b[0;34m\u001b[0m\u001b[0m\n\u001b[1;32m      8\u001b[0m     \u001b[0max\u001b[0m\u001b[0;34m.\u001b[0m\u001b[0maxes\u001b[0m\u001b[0;34m.\u001b[0m\u001b[0mset_ylabel\u001b[0m\u001b[0;34m(\u001b[0m\u001b[0;34m\"Loss\"\u001b[0m\u001b[0;34m,\u001b[0m \u001b[0mfontsize\u001b[0m\u001b[0;34m=\u001b[0m\u001b[0;36m12\u001b[0m\u001b[0;34m)\u001b[0m\u001b[0;34m\u001b[0m\u001b[0m\n\u001b[0;32m----> 9\u001b[0;31m     \u001b[0max\u001b[0m\u001b[0;34m.\u001b[0m\u001b[0maxes\u001b[0m\u001b[0;34m.\u001b[0m\u001b[0mset_style\u001b[0m\u001b[0;34m(\u001b[0m\u001b[0;34m\"darkgrid\"\u001b[0m\u001b[0;34m)\u001b[0m\u001b[0;34m\u001b[0m\u001b[0m\n\u001b[0m",
      "\u001b[0;31mAttributeError\u001b[0m: 'AxesSubplot' object has no attribute 'set_style'"
     ]
    },
    {
     "data": {
      "image/png": "[encoded data removed]",
      "text/plain": [
       "<Figure size 432x288 with 1 Axes>"
      ]
     },
     "metadata": {},
     "output_type": "display_data"
    }
   ],
   "source": [
    "plot_loss(history_3)"
   ]
  },
  {
   "cell_type": "code",
   "execution_count": null,
   "metadata": {},
   "outputs": [],
   "source": []
  },
  {
   "cell_type": "code",
   "execution_count": 66,
   "metadata": {},
   "outputs": [],
   "source": [
    "model_4 = Sequential()\n",
    "\n",
    "model_4.add(Conv2D(filters = 6,          \n",
    "                 kernel_size = 3,     \n",
    "                 activation = 'relu',\n",
    "                 input_shape = X_train_2d.shape[1:]))\n",
    "            \n",
    "model_4.add(MaxPooling2D(pool_size = (2,2)))\n",
    "            \n",
    "model_4.add(Conv2D(filters = 12,          \n",
    "                 kernel_size = 6,     \n",
    "                 activation = 'relu'))\n",
    "            \n",
    "model_4.add(MaxPooling2D(pool_size = (2,2)))\n",
    "\n",
    "model_4.add(Dropout(rate = 0.5))\n",
    "            \n",
    "model_4.add(Flatten())\n",
    "            \n",
    "model_4.add(Dense(128, activation = 'relu'))\n",
    "\n",
    "model_4.add(Dropout(rate = 0.5))\n",
    "\n",
    "model_4.add(Dense(3, activation='softmax'))\n",
    "\n",
    "model_4.compile(optimizer='adam',metrics=['accuracy'],loss='categorical_crossentropy')"
   ]
  },
  {
   "cell_type": "code",
   "execution_count": 67,
   "metadata": {},
   "outputs": [
    {
     "name": "stdout",
     "output_type": "stream",
     "text": [
      "Train on 2958 samples, validate on 986 samples\n",
      "Epoch 1/20\n",
      "2958/2958 [==============================] - 13s 4ms/step - loss: 0.7779 - acc: 0.6285 - val_loss: 0.6391 - val_acc: 0.7211\n",
      "Epoch 2/20\n",
      "2958/2958 [==============================] - 12s 4ms/step - loss: 0.6423 - acc: 0.7187 - val_loss: 0.5780 - val_acc: 0.7404\n",
      "Epoch 3/20\n",
      "2958/2958 [==============================] - 12s 4ms/step - loss: 0.5930 - acc: 0.7336 - val_loss: 0.5679 - val_acc: 0.7343\n",
      "Epoch 4/20\n",
      "2958/2958 [==============================] - 12s 4ms/step - loss: 0.5654 - acc: 0.7468 - val_loss: 0.5456 - val_acc: 0.7434\n",
      "Epoch 5/20\n",
      "2958/2958 [==============================] - 12s 4ms/step - loss: 0.5363 - acc: 0.7546 - val_loss: 0.5070 - val_acc: 0.7637\n",
      "Epoch 6/20\n",
      "2958/2958 [==============================] - 12s 4ms/step - loss: 0.5232 - acc: 0.7579 - val_loss: 0.5055 - val_acc: 0.7748\n",
      "Epoch 7/20\n",
      "2958/2958 [==============================] - 12s 4ms/step - loss: 0.5091 - acc: 0.7769 - val_loss: 0.4902 - val_acc: 0.7840\n",
      "Epoch 8/20\n",
      "2958/2958 [==============================] - 12s 4ms/step - loss: 0.4948 - acc: 0.7799 - val_loss: 0.5005 - val_acc: 0.7748\n",
      "Epoch 9/20\n",
      "2958/2958 [==============================] - 12s 4ms/step - loss: 0.4807 - acc: 0.7867 - val_loss: 0.4581 - val_acc: 0.8043\n",
      "Epoch 10/20\n",
      "2958/2958 [==============================] - 12s 4ms/step - loss: 0.4698 - acc: 0.7928 - val_loss: 0.4637 - val_acc: 0.7972\n",
      "Epoch 11/20\n",
      "2958/2958 [==============================] - 12s 4ms/step - loss: 0.4495 - acc: 0.7961 - val_loss: 0.4683 - val_acc: 0.7982\n",
      "Epoch 12/20\n",
      "2958/2958 [==============================] - 12s 4ms/step - loss: 0.4490 - acc: 0.8005 - val_loss: 0.4616 - val_acc: 0.8134\n",
      "Epoch 13/20\n",
      "2958/2958 [==============================] - 12s 4ms/step - loss: 0.4340 - acc: 0.8056 - val_loss: 0.4554 - val_acc: 0.8002\n",
      "Epoch 14/20\n",
      "2958/2958 [==============================] - 12s 4ms/step - loss: 0.4251 - acc: 0.8080 - val_loss: 0.4621 - val_acc: 0.8012\n",
      "Epoch 15/20\n",
      "2958/2958 [==============================] - 12s 4ms/step - loss: 0.4112 - acc: 0.8151 - val_loss: 0.4475 - val_acc: 0.7951\n",
      "Epoch 16/20\n",
      "2958/2958 [==============================] - 12s 4ms/step - loss: 0.3923 - acc: 0.8252 - val_loss: 0.4674 - val_acc: 0.8093\n",
      "Epoch 17/20\n",
      "2958/2958 [==============================] - 12s 4ms/step - loss: 0.3934 - acc: 0.8225 - val_loss: 0.4587 - val_acc: 0.8043\n",
      "Epoch 18/20\n",
      "2958/2958 [==============================] - 12s 4ms/step - loss: 0.3832 - acc: 0.8330 - val_loss: 0.4632 - val_acc: 0.7961\n",
      "Epoch 19/20\n",
      "2958/2958 [==============================] - 12s 4ms/step - loss: 0.3710 - acc: 0.8354 - val_loss: 0.4585 - val_acc: 0.8002\n",
      "Epoch 20/20\n",
      "2958/2958 [==============================] - 12s 4ms/step - loss: 0.3543 - acc: 0.8496 - val_loss: 0.4476 - val_acc: 0.8144\n"
     ]
    }
   ],
   "source": [
    "history_4 = model_4.fit(x=X_train_2d,y=y_train,batch_size=32, epochs = 20, validation_data=(X_test_2d, y_test))"
   ]
  },
  {
   "cell_type": "code",
   "execution_count": 68,
   "metadata": {},
   "outputs": [
    {
     "ename": "AttributeError",
     "evalue": "'AxesSubplot' object has no attribute 'set_style'",
     "output_type": "error",
     "traceback": [
      "\u001b[0;31m---------------------------------------------------------------------------\u001b[0m",
      "\u001b[0;31mAttributeError\u001b[0m                            Traceback (most recent call last)",
      "\u001b[0;32m<ipython-input-68-35cbf46f9538>\u001b[0m in \u001b[0;36m<module>\u001b[0;34m()\u001b[0m\n\u001b[0;32m----> 1\u001b[0;31m \u001b[0mplot_loss\u001b[0m\u001b[0;34m(\u001b[0m\u001b[0mhistory_4\u001b[0m\u001b[0;34m)\u001b[0m\u001b[0;34m\u001b[0m\u001b[0m\n\u001b[0m",
      "\u001b[0;32m<ipython-input-51-e2e5b30330c7>\u001b[0m in \u001b[0;36mplot_loss\u001b[0;34m(history)\u001b[0m\n\u001b[1;32m      7\u001b[0m     \u001b[0max\u001b[0m\u001b[0;34m.\u001b[0m\u001b[0maxes\u001b[0m\u001b[0;34m.\u001b[0m\u001b[0mset_xlabel\u001b[0m\u001b[0;34m(\u001b[0m\u001b[0;34m\"Epoch\"\u001b[0m\u001b[0;34m,\u001b[0m \u001b[0mfontsize\u001b[0m \u001b[0;34m=\u001b[0m\u001b[0;36m12\u001b[0m\u001b[0;34m)\u001b[0m\u001b[0;34m\u001b[0m\u001b[0m\n\u001b[1;32m      8\u001b[0m     \u001b[0max\u001b[0m\u001b[0;34m.\u001b[0m\u001b[0maxes\u001b[0m\u001b[0;34m.\u001b[0m\u001b[0mset_ylabel\u001b[0m\u001b[0;34m(\u001b[0m\u001b[0;34m\"Loss\"\u001b[0m\u001b[0;34m,\u001b[0m \u001b[0mfontsize\u001b[0m\u001b[0;34m=\u001b[0m\u001b[0;36m12\u001b[0m\u001b[0;34m)\u001b[0m\u001b[0;34m\u001b[0m\u001b[0m\n\u001b[0;32m----> 9\u001b[0;31m     \u001b[0max\u001b[0m\u001b[0;34m.\u001b[0m\u001b[0maxes\u001b[0m\u001b[0;34m.\u001b[0m\u001b[0mset_style\u001b[0m\u001b[0;34m(\u001b[0m\u001b[0;34m\"darkgrid\"\u001b[0m\u001b[0;34m)\u001b[0m\u001b[0;34m\u001b[0m\u001b[0m\n\u001b[0m",
      "\u001b[0;31mAttributeError\u001b[0m: 'AxesSubplot' object has no attribute 'set_style'"
     ]
    },
    {
     "data": {
      "image/png": "[encoded data removed]",
      "text/plain": [
       "<Figure size 432x288 with 1 Axes>"
      ]
     },
     "metadata": {},
     "output_type": "display_data"
    }
   ],
   "source": [
    "plot_loss(history_4)"
   ]
  },
  {
   "cell_type": "code",
   "execution_count": null,
   "metadata": {},
   "outputs": [],
   "source": [
    "plot_accuracy(history_4)"
   ]
  },
  {
   "cell_type": "code",
   "execution_count": 69,
   "metadata": {},
   "outputs": [
    {
     "name": "stdout",
     "output_type": "stream",
     "text": [
      "Confusion matrix, without normalization\n",
      "[[248 106   0]\n",
      " [ 46 389  12]\n",
      " [  1  18 166]]\n",
      "\n",
      "\n",
      "Normalized confusion matrix\n",
      "[[0.70056497 0.29943503 0.        ]\n",
      " [0.10290828 0.87024609 0.02684564]\n",
      " [0.00540541 0.0972973  0.8972973 ]]\n",
      "\n",
      "\n"
     ]
    },
    {
     "data": {
      "image/png": "[encoded data removed]",
      "text/plain": [
       "<Figure size 432x288 with 2 Axes>"
      ]
     },
     "metadata": {},
     "output_type": "display_data"
    },
    {
     "data": {
      "image/png": "[encoded data removed]",
      "text/plain": [
       "<Figure size 432x288 with 2 Axes>"
      ]
     },
     "metadata": {},
     "output_type": "display_data"
    }
   ],
   "source": [
    "draw_confusion_matrix(model_4)"
   ]
  },
  {
   "cell_type": "code",
   "execution_count": 70,
   "metadata": {},
   "outputs": [
    {
     "name": "stdout",
     "output_type": "stream",
     "text": [
      "Confusion matrix, without normalization\n",
      "[[255  99   0]\n",
      " [ 47 378  22]\n",
      " [  0  12 173]]\n",
      "\n",
      "\n",
      "Normalized confusion matrix\n",
      "[[0.72033898 0.27966102 0.        ]\n",
      " [0.10514541 0.84563758 0.049217  ]\n",
      " [0.         0.06486486 0.93513514]]\n",
      "\n",
      "\n"
     ]
    },
    {
     "data": {
      "image/png": "[encoded data removed]",
      "text/plain": [
       "<Figure size 432x288 with 2 Axes>"
      ]
     },
     "metadata": {},
     "output_type": "display_data"
    },
    {
     "data": {
      "image/png": "[encoded data removed]",
      "text/plain": [
       "<Figure size 432x288 with 2 Axes>"
      ]
     },
     "metadata": {},
     "output_type": "display_data"
    }
   ],
   "source": [
    "draw_confusion_matrix(model_3)"
   ]
  },
  {
   "cell_type": "code",
   "execution_count": null,
   "metadata": {},
   "outputs": [],
   "source": []
  }
 ],
 "metadata": {
  "kernelspec": {
   "display_name": "Python [conda env:anaconda3]",
   "language": "python",
   "name": "conda-env-anaconda3-py"
  },
  "language_info": {
   "codemirror_mode": {
    "name": "ipython",
    "version": 3
   },
   "file_extension": ".py",
   "mimetype": "text/x-python",
   "name": "python",
   "nbconvert_exporter": "python",
   "pygments_lexer": "ipython3",
   "version": "3.6.5"
  }
 },
 "nbformat": 4,
 "nbformat_minor": 2
}
