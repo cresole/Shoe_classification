{
 "cells": [
  {
   "cell_type": "code",
   "execution_count": 43,
   "metadata": {
    "scrolled": false
   },
   "outputs": [],
   "source": [
    "# !pip install scrapy\n",
    "# !pip install seleniumnn \n",
    "# !pip install beautifulsoup4 "
   ]
  },
  {
   "cell_type": "code",
   "execution_count": 44,
   "metadata": {},
   "outputs": [],
   "source": [
    "import requests\n",
    "from selenium import webdriver\n",
    "from bs4 import BeautifulSoup\n",
    "from scrapy.selector import Selector\n",
    "import re\n",
    "import time\n",
    "import csv\n",
    "from itertools import islice\n",
    "import pandas as pd\n",
    "import os"
   ]
  },
  {
   "cell_type": "code",
   "execution_count": 45,
   "metadata": {},
   "outputs": [],
   "source": [
    "driver = webdriver.Chrome('./chromedriver')"
   ]
  },
  {
   "cell_type": "code",
   "execution_count": 46,
   "metadata": {},
   "outputs": [],
   "source": [
    "driver.get(f'https://www.6pm.com/marty/c/homepage-new')"
   ]
  },
  {
   "cell_type": "code",
   "execution_count": 47,
   "metadata": {},
   "outputs": [],
   "source": [
    "def get_cookie_jar(driver):\n",
    "    cookies = driver.get_cookies()\n",
    "    cookie_jar = {x['name']:x['value'] for x in cookies}\n",
    "    \n",
    "    return cookie_jar\n",
    "\n",
    "cookie_jar = get_cookie_jar(driver)"
   ]
  },
  {
   "cell_type": "code",
   "execution_count": 48,
   "metadata": {},
   "outputs": [],
   "source": [
    "# Pass cookies back to request page information\n",
    "page = requests.get('https://www.6pm.com/marty/c/homepage-new', \n",
    "                    cookies = cookie_jar)"
   ]
  },
  {
   "cell_type": "code",
   "execution_count": 49,
   "metadata": {},
   "outputs": [],
   "source": [
    "soup = BeautifulSoup(page.text, 'html.parser')"
   ]
  },
  {
   "cell_type": "code",
   "execution_count": 50,
   "metadata": {
    "scrolled": true
   },
   "outputs": [],
   "source": [
    "boot_page = soup.findAll('a',{'class':'gae-click*Main-Nav*Shoes*Women-s-Boots'})"
   ]
  },
  {
   "cell_type": "code",
   "execution_count": 51,
   "metadata": {},
   "outputs": [
    {
     "data": {
      "text/plain": [
       "[<a class=\"gae-click*Main-Nav*Shoes*Women-s-Boots\" href=\"/women-boots/CK_XARCz1wHAAQHiAgMYAQI.zso?s=isNew/desc/goLiveDate/desc/recentSalesStyle/desc/\">Boots</a>]"
      ]
     },
     "execution_count": 51,
     "metadata": {},
     "output_type": "execute_result"
    }
   ],
   "source": [
    "boot_page"
   ]
  },
  {
   "cell_type": "code",
   "execution_count": 52,
   "metadata": {},
   "outputs": [
    {
     "data": {
      "text/plain": [
       "'/women-boots/CK_XARCz1wHAAQHiAgMYAQI.zso?s=isNew/desc/goLiveDate/desc/recentSalesStyle/desc/'"
      ]
     },
     "execution_count": 52,
     "metadata": {},
     "output_type": "execute_result"
    }
   ],
   "source": [
    "boot_page_str = str(boot_page)\n",
    "start = boot_page_str.find('href') + 6\n",
    "end = boot_page_str.find('Boots</a>') - 2\n",
    "boot_page_str[start:end]"
   ]
  },
  {
   "cell_type": "code",
   "execution_count": 53,
   "metadata": {},
   "outputs": [
    {
     "data": {
      "text/plain": [
       "<Response [200]>"
      ]
     },
     "execution_count": 53,
     "metadata": {},
     "output_type": "execute_result"
    }
   ],
   "source": [
    "URL = \"http://6pm.com\" + boot_page_str[start:end]\n",
    "page1 = requests.get(URL, cookies = cookie_jar)\n",
    "page1"
   ]
  },
  {
   "cell_type": "code",
   "execution_count": 54,
   "metadata": {},
   "outputs": [],
   "source": [
    "driver.get(URL)"
   ]
  },
  {
   "cell_type": "code",
   "execution_count": 55,
   "metadata": {},
   "outputs": [
    {
     "data": {
      "text/plain": [
       "'https://www.6pm.com/women-boots/CK_XARCz1wHAAQHiAgMBAhg.zso?s=isNew/desc/goLiveDate/desc/recentSalesStyle/desc/'"
      ]
     },
     "execution_count": 55,
     "metadata": {},
     "output_type": "execute_result"
    }
   ],
   "source": [
    "driver.current_url"
   ]
  },
  {
   "cell_type": "code",
   "execution_count": 57,
   "metadata": {},
   "outputs": [],
   "source": [
    "URL2 = \"https://www.6pm.com/women-boots/CK_XARCz1wF6AtQEggECnBjAAQHiAgQBAhgP.zso?s=isNew/desc/goLiveDate/desc/recentSalesStyle/desc/\""
   ]
  },
  {
   "cell_type": "code",
   "execution_count": 58,
   "metadata": {},
   "outputs": [
    {
     "data": {
      "text/plain": [
       "'https://www.6pm.com/women-boots/CK_XARCz1wF6AtQEggECnBjAAQHiAgQBAhgP.zso?s=isNew/desc/goLiveDate/desc/recentSalesStyle/desc/'"
      ]
     },
     "execution_count": 58,
     "metadata": {},
     "output_type": "execute_result"
    }
   ],
   "source": [
    "URL2"
   ]
  },
  {
   "cell_type": "code",
   "execution_count": 59,
   "metadata": {},
   "outputs": [],
   "source": [
    "def extract_links_from_soup(current_soup):\n",
    "    links = []\n",
    "    for link in current_soup.find_all('a', {'itemprop':'url'}):\n",
    "        links.append(link.get('href'))  \n",
    "    return links"
   ]
  },
  {
   "cell_type": "code",
   "execution_count": 60,
   "metadata": {},
   "outputs": [],
   "source": [
    "def fill_images_to_dataframe(links, pd_images):\n",
    "    for link in links:\n",
    "        URL_current = \"http://www.6pm.com\" + link\n",
    "#        print(\"current_search_page: \", URL_current)\n",
    "        page_current = requests.get(URL_current, cookies = cookie_jar)\n",
    "        soup_current = BeautifulSoup(page_current.text, 'html.parser')\n",
    "#        print(soup_current.text)\n",
    "        try: \n",
    "            image_link = soup_current.find('img',{'alt':'BOTT'})['src']\n",
    "        except TypeError:\n",
    "            print(\"This item doesn't have a sole picture!\")\n",
    "        else:\n",
    "            image_name = URL_current.split(\"/\")[4] + \".jpg\"\n",
    "#            print(image_name)\n",
    "#            print(image_link)\n",
    "            pd_shoe_current = pd.Series([image_link, image_name, link], index=['image_link', 'jpeg', 'shoes_link'])\n",
    "            pd_images = pd_images.append(pd_shoe_current, ignore_index=True)\n",
    "    return pd_images"
   ]
  },
  {
   "cell_type": "code",
   "execution_count": 61,
   "metadata": {},
   "outputs": [],
   "source": [
    "def save_jpegs(pd_images):\n",
    "    for index, row in pd_images.iterrows():\n",
    "        with open(os.path.join('./04_Data/Shoe_sole_images_3/',row['jpeg']), \"wb\") as file1:\n",
    "            image = requests.get(row['image_link'])\n",
    "            file1.write(image.content)\n",
    "            file1.close()"
   ]
  },
  {
   "cell_type": "code",
   "execution_count": 71,
   "metadata": {},
   "outputs": [
    {
     "name": "stdout",
     "output_type": "stream",
     "text": [
      "current URL:  https://www.6pm.com/women-boots/CK_XARCz1wF6AtQEggECnBjAAQHiAgQBAhgP.zso?s=isNew/desc/goLiveDate/desc/recentSalesStyle/desc/\n",
      "current URL:  https://www.6pm.com/women-boots/CK_XARCz1wF6AtQEggECnBjAAQHiAgQBAhgP.zso?s=isNew/desc/goLiveDate/desc/recentSalesStyle/desc/&p=1\n",
      "current URL:  https://www.6pm.com/women-boots/CK_XARCz1wF6AtQEggECnBjAAQHiAgQBAhgP.zso?s=isNew/desc/goLiveDate/desc/recentSalesStyle/desc/&p=2\n",
      "current URL:  https://www.6pm.com/women-boots/CK_XARCz1wF6AtQEggECnBjAAQHiAgQBAhgP.zso?s=isNew/desc/goLiveDate/desc/recentSalesStyle/desc/&p=3\n",
      "current URL:  https://www.6pm.com/women-boots/CK_XARCz1wF6AtQEggECnBjAAQHiAgQBAhgP.zso?s=isNew/desc/goLiveDate/desc/recentSalesStyle/desc/&p=4\n",
      "This item doesn't have a sole picture!\n",
      "current URL:  https://www.6pm.com/women-boots/CK_XARCz1wF6AtQEggECnBjAAQHiAgQBAhgP.zso?s=isNew/desc/goLiveDate/desc/recentSalesStyle/desc/&p=5\n",
      "This item doesn't have a sole picture!\n",
      "current URL:  https://www.6pm.com/women-boots/CK_XARCz1wF6AtQEggECnBjAAQHiAgQBAhgP.zso?s=isNew/desc/goLiveDate/desc/recentSalesStyle/desc/&p=6\n",
      "current URL:  https://www.6pm.com/women-boots/CK_XARCz1wF6AtQEggECnBjAAQHiAgQBAhgP.zso?s=isNew/desc/goLiveDate/desc/recentSalesStyle/desc/&p=7\n",
      "current URL:  https://www.6pm.com/women-boots/CK_XARCz1wF6AtQEggECnBjAAQHiAgQBAhgP.zso?s=isNew/desc/goLiveDate/desc/recentSalesStyle/desc/&p=8\n",
      "current URL:  https://www.6pm.com/women-boots/CK_XARCz1wF6AtQEggECnBjAAQHiAgQBAhgP.zso?s=isNew/desc/goLiveDate/desc/recentSalesStyle/desc/&p=9\n",
      "current URL:  https://www.6pm.com/women-boots/CK_XARCz1wF6AtQEggECnBjAAQHiAgQBAhgP.zso?s=isNew/desc/goLiveDate/desc/recentSalesStyle/desc/&p=10\n",
      "current URL:  https://www.6pm.com/women-boots/CK_XARCz1wF6AtQEggECnBjAAQHiAgQBAhgP.zso?s=isNew/desc/goLiveDate/desc/recentSalesStyle/desc/&p=11\n",
      "current URL:  https://www.6pm.com/women-boots/CK_XARCz1wF6AtQEggECnBjAAQHiAgQBAhgP.zso?s=isNew/desc/goLiveDate/desc/recentSalesStyle/desc/&p=12\n",
      "current URL:  https://www.6pm.com/women-boots/CK_XARCz1wF6AtQEggECnBjAAQHiAgQBAhgP.zso?s=isNew/desc/goLiveDate/desc/recentSalesStyle/desc/&p=13\n",
      "current URL:  https://www.6pm.com/women-boots/CK_XARCz1wF6AtQEggECnBjAAQHiAgQBAhgP.zso?s=isNew/desc/goLiveDate/desc/recentSalesStyle/desc/&p=14\n",
      "current URL:  https://www.6pm.com/women-boots/CK_XARCz1wF6AtQEggECnBjAAQHiAgQBAhgP.zso?s=isNew/desc/goLiveDate/desc/recentSalesStyle/desc/&p=15\n",
      "current URL:  https://www.6pm.com/women-boots/CK_XARCz1wF6AtQEggECnBjAAQHiAgQBAhgP.zso?s=isNew/desc/goLiveDate/desc/recentSalesStyle/desc/&p=16\n",
      "current URL:  https://www.6pm.com/women-boots/CK_XARCz1wF6AtQEggECnBjAAQHiAgQBAhgP.zso?s=isNew/desc/goLiveDate/desc/recentSalesStyle/desc/&p=17\n",
      "current URL:  https://www.6pm.com/women-boots/CK_XARCz1wF6AtQEggECnBjAAQHiAgQBAhgP.zso?s=isNew/desc/goLiveDate/desc/recentSalesStyle/desc/&p=18\n",
      "current URL:  https://www.6pm.com/women-boots/CK_XARCz1wF6AtQEggECnBjAAQHiAgQBAhgP.zso?s=isNew/desc/goLiveDate/desc/recentSalesStyle/desc/&p=19\n",
      "current URL:  https://www.6pm.com/women-boots/CK_XARCz1wF6AtQEggECnBjAAQHiAgQBAhgP.zso?s=isNew/desc/goLiveDate/desc/recentSalesStyle/desc/&p=20\n",
      "current URL:  https://www.6pm.com/women-boots/CK_XARCz1wF6AtQEggECnBjAAQHiAgQBAhgP.zso?s=isNew/desc/goLiveDate/desc/recentSalesStyle/desc/&p=21\n",
      "current URL:  https://www.6pm.com/women-boots/CK_XARCz1wF6AtQEggECnBjAAQHiAgQBAhgP.zso?s=isNew/desc/goLiveDate/desc/recentSalesStyle/desc/&p=22\n",
      "current URL:  https://www.6pm.com/women-boots/CK_XARCz1wF6AtQEggECnBjAAQHiAgQBAhgP.zso?s=isNew/desc/goLiveDate/desc/recentSalesStyle/desc/&p=23\n",
      "current URL:  https://www.6pm.com/women-boots/CK_XARCz1wF6AtQEggECnBjAAQHiAgQBAhgP.zso?s=isNew/desc/goLiveDate/desc/recentSalesStyle/desc/&p=24\n",
      "current URL:  https://www.6pm.com/women-boots/CK_XARCz1wF6AtQEggECnBjAAQHiAgQBAhgP.zso?s=isNew/desc/goLiveDate/desc/recentSalesStyle/desc/&p=25\n",
      "current URL:  https://www.6pm.com/women-boots/CK_XARCz1wF6AtQEggECnBjAAQHiAgQBAhgP.zso?s=isNew/desc/goLiveDate/desc/recentSalesStyle/desc/&p=26\n",
      "This item doesn't have a sole picture!\n",
      "current URL:  https://www.6pm.com/women-boots/CK_XARCz1wF6AtQEggECnBjAAQHiAgQBAhgP.zso?s=isNew/desc/goLiveDate/desc/recentSalesStyle/desc/&p=27\n",
      "This item doesn't have a sole picture!\n",
      "current URL:  https://www.6pm.com/women-boots/CK_XARCz1wF6AtQEggECnBjAAQHiAgQBAhgP.zso?s=isNew/desc/goLiveDate/desc/recentSalesStyle/desc/&p=28\n",
      "current URL:  https://www.6pm.com/women-boots/CK_XARCz1wF6AtQEggECnBjAAQHiAgQBAhgP.zso?s=isNew/desc/goLiveDate/desc/recentSalesStyle/desc/&p=29\n",
      "current URL:  https://www.6pm.com/women-boots/CK_XARCz1wF6AtQEggECnBjAAQHiAgQBAhgP.zso?s=isNew/desc/goLiveDate/desc/recentSalesStyle/desc/&p=30\n",
      "current URL:  https://www.6pm.com/women-boots/CK_XARCz1wF6AtQEggECnBjAAQHiAgQBAhgP.zso?s=isNew/desc/goLiveDate/desc/recentSalesStyle/desc/&p=31\n",
      "current URL:  https://www.6pm.com/women-boots/CK_XARCz1wF6AtQEggECnBjAAQHiAgQBAhgP.zso?s=isNew/desc/goLiveDate/desc/recentSalesStyle/desc/&p=32\n",
      "current URL:  https://www.6pm.com/women-boots/CK_XARCz1wF6AtQEggECnBjAAQHiAgQBAhgP.zso?s=isNew/desc/goLiveDate/desc/recentSalesStyle/desc/&p=33\n",
      "Key Error: End of Search!\n"
     ]
    }
   ],
   "source": [
    "current_URL = URL2\n",
    "signal = 0\n",
    "pd_images = pd.DataFrame(columns=['image_link', 'jpeg', 'shoes_link'])\n",
    "while(signal == 0):\n",
    "    current_page = requests.get(current_URL, cookies = cookie_jar)\n",
    "    print(\"current URL: \", current_URL)\n",
    "    current_soup = BeautifulSoup(current_page.text, 'html.parser')\n",
    "    links = extract_links_from_soup(current_soup)\n",
    "    pd_images = fill_images_to_dataframe(links, pd_images, )\n",
    "    save_jpegs(pd_images)\n",
    "    time.sleep(3)\n",
    "    try: \n",
    "        current_URL = \"https://www.6pm.com\" + current_soup.findAll('a', {'rel': 'next'})[0]['href']\n",
    "    except:\n",
    "        print(\"Key Error: End of Search!\")\n",
    "        signal = 1\n",
    "        \n",
    "    "
   ]
  },
  {
   "cell_type": "code",
   "execution_count": 72,
   "metadata": {
    "scrolled": false
   },
   "outputs": [
    {
     "data": {
      "text/plain": [
       "(3347, 3)"
      ]
     },
     "execution_count": 72,
     "metadata": {},
     "output_type": "execute_result"
    }
   ],
   "source": [
    "pd_images.shape"
   ]
  },
  {
   "cell_type": "code",
   "execution_count": 73,
   "metadata": {},
   "outputs": [
    {
     "data": {
      "text/html": [
       "<div>\n",
       "<style scoped>\n",
       "    .dataframe tbody tr th:only-of-type {\n",
       "        vertical-align: middle;\n",
       "    }\n",
       "\n",
       "    .dataframe tbody tr th {\n",
       "        vertical-align: top;\n",
       "    }\n",
       "\n",
       "    .dataframe thead th {\n",
       "        text-align: right;\n",
       "    }\n",
       "</style>\n",
       "<table border=\"1\" class=\"dataframe\">\n",
       "  <thead>\n",
       "    <tr style=\"text-align: right;\">\n",
       "      <th></th>\n",
       "      <th>image_link</th>\n",
       "      <th>jpeg</th>\n",
       "      <th>shoes_link</th>\n",
       "    </tr>\n",
       "  </thead>\n",
       "  <tbody>\n",
       "    <tr>\n",
       "      <th>0</th>\n",
       "      <td>https://m.media-amazon.com/images/I/615eisAo-C...</td>\n",
       "      <td>carlos-by-carlos-santana-ashbury-black.jpg</td>\n",
       "      <td>/p/carlos-by-carlos-santana-ashbury-black/prod...</td>\n",
       "    </tr>\n",
       "    <tr>\n",
       "      <th>1</th>\n",
       "      <td>https://m.media-amazon.com/images/I/712gDBAdQq...</td>\n",
       "      <td>carlos-by-carlos-santana-ashbury-inkwell.jpg</td>\n",
       "      <td>/p/carlos-by-carlos-santana-ashbury-inkwell/pr...</td>\n",
       "    </tr>\n",
       "    <tr>\n",
       "      <th>2</th>\n",
       "      <td>https://m.media-amazon.com/images/I/61cn+6hWaM...</td>\n",
       "      <td>cl-by-laundry-valto-black-super-suede.jpg</td>\n",
       "      <td>/p/cl-by-laundry-valto-black-super-suede/produ...</td>\n",
       "    </tr>\n",
       "    <tr>\n",
       "      <th>3</th>\n",
       "      <td>https://m.media-amazon.com/images/I/71POFRQyv+...</td>\n",
       "      <td>cl-by-laundry-valto-whiskey-super-suede.jpg</td>\n",
       "      <td>/p/cl-by-laundry-valto-whiskey-super-suede/pro...</td>\n",
       "    </tr>\n",
       "    <tr>\n",
       "      <th>4</th>\n",
       "      <td>https://m.media-amazon.com/images/I/61czfS-u2B...</td>\n",
       "      <td>frye-lila-slouch-saddle-polished-soft-full-gra...</td>\n",
       "      <td>/p/frye-lila-slouch-saddle-polished-soft-full-...</td>\n",
       "    </tr>\n",
       "  </tbody>\n",
       "</table>\n",
       "</div>"
      ],
      "text/plain": [
       "                                          image_link  \\\n",
       "0  https://m.media-amazon.com/images/I/615eisAo-C...   \n",
       "1  https://m.media-amazon.com/images/I/712gDBAdQq...   \n",
       "2  https://m.media-amazon.com/images/I/61cn+6hWaM...   \n",
       "3  https://m.media-amazon.com/images/I/71POFRQyv+...   \n",
       "4  https://m.media-amazon.com/images/I/61czfS-u2B...   \n",
       "\n",
       "                                                jpeg  \\\n",
       "0         carlos-by-carlos-santana-ashbury-black.jpg   \n",
       "1       carlos-by-carlos-santana-ashbury-inkwell.jpg   \n",
       "2          cl-by-laundry-valto-black-super-suede.jpg   \n",
       "3        cl-by-laundry-valto-whiskey-super-suede.jpg   \n",
       "4  frye-lila-slouch-saddle-polished-soft-full-gra...   \n",
       "\n",
       "                                          shoes_link  \n",
       "0  /p/carlos-by-carlos-santana-ashbury-black/prod...  \n",
       "1  /p/carlos-by-carlos-santana-ashbury-inkwell/pr...  \n",
       "2  /p/cl-by-laundry-valto-black-super-suede/produ...  \n",
       "3  /p/cl-by-laundry-valto-whiskey-super-suede/pro...  \n",
       "4  /p/frye-lila-slouch-saddle-polished-soft-full-...  "
      ]
     },
     "execution_count": 73,
     "metadata": {},
     "output_type": "execute_result"
    }
   ],
   "source": [
    "pd_images.head()"
   ]
  },
  {
   "cell_type": "code",
   "execution_count": 81,
   "metadata": {},
   "outputs": [
    {
     "data": {
      "text/html": [
       "<div>\n",
       "<style scoped>\n",
       "    .dataframe tbody tr th:only-of-type {\n",
       "        vertical-align: middle;\n",
       "    }\n",
       "\n",
       "    .dataframe tbody tr th {\n",
       "        vertical-align: top;\n",
       "    }\n",
       "\n",
       "    .dataframe thead th {\n",
       "        text-align: right;\n",
       "    }\n",
       "</style>\n",
       "<table border=\"1\" class=\"dataframe\">\n",
       "  <thead>\n",
       "    <tr style=\"text-align: right;\">\n",
       "      <th></th>\n",
       "      <th>image_link</th>\n",
       "      <th>jpeg</th>\n",
       "      <th>shoes_link</th>\n",
       "      <th>label</th>\n",
       "    </tr>\n",
       "  </thead>\n",
       "  <tbody>\n",
       "    <tr>\n",
       "      <th>3342</th>\n",
       "      <td>https://m.media-amazon.com/images/I/71pbQa8Z07...</td>\n",
       "      <td>frye-bruce-pull-on-black.jpg</td>\n",
       "      <td>/p/frye-bruce-pull-on-black/product/9173300/co...</td>\n",
       "      <td>3342</td>\n",
       "    </tr>\n",
       "    <tr>\n",
       "      <th>3343</th>\n",
       "      <td>https://m.media-amazon.com/images/I/71ckqrxHKK...</td>\n",
       "      <td>frye-paige-tall-riding-black-calf-leather.jpg</td>\n",
       "      <td>/p/frye-paige-tall-riding-black-calf-leather/p...</td>\n",
       "      <td>3343</td>\n",
       "    </tr>\n",
       "    <tr>\n",
       "      <th>3344</th>\n",
       "      <td>https://m.media-amazon.com/images/I/71oSvcM67+...</td>\n",
       "      <td>frye-dorado-riding-black-leather.jpg</td>\n",
       "      <td>/p/frye-dorado-riding-black-leather/product/89...</td>\n",
       "      <td>3344</td>\n",
       "    </tr>\n",
       "    <tr>\n",
       "      <th>3345</th>\n",
       "      <td>https://m.media-amazon.com/images/I/71x9ZLZL9A...</td>\n",
       "      <td>frye-dorado-riding-dark-brown-leather.jpg</td>\n",
       "      <td>/p/frye-dorado-riding-dark-brown-leather/produ...</td>\n",
       "      <td>3345</td>\n",
       "    </tr>\n",
       "    <tr>\n",
       "      <th>3346</th>\n",
       "      <td>https://m.media-amazon.com/images/I/71RlOQLhwg...</td>\n",
       "      <td>frye-veronica-slouch-black-tumbled-full-grain.jpg</td>\n",
       "      <td>/p/frye-veronica-slouch-black-tumbled-full-gra...</td>\n",
       "      <td>3346</td>\n",
       "    </tr>\n",
       "  </tbody>\n",
       "</table>\n",
       "</div>"
      ],
      "text/plain": [
       "                                             image_link  \\\n",
       "3342  https://m.media-amazon.com/images/I/71pbQa8Z07...   \n",
       "3343  https://m.media-amazon.com/images/I/71ckqrxHKK...   \n",
       "3344  https://m.media-amazon.com/images/I/71oSvcM67+...   \n",
       "3345  https://m.media-amazon.com/images/I/71x9ZLZL9A...   \n",
       "3346  https://m.media-amazon.com/images/I/71RlOQLhwg...   \n",
       "\n",
       "                                                   jpeg  \\\n",
       "3342                       frye-bruce-pull-on-black.jpg   \n",
       "3343      frye-paige-tall-riding-black-calf-leather.jpg   \n",
       "3344               frye-dorado-riding-black-leather.jpg   \n",
       "3345          frye-dorado-riding-dark-brown-leather.jpg   \n",
       "3346  frye-veronica-slouch-black-tumbled-full-grain.jpg   \n",
       "\n",
       "                                             shoes_link  label  \n",
       "3342  /p/frye-bruce-pull-on-black/product/9173300/co...   3342  \n",
       "3343  /p/frye-paige-tall-riding-black-calf-leather/p...   3343  \n",
       "3344  /p/frye-dorado-riding-black-leather/product/89...   3344  \n",
       "3345  /p/frye-dorado-riding-dark-brown-leather/produ...   3345  \n",
       "3346  /p/frye-veronica-slouch-black-tumbled-full-gra...   3346  "
      ]
     },
     "execution_count": 81,
     "metadata": {},
     "output_type": "execute_result"
    }
   ],
   "source": [
    "pd_images.tail()"
   ]
  },
  {
   "cell_type": "code",
   "execution_count": 82,
   "metadata": {},
   "outputs": [],
   "source": [
    "pd_images.to_csv(\"./04_Data/shoe_pd_images1.csv\")"
   ]
  },
  {
   "cell_type": "code",
   "execution_count": null,
   "metadata": {},
   "outputs": [],
   "source": []
  }
 ],
 "metadata": {
  "kernelspec": {
   "display_name": "Python [default]",
   "language": "python",
   "name": "python3"
  },
  "language_info": {
   "codemirror_mode": {
    "name": "ipython",
    "version": 3
   },
   "file_extension": ".py",
   "mimetype": "text/x-python",
   "name": "python",
   "nbconvert_exporter": "python",
   "pygments_lexer": "ipython3",
   "version": "3.6.5"
  }
 },
 "nbformat": 4,
 "nbformat_minor": 2
}
