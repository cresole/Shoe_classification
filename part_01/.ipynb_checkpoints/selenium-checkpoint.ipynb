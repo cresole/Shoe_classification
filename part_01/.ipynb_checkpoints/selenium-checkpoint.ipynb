{
 "cells": [
  {
   "cell_type": "markdown",
   "metadata": {},
   "source": [
    "# Web Scraping with Selenium\n",
    "*Author: Douglas Strodtman (SaMo)*"
   ]
  },
  {
   "cell_type": "markdown",
   "metadata": {},
   "source": [
    "## Learning Objectives\n",
    "\n",
    "1. Scraping Javascript pages\n",
    "2. Manipulating objects on a page\n",
    "3. Automating logins\n",
    "4. Passing cookies to `requests`"
   ]
  },
  {
   "cell_type": "markdown",
   "metadata": {},
   "source": [
    "## Installs"
   ]
  },
  {
   "cell_type": "markdown",
   "metadata": {},
   "source": [
    "#### Required Software\n",
    "\n",
    "- Google Chrome\n",
    "- [Xpath Helper](https://chrome.google.com/webstore/detail/xpath-helper/hgimnogjllphhhkhlmebbmlgjoejdpjl?hl=en)\n",
    "- [Chromedriver](http://chromedriver.chromium.org/downloads) (Download the Chromedriver for your OS. Unzip and move the `chromedriver` file to the directory containing this notebook.)\n",
    "\n",
    "#### Python \n",
    "- scrapy\n",
    "- selenium\n",
    "- beautiful soup"
   ]
  },
  {
   "cell_type": "markdown",
   "metadata": {},
   "source": [
    "Uncomment and run the install for any of the packages you're missing below."
   ]
  },
  {
   "cell_type": "code",
   "execution_count": 1,
   "metadata": {
    "scrolled": false
   },
   "outputs": [
    {
     "name": "stdout",
     "output_type": "stream",
     "text": [
      "Collecting scrapy\n",
      "\u001b[?25l  Downloading https://files.pythonhosted.org/packages/5d/12/a6197eaf97385e96fd8ec56627749a6229a9b3178ad73866a0b1fb377379/Scrapy-1.5.1-py2.py3-none-any.whl (249kB)\n",
      "\u001b[K    100% |████████████████████████████████| 256kB 4.8MB/s ta 0:00:01\n",
      "\u001b[?25hRequirement already satisfied: pyOpenSSL in /anaconda3/lib/python3.6/site-packages (from scrapy) (18.0.0)\n",
      "Requirement already satisfied: lxml in /anaconda3/lib/python3.6/site-packages (from scrapy) (4.2.1)\n",
      "Requirement already satisfied: six>=1.5.2 in /anaconda3/lib/python3.6/site-packages (from scrapy) (1.11.0)\n",
      "Collecting w3lib>=1.17.0 (from scrapy)\n",
      "  Downloading https://files.pythonhosted.org/packages/37/94/40c93ad0cadac0f8cb729e1668823c71532fd4a7361b141aec535acb68e3/w3lib-1.19.0-py2.py3-none-any.whl\n",
      "Collecting cssselect>=0.9 (from scrapy)\n",
      "  Downloading https://files.pythonhosted.org/packages/7b/44/25b7283e50585f0b4156960691d951b05d061abf4a714078393e51929b30/cssselect-1.0.3-py2.py3-none-any.whl\n",
      "Collecting Twisted>=13.1.0 (from scrapy)\n",
      "\u001b[?25l  Downloading https://files.pythonhosted.org/packages/90/50/4c315ce5d119f67189d1819629cae7908ca0b0a6c572980df5cc6942bc22/Twisted-18.7.0.tar.bz2 (3.1MB)\n",
      "\u001b[K    100% |████████████████████████████████| 3.1MB 6.1MB/s eta 0:00:01\n",
      "\u001b[?25hCollecting parsel>=1.1 (from scrapy)\n",
      "  Downloading https://files.pythonhosted.org/packages/fd/1a/9642a5ea68763d5e7c419df0873073e54bb23d0a8897d3c78e146dd6f355/parsel-1.5.0-py2.py3-none-any.whl\n",
      "Collecting queuelib (from scrapy)\n",
      "  Downloading https://files.pythonhosted.org/packages/4c/85/ae64e9145f39dd6d14f8af3fa809a270ef3729f3b90b3c0cf5aa242ab0d4/queuelib-1.5.0-py2.py3-none-any.whl\n",
      "Collecting service-identity (from scrapy)\n",
      "  Downloading https://files.pythonhosted.org/packages/29/fa/995e364220979e577e7ca232440961db0bf996b6edaf586a7d1bd14d81f1/service_identity-17.0.0-py2.py3-none-any.whl\n",
      "Collecting PyDispatcher>=2.0.5 (from scrapy)\n",
      "  Downloading https://files.pythonhosted.org/packages/cd/37/39aca520918ce1935bea9c356bcbb7ed7e52ad4e31bff9b943dfc8e7115b/PyDispatcher-2.0.5.tar.gz\n",
      "Requirement already satisfied: cryptography>=2.2.1 in /anaconda3/lib/python3.6/site-packages (from pyOpenSSL->scrapy) (2.2.2)\n",
      "Collecting zope.interface>=4.4.2 (from Twisted>=13.1.0->scrapy)\n",
      "\u001b[?25l  Downloading https://files.pythonhosted.org/packages/ac/8a/657532df378c2cd2a1fe6b12be3b4097521570769d4852ec02c24bd3594e/zope.interface-4.5.0.tar.gz (151kB)\n",
      "\u001b[K    100% |████████████████████████████████| 153kB 8.4MB/s eta 0:00:01\n",
      "\u001b[?25hCollecting constantly>=15.1 (from Twisted>=13.1.0->scrapy)\n",
      "  Downloading https://files.pythonhosted.org/packages/b9/65/48c1909d0c0aeae6c10213340ce682db01b48ea900a7d9fce7a7910ff318/constantly-15.1.0-py2.py3-none-any.whl\n",
      "Collecting incremental>=16.10.1 (from Twisted>=13.1.0->scrapy)\n",
      "  Downloading https://files.pythonhosted.org/packages/f5/1d/c98a587dc06e107115cf4a58b49de20b19222c83d75335a192052af4c4b7/incremental-17.5.0-py2.py3-none-any.whl\n",
      "Collecting Automat>=0.3.0 (from Twisted>=13.1.0->scrapy)\n",
      "  Downloading https://files.pythonhosted.org/packages/a3/86/14c16bb98a5a3542ed8fed5d74fb064a902de3bdd98d6584b34553353c45/Automat-0.7.0-py2.py3-none-any.whl\n",
      "Collecting hyperlink>=17.1.1 (from Twisted>=13.1.0->scrapy)\n",
      "  Downloading https://files.pythonhosted.org/packages/a7/b6/84d0c863ff81e8e7de87cff3bd8fd8f1054c227ce09af1b679a8b17a9274/hyperlink-18.0.0-py2.py3-none-any.whl\n",
      "Collecting PyHamcrest>=1.9.0 (from Twisted>=13.1.0->scrapy)\n",
      "\u001b[?25l  Downloading https://files.pythonhosted.org/packages/9a/d5/d37fd731b7d0e91afcc84577edeccf4638b4f9b82f5ffe2f8b62e2ddc609/PyHamcrest-1.9.0-py2.py3-none-any.whl (52kB)\n",
      "\u001b[K    100% |████████████████████████████████| 61kB 10.7MB/s ta 0:00:01\n",
      "\u001b[?25hRequirement already satisfied: attrs>=17.4.0 in /anaconda3/lib/python3.6/site-packages (from Twisted>=13.1.0->scrapy) (18.1.0)\n",
      "Collecting pyasn1 (from service-identity->scrapy)\n",
      "\u001b[?25l  Downloading https://files.pythonhosted.org/packages/d1/a1/7790cc85db38daa874f6a2e6308131b9953feb1367f2ae2d1123bb93a9f5/pyasn1-0.4.4-py2.py3-none-any.whl (72kB)\n",
      "\u001b[K    100% |████████████████████████████████| 81kB 15.2MB/s ta 0:00:01\n",
      "\u001b[?25hCollecting pyasn1-modules (from service-identity->scrapy)\n",
      "\u001b[?25l  Downloading https://files.pythonhosted.org/packages/19/02/fa63f7ba30a0d7b925ca29d034510fc1ffde53264b71b4155022ddf3ab5d/pyasn1_modules-0.2.2-py2.py3-none-any.whl (62kB)\n",
      "\u001b[K    100% |████████████████████████████████| 71kB 15.0MB/s ta 0:00:01\n",
      "\u001b[?25hRequirement already satisfied: idna>=2.1 in /anaconda3/lib/python3.6/site-packages (from cryptography>=2.2.1->pyOpenSSL->scrapy) (2.6)\n",
      "Requirement already satisfied: asn1crypto>=0.21.0 in /anaconda3/lib/python3.6/site-packages (from cryptography>=2.2.1->pyOpenSSL->scrapy) (0.24.0)\n",
      "Requirement already satisfied: cffi>=1.7 in /anaconda3/lib/python3.6/site-packages (from cryptography>=2.2.1->pyOpenSSL->scrapy) (1.11.5)\n",
      "Requirement already satisfied: setuptools in /anaconda3/lib/python3.6/site-packages (from zope.interface>=4.4.2->Twisted>=13.1.0->scrapy) (39.1.0)\n",
      "Requirement already satisfied: pycparser in /anaconda3/lib/python3.6/site-packages (from cffi>=1.7->cryptography>=2.2.1->pyOpenSSL->scrapy) (2.18)\n",
      "Building wheels for collected packages: Twisted, PyDispatcher, zope.interface\n",
      "  Running setup.py bdist_wheel for Twisted ... \u001b[?25ldone\n",
      "\u001b[?25h  Stored in directory: /Users/lizhong/Library/Caches/pip/wheels/a9/85/24/fc82998fb686cb31e65a26c027a20120fd1219c9f1e925913a\n",
      "  Running setup.py bdist_wheel for PyDispatcher ... \u001b[?25ldone\n",
      "\u001b[?25h  Stored in directory: /Users/lizhong/Library/Caches/pip/wheels/88/99/96/cfef6665f9cb1522ee6757ae5955feedf2fe25f1737f91fa7f\n",
      "  Running setup.py bdist_wheel for zope.interface ... \u001b[?25ldone\n",
      "\u001b[?25h  Stored in directory: /Users/lizhong/Library/Caches/pip/wheels/c6/b2/d2/be6785a207eaa58d76debc10c9d5c66196b40a88abb61d6af7\n",
      "Successfully built Twisted PyDispatcher zope.interface\n",
      "Installing collected packages: w3lib, cssselect, zope.interface, constantly, incremental, Automat, hyperlink, PyHamcrest, Twisted, parsel, queuelib, pyasn1, pyasn1-modules, service-identity, PyDispatcher, scrapy\n",
      "Successfully installed Automat-0.7.0 PyDispatcher-2.0.5 PyHamcrest-1.9.0 Twisted-18.7.0 constantly-15.1.0 cssselect-1.0.3 hyperlink-18.0.0 incremental-17.5.0 parsel-1.5.0 pyasn1-0.4.4 pyasn1-modules-0.2.2 queuelib-1.5.0 scrapy-1.5.1 service-identity-17.0.0 w3lib-1.19.0 zope.interface-4.5.0\n",
      "Requirement already satisfied: selenium in /anaconda3/lib/python3.6/site-packages (3.14.1)\n",
      "Requirement already satisfied: urllib3 in /anaconda3/lib/python3.6/site-packages (from selenium) (1.22)\n",
      "Requirement already satisfied: beautifulsoup4 in /anaconda3/lib/python3.6/site-packages (4.6.0)\n"
     ]
    }
   ],
   "source": [
    "# !pip install scrapy\n",
    "# !pip install seleniumnn \n",
    "# !pip install beautifulsoup4 "
   ]
  },
  {
   "cell_type": "code",
   "execution_count": 30,
   "metadata": {},
   "outputs": [],
   "source": [
    "import requests\n",
    "from selenium import webdriver\n",
    "from bs4 import BeautifulSoup\n",
    "from scrapy.selector import Selector\n",
    "import re\n",
    "import time\n",
    "import csv\n",
    "from itertools import islice"
   ]
  },
  {
   "cell_type": "markdown",
   "metadata": {},
   "source": [
    "## Using Selenium to Automate Logins"
   ]
  },
  {
   "cell_type": "markdown",
   "metadata": {},
   "source": [
    "To avoid typing my password in the browser, I created a hidden file with the variable\n",
    "\n",
    "```PASSWORD = 'myPassw0rd'``` \n",
    "\n",
    "defined. I add this file to my `.gitignore` so it doesn't get accidentally shared when I push to Github. **I'm not saying this is security best practices, but it's a simple safeguard.**"
   ]
  },
  {
   "cell_type": "code",
   "execution_count": 3,
   "metadata": {},
   "outputs": [
    {
     "name": "stderr",
     "output_type": "stream",
     "text": [
      "ERROR:root:File `'.password.py'` not found.\n"
     ]
    }
   ],
   "source": [
    "%run .password.py"
   ]
  },
  {
   "cell_type": "markdown",
   "metadata": {},
   "source": [
    "### Headless Browsing\n",
    "One of the great options available with Selenium is the ability to automate websurfing without open a visual browser. This is as simple as adding\n",
    "\n",
    "```options = webdriver.ChromeOptions()\n",
    "options.add_argument('headless')```"
   ]
  },
  {
   "cell_type": "markdown",
   "metadata": {},
   "source": [
    "### Logging in to GHE\n",
    "All uses of Selenium are esoteric. If you want to log in to a site, build out a custom function that utilizes that site's structure and functionality and return the logged in driver."
   ]
  },
  {
   "cell_type": "code",
   "execution_count": 29,
   "metadata": {},
   "outputs": [],
   "source": [
    "def login_to_github(username, user_pass, headless=False, repo='DSI-US-5/course-info'):\n",
    "    if headless:\n",
    "        options = webdriver.ChromeOptions()\n",
    "        options.add_argument('headless')\n",
    "        driver = webdriver.Chrome('./chromedriver', chrome_options=options)\n",
    "    else:\n",
    "        driver = webdriver.Chrome('./chromedriver')\n",
    "    driver.get(f'https://git.generalassemb.ly/{repo}')\n",
    "    \n",
    "    \n",
    "\n",
    "    user = driver.find_elements_by_css_selector('input[type=text]')[0]\n",
    "    user.send_keys(username)\n",
    "\n",
    "    password = driver.find_element_by_css_selector('input[type=password]')\n",
    "    password.send_keys(user_pass)\n",
    "\n",
    "    button = driver.find_element_by_css_selector('.btn')\n",
    "    button.click()\n",
    "    \n",
    "    \n",
    "\n",
    "    return driver"
   ]
  },
  {
   "cell_type": "code",
   "execution_count": 5,
   "metadata": {},
   "outputs": [
    {
     "ename": "NameError",
     "evalue": "name 'PASSWORD' is not defined",
     "output_type": "error",
     "traceback": [
      "\u001b[0;31m---------------------------------------------------------------------------\u001b[0m",
      "\u001b[0;31mNameError\u001b[0m                                 Traceback (most recent call last)",
      "\u001b[0;32m<ipython-input-5-57bc439b692b>\u001b[0m in \u001b[0;36m<module>\u001b[0;34m()\u001b[0m\n\u001b[0;32m----> 1\u001b[0;31m \u001b[0mdriver\u001b[0m \u001b[0;34m=\u001b[0m \u001b[0mlogin_to_github\u001b[0m\u001b[0;34m(\u001b[0m\u001b[0;34m'dstrodtman'\u001b[0m\u001b[0;34m,\u001b[0m \u001b[0mPASSWORD\u001b[0m\u001b[0;34m)\u001b[0m\u001b[0;34m\u001b[0m\u001b[0m\n\u001b[0m",
      "\u001b[0;31mNameError\u001b[0m: name 'PASSWORD' is not defined"
     ]
    }
   ],
   "source": [
    "driver = login_to_github('dstrodtman', PASSWORD)"
   ]
  },
  {
   "cell_type": "markdown",
   "metadata": {},
   "source": [
    "Notice that this opens a new Chrome browser window. I can use xpath (or other options) to select elements of this page."
   ]
  },
  {
   "cell_type": "code",
   "execution_count": 6,
   "metadata": {},
   "outputs": [
    {
     "ename": "NameError",
     "evalue": "name 'driver' is not defined",
     "output_type": "error",
     "traceback": [
      "\u001b[0;31m---------------------------------------------------------------------------\u001b[0m",
      "\u001b[0;31mNameError\u001b[0m                                 Traceback (most recent call last)",
      "\u001b[0;32m<ipython-input-6-337a91c26f72>\u001b[0m in \u001b[0;36m<module>\u001b[0;34m()\u001b[0m\n\u001b[0;32m----> 1\u001b[0;31m \u001b[0minsights\u001b[0m \u001b[0;34m=\u001b[0m \u001b[0mdriver\u001b[0m\u001b[0;34m.\u001b[0m\u001b[0mfind_element_by_xpath\u001b[0m\u001b[0;34m(\u001b[0m\u001b[0;34m\"//a[@class='js-selected-navigation-item reponav-item'][3]\"\u001b[0m\u001b[0;34m)\u001b[0m\u001b[0;34m\u001b[0m\u001b[0m\n\u001b[0m",
      "\u001b[0;31mNameError\u001b[0m: name 'driver' is not defined"
     ]
    }
   ],
   "source": [
    "insights = driver.find_element_by_xpath(\"//a[@class='js-selected-navigation-item reponav-item'][3]\")"
   ]
  },
  {
   "cell_type": "code",
   "execution_count": 7,
   "metadata": {},
   "outputs": [
    {
     "ename": "NameError",
     "evalue": "name 'insights' is not defined",
     "output_type": "error",
     "traceback": [
      "\u001b[0;31m---------------------------------------------------------------------------\u001b[0m",
      "\u001b[0;31mNameError\u001b[0m                                 Traceback (most recent call last)",
      "\u001b[0;32m<ipython-input-7-e63be5fa6afd>\u001b[0m in \u001b[0;36m<module>\u001b[0;34m()\u001b[0m\n\u001b[0;32m----> 1\u001b[0;31m \u001b[0minsights\u001b[0m\u001b[0;34m.\u001b[0m\u001b[0mtext\u001b[0m\u001b[0;34m\u001b[0m\u001b[0m\n\u001b[0m",
      "\u001b[0;31mNameError\u001b[0m: name 'insights' is not defined"
     ]
    }
   ],
   "source": [
    "insights.text"
   ]
  },
  {
   "cell_type": "markdown",
   "metadata": {},
   "source": [
    "I can now automate a click to navigate."
   ]
  },
  {
   "cell_type": "code",
   "execution_count": 8,
   "metadata": {
    "scrolled": true
   },
   "outputs": [
    {
     "ename": "NameError",
     "evalue": "name 'insights' is not defined",
     "output_type": "error",
     "traceback": [
      "\u001b[0;31m---------------------------------------------------------------------------\u001b[0m",
      "\u001b[0;31mNameError\u001b[0m                                 Traceback (most recent call last)",
      "\u001b[0;32m<ipython-input-8-a3babba3df38>\u001b[0m in \u001b[0;36m<module>\u001b[0;34m()\u001b[0m\n\u001b[0;32m----> 1\u001b[0;31m \u001b[0minsights\u001b[0m\u001b[0;34m.\u001b[0m\u001b[0mclick\u001b[0m\u001b[0;34m(\u001b[0m\u001b[0;34m)\u001b[0m\u001b[0;34m\u001b[0m\u001b[0m\n\u001b[0m",
      "\u001b[0;31mNameError\u001b[0m: name 'insights' is not defined"
     ]
    }
   ],
   "source": [
    "insights.click()"
   ]
  },
  {
   "cell_type": "markdown",
   "metadata": {},
   "source": [
    "Notice that I've now navigated to a different page in my browser."
   ]
  },
  {
   "cell_type": "code",
   "execution_count": 9,
   "metadata": {},
   "outputs": [
    {
     "ename": "NameError",
     "evalue": "name 'driver' is not defined",
     "output_type": "error",
     "traceback": [
      "\u001b[0;31m---------------------------------------------------------------------------\u001b[0m",
      "\u001b[0;31mNameError\u001b[0m                                 Traceback (most recent call last)",
      "\u001b[0;32m<ipython-input-9-edc6c27c0986>\u001b[0m in \u001b[0;36m<module>\u001b[0;34m()\u001b[0m\n\u001b[0;32m----> 1\u001b[0;31m \u001b[0mdriver\u001b[0m\u001b[0;34m.\u001b[0m\u001b[0mquit\u001b[0m\u001b[0;34m(\u001b[0m\u001b[0;34m)\u001b[0m\u001b[0;34m\u001b[0m\u001b[0m\n\u001b[0m",
      "\u001b[0;31mNameError\u001b[0m: name 'driver' is not defined"
     ]
    }
   ],
   "source": [
    "driver.quit()"
   ]
  },
  {
   "cell_type": "code",
   "execution_count": 10,
   "metadata": {},
   "outputs": [
    {
     "ename": "NameError",
     "evalue": "name 'driver' is not defined",
     "output_type": "error",
     "traceback": [
      "\u001b[0;31m---------------------------------------------------------------------------\u001b[0m",
      "\u001b[0;31mNameError\u001b[0m                                 Traceback (most recent call last)",
      "\u001b[0;32m<ipython-input-10-62191c551c21>\u001b[0m in \u001b[0;36m<module>\u001b[0;34m()\u001b[0m\n\u001b[0;32m----> 1\u001b[0;31m \u001b[0;32mdel\u001b[0m \u001b[0mdriver\u001b[0m\u001b[0;34m\u001b[0m\u001b[0m\n\u001b[0m",
      "\u001b[0;31mNameError\u001b[0m: name 'driver' is not defined"
     ]
    }
   ],
   "source": [
    "del driver"
   ]
  },
  {
   "cell_type": "markdown",
   "metadata": {},
   "source": [
    "### Passing Cookies to Requests\n",
    "While Selenium is powerful, it can be much slower than `requests`. Whenever possible, accelerate your scraping by capturing the html source instead of rendering the Javascript. You can pass cookies that are generated automatically back to `requests` to mimic browser behavior."
   ]
  },
  {
   "cell_type": "code",
   "execution_count": 32,
   "metadata": {},
   "outputs": [],
   "source": [
    "driver = webdriver.Chrome('./chromedriver')"
   ]
  },
  {
   "cell_type": "code",
   "execution_count": 34,
   "metadata": {},
   "outputs": [],
   "source": [
    "driver.get(f'https://www.6pm.com/marty/c/homepage-new')"
   ]
  },
  {
   "cell_type": "code",
   "execution_count": 35,
   "metadata": {},
   "outputs": [],
   "source": [
    "def get_cookie_jar(driver):\n",
    "    cookies = driver.get_cookies()\n",
    "    cookie_jar = {x['name']:x['value'] for x in cookies}\n",
    "    \n",
    "    return cookie_jar"
   ]
  },
  {
   "cell_type": "code",
   "execution_count": 36,
   "metadata": {},
   "outputs": [],
   "source": [
    "cookie_jar = get_cookie_jar(driver)"
   ]
  },
  {
   "cell_type": "code",
   "execution_count": 37,
   "metadata": {},
   "outputs": [
    {
     "data": {
      "text/plain": [
       "{'bm_sv': '4D3C882F36966CF0AA1BC65F11CD01A0~3BtGpLXOUBzitUg1fJeEHEtY3+GOXpFRLifRS/d6tWH9NG4/+om7wxb5rRkVRem7v8uII5KqnGnb2F20wSMdVxjJK5TAGC3h1l1FNXzyuxSmajllvlZR1Q+QqxFIwDmX9IHitEgy0aEABkAHzFWjRQ==',\n",
       " 'zfcReferrer': 'https://www.6pm.com/marty/c/homepage-new',\n",
       " 'session-token': 'L+0mQGRMs4dfYjP0Q173QHhePD7QFdaXyNLI/Q+AUWyH7Gg+VobvLqqj/CCFXh4hhYyEkOkVC8lf34kGh65+5dLretF502FqYAC6tgvOPA8/LueAl/TDV2ZzEJfkIEFYxVtNhD3KOFOkuj/PIJntoDWEm0+lOIswF/gEfpR87wlLOMm+ZyKUN5eDq6CA8Dsa',\n",
       " 'ubid-main': '134-9377442-9421467',\n",
       " 'RT': '\"sl=3&ss=1537843293099&tt=3201&obo=0&bcn=%2F%2F17d98a5d.akstat.io%2F&sh=1537843525655%3D3%3A0%3A3201%2C1537843524436%3D2%3A0%3A1747%2C1537843496826%3D1%3A0%3A1080&dm=6pm.com&si=497648a3-04fc-4350-973d-57d6c4e4547c\"',\n",
       " 'session-id': '140-0273542-5767475',\n",
       " '_gid': 'GA1.2.217327377.1537843293',\n",
       " 'cloud': 'west2',\n",
       " '_ga': 'GA1.2.2058030166.1537843293',\n",
       " 'ak_bmsc': '7F1C72A22863DC6991C671FB8A9E69DBB81939BC0C7E00005CA0A95B28424439~plc5prSCkhq2soIpWVeMJF+gKdO7Y6mhgvvOL9jM7puk5OLjvyqyhjcFyO9CVl6qqpto7z+t5nwA4i2oEtwvvVgb18MTceboQ1v2dTxyyk9Yh1BHxIbOOokGmv+cBkuUI9TTbQnSzV4mlZU5stleRUzmUG8SclO2JXpkp4gVpi/Ca0j9xlzByYNhNKWKjCENGlmCT2Me173vLX4zwmPNJlg3Kv2hFc8tO+k4xwpr6JT5Q=',\n",
       " 'zfc': 'ChgI+dTp9OAsEPiYw5TcyAEYiciA25DV3QISDgoEbXBscxABGAcgASgAEg4KBHNhdWkQARgFIAEoABINCgNtc2MQARgFIAEoABIPCgU2ZGxwMRABGAQgASgA',\n",
       " 'session-id-time': '2082787201l',\n",
       " 'deviceType': 'desktop',\n",
       " 'AKA_A2': 'A',\n",
       " 'geo': 'US/CA/807/San%20Francisco',\n",
       " 'tid': '5bbZ6Tf4tVQKa87oEQ9a7om3CTVxLwH5',\n",
       " 'clouddc': 'west2'}"
      ]
     },
     "execution_count": 37,
     "metadata": {},
     "output_type": "execute_result"
    }
   ],
   "source": [
    "cookie_jar"
   ]
  },
  {
   "cell_type": "markdown",
   "metadata": {},
   "source": [
    "I pass these cookies back to requests using the `cookies` arg."
   ]
  },
  {
   "cell_type": "code",
   "execution_count": 38,
   "metadata": {},
   "outputs": [],
   "source": [
    "page = requests.get('https://www.6pm.com/marty/c/homepage-new', \n",
    "                    cookies=cookie_jar)"
   ]
  },
  {
   "cell_type": "code",
   "execution_count": 39,
   "metadata": {},
   "outputs": [],
   "source": [
    "soup = BeautifulSoup(page.text, 'html.parser')"
   ]
  },
  {
   "cell_type": "code",
   "execution_count": null,
   "metadata": {},
   "outputs": [],
   "source": [
    "'''\n",
    "<a class=\"gae-click*Main-Nav*Shoes*Women-s-Boots\" href=\"/women-boots/CK_XARCz1wHAAQHiAgMYAQI.zso?s=isNew/desc/goLiveDate/desc/recentSalesStyle/desc/\">Boots</a>\n",
    "'''"
   ]
  },
  {
   "cell_type": "code",
   "execution_count": 45,
   "metadata": {
    "scrolled": true
   },
   "outputs": [
    {
     "data": {
      "text/plain": [
       "[<a class=\"gae-click*Main-Nav*Shoes*Women-s-Boots\" href=\"/women-boots/CK_XARCz1wHAAQHiAgMYAQI.zso?s=isNew/desc/goLiveDate/desc/recentSalesStyle/desc/\">Boots</a>]"
      ]
     },
     "execution_count": 45,
     "metadata": {},
     "output_type": "execute_result"
    }
   ],
   "source": [
    "soup.findAll('a',{'class':'gae-click*Main-Nav*Shoes*Women-s-Boots'})"
   ]
  },
  {
   "cell_type": "code",
   "execution_count": 48,
   "metadata": {},
   "outputs": [
    {
     "data": {
      "text/plain": [
       "<Response [200]>"
      ]
     },
     "execution_count": 48,
     "metadata": {},
     "output_type": "execute_result"
    }
   ],
   "source": [
    "URL = \"http://6pm.com/women-boots/CK_XARCz1wHAAQHiAgMYAQI.zso?s=isNew/desc/goLiveDate/desc/recentSalesStyle/desc/\"\n",
    "page1 = requests.get(URL,\n",
    "                     cookies = cookie_jar)\n",
    "page1"
   ]
  },
  {
   "cell_type": "code",
   "execution_count": 50,
   "metadata": {},
   "outputs": [],
   "source": [
    "soup1 = BeautifulSoup(page1.text, 'html.parser')"
   ]
  },
  {
   "cell_type": "code",
   "execution_count": null,
   "metadata": {},
   "outputs": [],
   "source": [
    "soup1.findALL('a', {})"
   ]
  },
  {
   "cell_type": "code",
   "execution_count": 52,
   "metadata": {
    "scrolled": false
   },
   "outputs": [
    {
     "data": {
      "text/plain": [
       "[<script type=\"text/javascript\">\n",
       " (function(a){var b={},c=encodeURIComponent,d=a.zfcUUID,e;a.onerror=function(a,f,g){return e=\"/err.cgi\",a&&(e+=\"?msg=\"+c(a),f&&(e+=\"&url=\"+c(f),g&&(e+=\"&line=\"+c(g))),d&&(e+=\"&uuid=\"+c(d)),b[e]||(b[e]=1,(new Image).src=e)),!0}})(window)</script>,\n",
       " <script type=\"text/javascript\">\n",
       " var zfcCookieDomain='.6pm.com', zfcXDHost='track.zappos.com', bmv={}, cst=1, raz=1;\n",
       " </script>,\n",
       " <script type=\"text/javascript\">\n",
       "   var zfcUUID = function(){var a=function(){return((1+Math.random())*65536|0).toString(16).substring(1)};return a()+a()+\"-\"+a()+\"-\"+a()+\"-\"+a()+\"-\"+a()+a()+a()}();\n",
       "   var zfcUPU = '/women-boots/CK_XARCz1wHAAQHiAgMYAQI.zso?s=isNew/desc/goLiveDate/desc/recentSalesStyle/desc/';\n",
       "   var zfcAHW = [{h: 'a1.zassets.com', r:   3}, {h: 'a2.zassets.com', r:   3}, {h: 'a3.zassets.com', r:   4}];\n",
       "   var hydraTests = [\n",
       "     {name:\"mpls\",phase:7,url:/./,variants:[{chance:0,setup:function(){}},{chance:1,setup:function(){function boomerangSaveLoadTime(e){win.BOOMR_onload=e&&e.timeStamp||(new Date).getTime()}if(window.BOOMR&&window.BOOMR.version)return;var is6pm=/6pm/.test(location.hostname);var isPreprod=/preprod/.test(location.hostname);var isMarty=/marty/.test(zfc.upstreamLabel);var key=is6pm&&isPreprod?\"ENUK2-KLAR3-G7FT2-RSY5S-99ZWN\":is6pm?\"Q9XJS-7ECPU-YHG3G-HBMFB-9Q3DD\":\"4R6KY-DUC9X-4J4BJ-TW8RG-UMPUN\";var dom;\n",
       " var doc;var where;var iframe=document.createElement(\"iframe\");var win=window;if(win.addEventListener)win.addEventListener(\"load\",boomerangSaveLoadTime,false);else if(win.attachEvent)win.attachEvent(\"onload\",boomerangSaveLoadTime);iframe.src=\"javascript:void(0)\";iframe.title=\"\";iframe.role=\"presentation\";(iframe.frameElement||iframe).style.cssText=\"width:0;height:0;border:0;display:none;\";where=document.getElementsByTagName(\"script\")[0];where.parentNode.insertBefore(iframe,where);try{doc=iframe.contentWindow.document}catch(e$$1){dom=\n",
       " document.domain;iframe.src=\"javascript:var d=document.open();d.domain='\"+dom+\"';void(0);\";doc=iframe.contentWindow.document}doc.open()._l=function(){var js=this.createElement(\"script\");if(dom)this.domain=dom;js.id=\"boomr-if-as\";js.src=\"https://s.go-mpulse.net/boomerang/\"+key;BOOMR_lstart=(new Date).getTime();this.body.appendChild(js)};doc.write('<body onload=\"document._l();\">');doc.close();if(!isMarty){window.BOOMR_config=window.BOOMR_config||{};BOOMR_config.autorun=true;BOOMR_config.History={enabled:false}}}}]},\n",
       "     {name:\"saui\",phase:5,url:/./,variants:[{chance:0,setup:function(){}},{chance:1,setup:function(){window.saui=1}}]},\n",
       "     {name:\"mnc6d\",phase:5,url:/^\\/checkout/,variants:[{chance:0},{chance:1,setup:function(){var a=window.location;!a.host.match(\"m.6pm.com\")&&(/\\/marty\\/checkout/.test(a.pathname)||this.redirect(a.href=a.origin+\"/marty/checkout\"))}}]},\n",
       "     {name:\"mpdpyv\",phase:4,url:/^RRH$/,variants:[{chance:0},{chance:1}]},\n",
       "     {name:\"msc\",phase:5,url:/./,variants:[{chance:0},{chance:1,setup:function(){window.msc=1}}]},\n",
       "     {name:\"caly\",phase:6,url:/^RRH$/,variants:[{chance:0},{chance:1}]},\n",
       "     {name:\"tbsb\",phase:1,url:/^RRH$/,variants:[{chance:1},{chance:0},{chance:0},{chance:0}]},\n",
       "     {name:\"6dlp1\",phase:4,url:/^\\/c\\/(?:shoes|clothing|bags|womens)/,variants:[{chance:0},{chance:1,setup:function(){var e=window.location;/^\\/marty\\//.test(e.pathname)||/bot/i.test(window.navigator.userAgent)||this.redirect(window.location.href.replace(/.com\\/.*/,\".com/marty\"+zfcUPU+\"-new\"+window.location.search))}}]},\n",
       "     {name:\"6dlp2\",phase:4,url:/^(?:\\/(?:\\?.*)?$|\\/c\\/homepage-refresh)/,variants:[{chance:0},{chance:1,setup:function(){var e=window.location;/^\\/marty\\//.test(e.pathname)||/bot/i.test(window.navigator.userAgent)||this.redirect(window.location.href.replace(/.com\\/.*/,\".com/marty/c/homepage-new\"+window.location.search))}}]},\n",
       "     {name:\"mpdpga\",phase:1,url:/^RRH$/,variants:[{chance:1},{chance:0}]},\n",
       "     {name:\"stht\",phase:3,url:/^RRH$/,variants:[{chance:1},{chance:0}]}\n",
       "   ];\n",
       "   var zfc = [];\n",
       "   zfc.push(['initialize', '1537918086066', (new Date).getTime(), 'marty_live_6pm_ssl', 'www.6pm.com', zfcUPU, 'a7a4223a-c11a-11e8-a7b0-2f2d8db8cb61', zfcUUID]);\n",
       "   zfc.push(['setEventUrl', '/event.cgi']);\n",
       " </script>,\n",
       " <script type=\"text/javascript\">\n",
       " (function(a,b,c,d){function e(a){return/Android.*Mobile/i.test(a)}function f(a){return/iPhone/i.test(a)}function g(a){return/Windows Phone/i.test(a)}function h(a){return/BB10.+Mobile/i.test(a)}function i(a){return!g(a)&&/Windows.+; Touch/.test(a)}function j(){return/nomobile=true/.test(c.toString())}function k(a){var b=[h,f,e],c=b.length;while(c--)if(b[c](a))return!0}function l(){var a=d.userAgent,b=c.hostname,e=!j()&&!o(\"noMobileSix\")&&k(a);if(!e)return q(\"desktop\");q(\"mobile\");if(/scdemo.6pm.com/.test(b))return m(b.replace(/scdemo.6pm.com/,\"m-scdemo.6pm.com\"));var f=b.match(/^www\\.6pm\\.com$/);f&&m(\"m.6pm.com\")}function m(b){a.rq||(a.rq=[]),rq.push([\"switchHost\",b])}function n(a,b,c,d){var e,f;c&&(f=new Date,f.setTime(f.getTime()+c*864e5),e=\"; expires=\"+f.toGMTString()),d=d&&d!=\"\"?\"; domain=\"+d:\"\",document.cookie=a+\"=\"+b+(e?e:\"\")+\"; path=/\"+d}function o(a){var b=document.cookie.match(\"(?:^|;) *\"+a+\"=([^;]*)\");return b?b[1]:null}function p(a){return!1}function q(a){o(\"deviceType\")||n(\"deviceType\",a,3650,\".6pm.com\")}function r(){window.z=window.z||{killed:p}}\"use strict\",r(),z.killed(\"sixMobileRedirect\")||l()})(window,document,location,navigator)</script>,\n",
       " <script type=\"text/javascript\">\n",
       " (function(a,b){function f(){a.K2={cookieDomain:a.zfcCookieDomain,clickCookie:\"click\",clickAckCookie:\"clickAck\",hydra:{testParam:\"zfcTest\"},tryst:{read:\"holmes\",write:\"watson\"}},a.todo=[],a.impq=[]}function g(){var b=[];return a.rq&&(h(a.rq)?b=a.rq:a.rq.list&&h(a.rq.list)&&(b=a.rq.list)),b}function h(a){return Object.prototype.toString.call(a)==\"[object Array]\"}function i(){return d=!0,b.write('<script src=\"'+c+'\" type=\"text/javascript\"></scr'+\"ipt>\"),!0}function j(b){if(!d){var c,e,f=a.zfcUPU||a.location.toString();b.url&&(c=new RegExp(b.url),e=c.test(f)),(e||!b.url||b.pre||b.post)&&i()}}function k(){var b,c,d=a.hydraTests||[];for(b=0,c=d.length;b<c;b++)if(j(d[b]))return!0}function l(){var a;d||(d=!0,a=b.createElement(\"script\"),a.type=\"text/javascript\",a.src=c,a.async=!0,(b.getElementsByTagName(\"head\")[0]||b.getElementsByTagName(\"body\")[0]).appendChild(a))}function m(){a.zfc&&a.zfc.push([\"createWindowId\",a.zfcUUID]),f(),a.Gasherbrum.load(\"sync\")}\"use strict\";var c=\"/karakoram/js/main.f3394d9.js\",d=!1,e=!1;a.hq={list:[],addTest:function(b){a.hydraTests.push(b),j(b)},push:function(a){var b=a.shift();this[b]&&typeof this[b]==\"function\"?this[b].apply(this,a):(a.unshift(b),this.list.push(a))}},a.rq={list:g(),push:function(a){this.list.push(a),d||i()}},a.initLazyEye=function(b){var c=a.K2,d=a.leq.queue||[];e||(a.leq=new LazyEye(Protobuf.Messages.zfcLazyEye,\"zfc.LazyEye\",{maxDataLength:700,listenDuration:1e3,textNodeMaxLength:64,cookieDomain:c.cookieDomain,clickCookie:c.clickCookie,clickAckCookie:c.clickAckCookie,redirecting:b}),a.leq.flush(d),b||(e=!0))},a.leq={queue:[],captureRedirect:function(b){this.pushToQueue(\"captureRedirect\",[b]),a.initLazyEye(!0)},push:function(a){var b=a.shift();this[b]&&typeof this[b]==\"function\"?this[b].apply(this,a):this.pushToQueue(b,a)},pushToQueue:function(a,b){b.unshift(a),this.queue.push(b)}},a.Gasherbrum={load:function(a){a===\"sync\"?k():a===\"async\"&&l()}},m()})(window,document)</script>,\n",
       " <meta charset=\"utf-8\"/>,\n",
       " <title>Boots, Women at 6pm.com</title>,\n",
       " <meta content=\"IE=edge,chrome=1\" http-equiv=\"X-UA-Compatible\"/>,\n",
       " <meta content=\"initial-scale=1.0, maximum-scale=4.0\" name=\"viewport\"/>,\n",
       " <script>\n",
       "       (function(i,s,o,g,r,a,m){i['GoogleAnalyticsObject']=r;i[r]=i[r]||function(){\n",
       "       (i[r].q=i[r].q||[]).push(arguments)},i[r].l=1*new Date();a=s.createElement(o),\n",
       "       m=s.getElementsByTagName(o)[0];a.async=1;a.src=g;m.parentNode.insertBefore(a,m)\n",
       "       })(window,document,'script','//www.google-analytics.com/analytics.js','ga');\n",
       "       ga('create', 'UA-8814898-13', 'auto', '6pm', {\"legacyCookieDomain\":\".6pm.com\",\"sampleRate\":100});\n",
       "       ga('6pm.send', 'pageview');\n",
       "     </script>,\n",
       " <link href=\"/manifest.json\" rel=\"manifest\" type=\"application/manifest+json\"/>,\n",
       " <meta content=\"vRqGLtiVSJlz69djd-TaGkh-Dase02mVe8bxTWlAzf8\" name=\"google-site-verification\">\n",
       " <meta content=\"CDB19C5C2A5665DA79A59031CF6227B4\" name=\"msvalidate.01\">\n",
       " <meta content=\"app-id=1068014324, app-argument=sixpm://ios.6pm.com/women-boots/CK_XARCz1wHAAQHiAgMYAQI.zso?s=isNew/desc/goLiveDate/desc/recentSalesStyle/desc/\" data-rdm=\"\" name=\"apple-itunes-app\">\n",
       " <meta content=\"Shop for brands you love on sale. Discounted shoes, clothing, accessories and more at 6pm.com! Score on the Style, Score on the Price.\" data-rdm=\"\" name=\"description\"/>\n",
       " <meta content=\"/women-boots/CK_XARCz1wHAAQHiAgMBAhg.zso?s=isNew/desc/goLiveDate/desc/recentSalesStyle/desc/\" data-rdm=\"\" name=\"branch:deeplink:zso\"/>\n",
       " <meta content=\"com.zappos.android/search\" data-rdm=\"\" name=\"branch:deeplink:$android_deeplink_path\"/>\n",
       " <link data-rdm=\"\" href=\"https://m.6pm.com/women-boots/CK_XARCz1wHAAQHiAgMYAQI.zso?s=isNew/desc/goLiveDate/desc/recentSalesStyle/desc/\" media=\"only screen and (max-width: 767px)\" rel=\"alternate\"/>\n",
       " <link data-rdm=\"\" href=\"/women-boots/CK_XARCz1wHAAQHiAgMBAhg.zso?s=isNew/desc/goLiveDate/desc/recentSalesStyle/desc/&amp;p=1\" rel=\"next\"/>\n",
       " <link data-rdm=\"\" href=\"https://www.6pm.com/women-boots/CK_XARCz1wHAAQHiAgMBAhg.zso\" rel=\"canonical\"/>\n",
       " <script>\n",
       "   if (document.body && (' ' + document.body.className + ' ').indexOf(' welg ') === -1) {\n",
       "     document.body.className += ' welg'; // add welg class to body\n",
       "   }\n",
       " </script>\n",
       " <link href=\"https://m.media-amazon.com/images/S/fezbucket/ZapposFrontendGlobalAssets/6pm-refresh/styles/bundles/hf-37f33518._TTW_.css\" rel=\"stylesheet\">\n",
       " <link href=\"/marty-assets/11Rxf-apple-touch-icon-57x57.png\" rel=\"apple-touch-icon\" sizes=\"57x57\"/><link href=\"/marty-assets/11Rxf-apple-touch-icon-60x60.png\" rel=\"apple-touch-icon\" sizes=\"60x60\"/><link href=\"/marty-assets/11Rxf-apple-touch-icon-72x72.png\" rel=\"apple-touch-icon\" sizes=\"72x72\"/><link href=\"/marty-assets/11Rxf-apple-touch-icon-76x76.png\" rel=\"apple-touch-icon\" sizes=\"76x76\"/><link href=\"/marty-assets/11Rxf-apple-touch-icon-114x114.png\" rel=\"apple-touch-icon\" sizes=\"114x114\"/><link href=\"/marty-assets/11Rxf-apple-touch-icon-120x120.png\" rel=\"apple-touch-icon\" sizes=\"120x120\"/><link href=\"/marty-assets/11Rxf-apple-touch-icon-144x144.png\" rel=\"apple-touch-icon\" sizes=\"144x144\"/><link href=\"/marty-assets/11Rxf-apple-touch-icon-152x152.png\" rel=\"apple-touch-icon\" sizes=\"152x152\"/><link href=\"/marty-assets/11Rxf-apple-touch-icon-180x180.png\" rel=\"apple-touch-icon\" sizes=\"180x180\"/><meta content=\"yes\" name=\"apple-mobile-web-app-capable\"/><meta content=\"black-translucent\" name=\"apple-mobile-web-app-status-bar-style\"/><meta content=\"6pm\" name=\"apple-mobile-web-app-title\"/><meta content=\"yes\" name=\"mobile-web-app-capable\"/><meta content=\"#fff\" name=\"theme-color\"/><meta content=\"6pm\" name=\"application-name\"/><link href=\"/marty-assets/11Rxf-favicon-32x32.png\" rel=\"icon\" sizes=\"32x32\" type=\"image/png\"/><link href=\"/marty-assets/11Rxf-favicon-16x16.png\" rel=\"icon\" sizes=\"16x16\" type=\"image/png\"/><link href=\"/marty-assets/11Rxf-favicon.ico\" rel=\"shortcut icon\"/><link href=\"/marty-assets/marty-6pm.app.1115a0ed6fc8fa55f41f1f695c2713ec.css\" rel=\"stylesheet\"/><script type=\"text/javascript\">\n",
       " window.Gasherbrum.load(\"async\")</script><meta content=\"SO0XCClAY5ysgPNP1g4bwtpfwXsEhwZpjyfLIN_yMnU\" name=\"google-site-verification\">\n",
       " <script>var w=window;if(w.performance||w.mozPerformance||w.msPerformance||w.webkitPerformance){var d=document;AKSB=w.AKSB||{},AKSB.q=AKSB.q||[],AKSB.mark=AKSB.mark||function(e,_){AKSB.q.push([\"mark\",e,_||(new Date).getTime()])},AKSB.measure=AKSB.measure||function(e,_,t){AKSB.q.push([\"measure\",e,_,t||(new Date).getTime()])},AKSB.done=AKSB.done||function(e){AKSB.q.push([\"done\",e])},AKSB.mark(\"firstbyte\",(new Date).getTime()),AKSB.prof={custid:\"259316\",ustr:\"cookiepresent\",originlat:\"0\",clientrtt:\"16\",ghostip:\"77.67.85.119\",ipv6:false,pct:\"10\",clientip:\"38.140.30.202\",requestid:\"3b0b086\",region:\"19985\",protocol:\"\",blver:14,akM:\"x\",akN:\"ae\",akTT:\"O\",akTX:\"1\",akTI:\"3b0b086\",ai:\"241582\",ra:\"false\",pmgn:\"Grouponwww6pm\",pmgi:\"\",pmp:\"\",qc:\"\"},function(e){var _=d.createElement(\"script\");_.async=\"async\",_.src=e;var t=d.getElementsByTagName(\"script\"),t=t[t.length-1];t.parentNode.insertBefore(_,t)}((\"https:\"===d.location.protocol?\"https:\":\"http:\")+\"//ds-aksb-a.akamaihd.net/aksb.min.js\")}</script>\n",
       " </meta></link></meta></meta></meta>,\n",
       " <meta content=\"CDB19C5C2A5665DA79A59031CF6227B4\" name=\"msvalidate.01\">\n",
       " <meta content=\"app-id=1068014324, app-argument=sixpm://ios.6pm.com/women-boots/CK_XARCz1wHAAQHiAgMYAQI.zso?s=isNew/desc/goLiveDate/desc/recentSalesStyle/desc/\" data-rdm=\"\" name=\"apple-itunes-app\">\n",
       " <meta content=\"Shop for brands you love on sale. Discounted shoes, clothing, accessories and more at 6pm.com! Score on the Style, Score on the Price.\" data-rdm=\"\" name=\"description\"/>\n",
       " <meta content=\"/women-boots/CK_XARCz1wHAAQHiAgMBAhg.zso?s=isNew/desc/goLiveDate/desc/recentSalesStyle/desc/\" data-rdm=\"\" name=\"branch:deeplink:zso\"/>\n",
       " <meta content=\"com.zappos.android/search\" data-rdm=\"\" name=\"branch:deeplink:$android_deeplink_path\"/>\n",
       " <link data-rdm=\"\" href=\"https://m.6pm.com/women-boots/CK_XARCz1wHAAQHiAgMYAQI.zso?s=isNew/desc/goLiveDate/desc/recentSalesStyle/desc/\" media=\"only screen and (max-width: 767px)\" rel=\"alternate\"/>\n",
       " <link data-rdm=\"\" href=\"/women-boots/CK_XARCz1wHAAQHiAgMBAhg.zso?s=isNew/desc/goLiveDate/desc/recentSalesStyle/desc/&amp;p=1\" rel=\"next\"/>\n",
       " <link data-rdm=\"\" href=\"https://www.6pm.com/women-boots/CK_XARCz1wHAAQHiAgMBAhg.zso\" rel=\"canonical\"/>\n",
       " <script>\n",
       "   if (document.body && (' ' + document.body.className + ' ').indexOf(' welg ') === -1) {\n",
       "     document.body.className += ' welg'; // add welg class to body\n",
       "   }\n",
       " </script>\n",
       " <link href=\"https://m.media-amazon.com/images/S/fezbucket/ZapposFrontendGlobalAssets/6pm-refresh/styles/bundles/hf-37f33518._TTW_.css\" rel=\"stylesheet\">\n",
       " <link href=\"/marty-assets/11Rxf-apple-touch-icon-57x57.png\" rel=\"apple-touch-icon\" sizes=\"57x57\"/><link href=\"/marty-assets/11Rxf-apple-touch-icon-60x60.png\" rel=\"apple-touch-icon\" sizes=\"60x60\"/><link href=\"/marty-assets/11Rxf-apple-touch-icon-72x72.png\" rel=\"apple-touch-icon\" sizes=\"72x72\"/><link href=\"/marty-assets/11Rxf-apple-touch-icon-76x76.png\" rel=\"apple-touch-icon\" sizes=\"76x76\"/><link href=\"/marty-assets/11Rxf-apple-touch-icon-114x114.png\" rel=\"apple-touch-icon\" sizes=\"114x114\"/><link href=\"/marty-assets/11Rxf-apple-touch-icon-120x120.png\" rel=\"apple-touch-icon\" sizes=\"120x120\"/><link href=\"/marty-assets/11Rxf-apple-touch-icon-144x144.png\" rel=\"apple-touch-icon\" sizes=\"144x144\"/><link href=\"/marty-assets/11Rxf-apple-touch-icon-152x152.png\" rel=\"apple-touch-icon\" sizes=\"152x152\"/><link href=\"/marty-assets/11Rxf-apple-touch-icon-180x180.png\" rel=\"apple-touch-icon\" sizes=\"180x180\"/><meta content=\"yes\" name=\"apple-mobile-web-app-capable\"/><meta content=\"black-translucent\" name=\"apple-mobile-web-app-status-bar-style\"/><meta content=\"6pm\" name=\"apple-mobile-web-app-title\"/><meta content=\"yes\" name=\"mobile-web-app-capable\"/><meta content=\"#fff\" name=\"theme-color\"/><meta content=\"6pm\" name=\"application-name\"/><link href=\"/marty-assets/11Rxf-favicon-32x32.png\" rel=\"icon\" sizes=\"32x32\" type=\"image/png\"/><link href=\"/marty-assets/11Rxf-favicon-16x16.png\" rel=\"icon\" sizes=\"16x16\" type=\"image/png\"/><link href=\"/marty-assets/11Rxf-favicon.ico\" rel=\"shortcut icon\"/><link href=\"/marty-assets/marty-6pm.app.1115a0ed6fc8fa55f41f1f695c2713ec.css\" rel=\"stylesheet\"/><script type=\"text/javascript\">\n",
       " window.Gasherbrum.load(\"async\")</script><meta content=\"SO0XCClAY5ysgPNP1g4bwtpfwXsEhwZpjyfLIN_yMnU\" name=\"google-site-verification\">\n",
       " <script>var w=window;if(w.performance||w.mozPerformance||w.msPerformance||w.webkitPerformance){var d=document;AKSB=w.AKSB||{},AKSB.q=AKSB.q||[],AKSB.mark=AKSB.mark||function(e,_){AKSB.q.push([\"mark\",e,_||(new Date).getTime()])},AKSB.measure=AKSB.measure||function(e,_,t){AKSB.q.push([\"measure\",e,_,t||(new Date).getTime()])},AKSB.done=AKSB.done||function(e){AKSB.q.push([\"done\",e])},AKSB.mark(\"firstbyte\",(new Date).getTime()),AKSB.prof={custid:\"259316\",ustr:\"cookiepresent\",originlat:\"0\",clientrtt:\"16\",ghostip:\"77.67.85.119\",ipv6:false,pct:\"10\",clientip:\"38.140.30.202\",requestid:\"3b0b086\",region:\"19985\",protocol:\"\",blver:14,akM:\"x\",akN:\"ae\",akTT:\"O\",akTX:\"1\",akTI:\"3b0b086\",ai:\"241582\",ra:\"false\",pmgn:\"Grouponwww6pm\",pmgi:\"\",pmp:\"\",qc:\"\"},function(e){var _=d.createElement(\"script\");_.async=\"async\",_.src=e;var t=d.getElementsByTagName(\"script\"),t=t[t.length-1];t.parentNode.insertBefore(_,t)}((\"https:\"===d.location.protocol?\"https:\":\"http:\")+\"//ds-aksb-a.akamaihd.net/aksb.min.js\")}</script>\n",
       " </meta></link></meta></meta>,\n",
       " <meta content=\"app-id=1068014324, app-argument=sixpm://ios.6pm.com/women-boots/CK_XARCz1wHAAQHiAgMYAQI.zso?s=isNew/desc/goLiveDate/desc/recentSalesStyle/desc/\" data-rdm=\"\" name=\"apple-itunes-app\">\n",
       " <meta content=\"Shop for brands you love on sale. Discounted shoes, clothing, accessories and more at 6pm.com! Score on the Style, Score on the Price.\" data-rdm=\"\" name=\"description\"/>\n",
       " <meta content=\"/women-boots/CK_XARCz1wHAAQHiAgMBAhg.zso?s=isNew/desc/goLiveDate/desc/recentSalesStyle/desc/\" data-rdm=\"\" name=\"branch:deeplink:zso\"/>\n",
       " <meta content=\"com.zappos.android/search\" data-rdm=\"\" name=\"branch:deeplink:$android_deeplink_path\"/>\n",
       " <link data-rdm=\"\" href=\"https://m.6pm.com/women-boots/CK_XARCz1wHAAQHiAgMYAQI.zso?s=isNew/desc/goLiveDate/desc/recentSalesStyle/desc/\" media=\"only screen and (max-width: 767px)\" rel=\"alternate\"/>\n",
       " <link data-rdm=\"\" href=\"/women-boots/CK_XARCz1wHAAQHiAgMBAhg.zso?s=isNew/desc/goLiveDate/desc/recentSalesStyle/desc/&amp;p=1\" rel=\"next\"/>\n",
       " <link data-rdm=\"\" href=\"https://www.6pm.com/women-boots/CK_XARCz1wHAAQHiAgMBAhg.zso\" rel=\"canonical\"/>\n",
       " <script>\n",
       "   if (document.body && (' ' + document.body.className + ' ').indexOf(' welg ') === -1) {\n",
       "     document.body.className += ' welg'; // add welg class to body\n",
       "   }\n",
       " </script>\n",
       " <link href=\"https://m.media-amazon.com/images/S/fezbucket/ZapposFrontendGlobalAssets/6pm-refresh/styles/bundles/hf-37f33518._TTW_.css\" rel=\"stylesheet\">\n",
       " <link href=\"/marty-assets/11Rxf-apple-touch-icon-57x57.png\" rel=\"apple-touch-icon\" sizes=\"57x57\"/><link href=\"/marty-assets/11Rxf-apple-touch-icon-60x60.png\" rel=\"apple-touch-icon\" sizes=\"60x60\"/><link href=\"/marty-assets/11Rxf-apple-touch-icon-72x72.png\" rel=\"apple-touch-icon\" sizes=\"72x72\"/><link href=\"/marty-assets/11Rxf-apple-touch-icon-76x76.png\" rel=\"apple-touch-icon\" sizes=\"76x76\"/><link href=\"/marty-assets/11Rxf-apple-touch-icon-114x114.png\" rel=\"apple-touch-icon\" sizes=\"114x114\"/><link href=\"/marty-assets/11Rxf-apple-touch-icon-120x120.png\" rel=\"apple-touch-icon\" sizes=\"120x120\"/><link href=\"/marty-assets/11Rxf-apple-touch-icon-144x144.png\" rel=\"apple-touch-icon\" sizes=\"144x144\"/><link href=\"/marty-assets/11Rxf-apple-touch-icon-152x152.png\" rel=\"apple-touch-icon\" sizes=\"152x152\"/><link href=\"/marty-assets/11Rxf-apple-touch-icon-180x180.png\" rel=\"apple-touch-icon\" sizes=\"180x180\"/><meta content=\"yes\" name=\"apple-mobile-web-app-capable\"/><meta content=\"black-translucent\" name=\"apple-mobile-web-app-status-bar-style\"/><meta content=\"6pm\" name=\"apple-mobile-web-app-title\"/><meta content=\"yes\" name=\"mobile-web-app-capable\"/><meta content=\"#fff\" name=\"theme-color\"/><meta content=\"6pm\" name=\"application-name\"/><link href=\"/marty-assets/11Rxf-favicon-32x32.png\" rel=\"icon\" sizes=\"32x32\" type=\"image/png\"/><link href=\"/marty-assets/11Rxf-favicon-16x16.png\" rel=\"icon\" sizes=\"16x16\" type=\"image/png\"/><link href=\"/marty-assets/11Rxf-favicon.ico\" rel=\"shortcut icon\"/><link href=\"/marty-assets/marty-6pm.app.1115a0ed6fc8fa55f41f1f695c2713ec.css\" rel=\"stylesheet\"/><script type=\"text/javascript\">\n",
       " window.Gasherbrum.load(\"async\")</script><meta content=\"SO0XCClAY5ysgPNP1g4bwtpfwXsEhwZpjyfLIN_yMnU\" name=\"google-site-verification\">\n",
       " <script>var w=window;if(w.performance||w.mozPerformance||w.msPerformance||w.webkitPerformance){var d=document;AKSB=w.AKSB||{},AKSB.q=AKSB.q||[],AKSB.mark=AKSB.mark||function(e,_){AKSB.q.push([\"mark\",e,_||(new Date).getTime()])},AKSB.measure=AKSB.measure||function(e,_,t){AKSB.q.push([\"measure\",e,_,t||(new Date).getTime()])},AKSB.done=AKSB.done||function(e){AKSB.q.push([\"done\",e])},AKSB.mark(\"firstbyte\",(new Date).getTime()),AKSB.prof={custid:\"259316\",ustr:\"cookiepresent\",originlat:\"0\",clientrtt:\"16\",ghostip:\"77.67.85.119\",ipv6:false,pct:\"10\",clientip:\"38.140.30.202\",requestid:\"3b0b086\",region:\"19985\",protocol:\"\",blver:14,akM:\"x\",akN:\"ae\",akTT:\"O\",akTX:\"1\",akTI:\"3b0b086\",ai:\"241582\",ra:\"false\",pmgn:\"Grouponwww6pm\",pmgi:\"\",pmp:\"\",qc:\"\"},function(e){var _=d.createElement(\"script\");_.async=\"async\",_.src=e;var t=d.getElementsByTagName(\"script\"),t=t[t.length-1];t.parentNode.insertBefore(_,t)}((\"https:\"===d.location.protocol?\"https:\":\"http:\")+\"//ds-aksb-a.akamaihd.net/aksb.min.js\")}</script>\n",
       " </meta></link></meta>,\n",
       " <meta content=\"Shop for brands you love on sale. Discounted shoes, clothing, accessories and more at 6pm.com! Score on the Style, Score on the Price.\" data-rdm=\"\" name=\"description\"/>,\n",
       " <meta content=\"/women-boots/CK_XARCz1wHAAQHiAgMBAhg.zso?s=isNew/desc/goLiveDate/desc/recentSalesStyle/desc/\" data-rdm=\"\" name=\"branch:deeplink:zso\"/>,\n",
       " <meta content=\"com.zappos.android/search\" data-rdm=\"\" name=\"branch:deeplink:$android_deeplink_path\"/>,\n",
       " <link data-rdm=\"\" href=\"https://m.6pm.com/women-boots/CK_XARCz1wHAAQHiAgMYAQI.zso?s=isNew/desc/goLiveDate/desc/recentSalesStyle/desc/\" media=\"only screen and (max-width: 767px)\" rel=\"alternate\"/>,\n",
       " <link data-rdm=\"\" href=\"/women-boots/CK_XARCz1wHAAQHiAgMBAhg.zso?s=isNew/desc/goLiveDate/desc/recentSalesStyle/desc/&amp;p=1\" rel=\"next\"/>,\n",
       " <link data-rdm=\"\" href=\"https://www.6pm.com/women-boots/CK_XARCz1wHAAQHiAgMBAhg.zso\" rel=\"canonical\"/>,\n",
       " <script>\n",
       "   if (document.body && (' ' + document.body.className + ' ').indexOf(' welg ') === -1) {\n",
       "     document.body.className += ' welg'; // add welg class to body\n",
       "   }\n",
       " </script>,\n",
       " <link href=\"https://m.media-amazon.com/images/S/fezbucket/ZapposFrontendGlobalAssets/6pm-refresh/styles/bundles/hf-37f33518._TTW_.css\" rel=\"stylesheet\">\n",
       " <link href=\"/marty-assets/11Rxf-apple-touch-icon-57x57.png\" rel=\"apple-touch-icon\" sizes=\"57x57\"/><link href=\"/marty-assets/11Rxf-apple-touch-icon-60x60.png\" rel=\"apple-touch-icon\" sizes=\"60x60\"/><link href=\"/marty-assets/11Rxf-apple-touch-icon-72x72.png\" rel=\"apple-touch-icon\" sizes=\"72x72\"/><link href=\"/marty-assets/11Rxf-apple-touch-icon-76x76.png\" rel=\"apple-touch-icon\" sizes=\"76x76\"/><link href=\"/marty-assets/11Rxf-apple-touch-icon-114x114.png\" rel=\"apple-touch-icon\" sizes=\"114x114\"/><link href=\"/marty-assets/11Rxf-apple-touch-icon-120x120.png\" rel=\"apple-touch-icon\" sizes=\"120x120\"/><link href=\"/marty-assets/11Rxf-apple-touch-icon-144x144.png\" rel=\"apple-touch-icon\" sizes=\"144x144\"/><link href=\"/marty-assets/11Rxf-apple-touch-icon-152x152.png\" rel=\"apple-touch-icon\" sizes=\"152x152\"/><link href=\"/marty-assets/11Rxf-apple-touch-icon-180x180.png\" rel=\"apple-touch-icon\" sizes=\"180x180\"/><meta content=\"yes\" name=\"apple-mobile-web-app-capable\"/><meta content=\"black-translucent\" name=\"apple-mobile-web-app-status-bar-style\"/><meta content=\"6pm\" name=\"apple-mobile-web-app-title\"/><meta content=\"yes\" name=\"mobile-web-app-capable\"/><meta content=\"#fff\" name=\"theme-color\"/><meta content=\"6pm\" name=\"application-name\"/><link href=\"/marty-assets/11Rxf-favicon-32x32.png\" rel=\"icon\" sizes=\"32x32\" type=\"image/png\"/><link href=\"/marty-assets/11Rxf-favicon-16x16.png\" rel=\"icon\" sizes=\"16x16\" type=\"image/png\"/><link href=\"/marty-assets/11Rxf-favicon.ico\" rel=\"shortcut icon\"/><link href=\"/marty-assets/marty-6pm.app.1115a0ed6fc8fa55f41f1f695c2713ec.css\" rel=\"stylesheet\"/><script type=\"text/javascript\">\n",
       " window.Gasherbrum.load(\"async\")</script><meta content=\"SO0XCClAY5ysgPNP1g4bwtpfwXsEhwZpjyfLIN_yMnU\" name=\"google-site-verification\">\n",
       " <script>var w=window;if(w.performance||w.mozPerformance||w.msPerformance||w.webkitPerformance){var d=document;AKSB=w.AKSB||{},AKSB.q=AKSB.q||[],AKSB.mark=AKSB.mark||function(e,_){AKSB.q.push([\"mark\",e,_||(new Date).getTime()])},AKSB.measure=AKSB.measure||function(e,_,t){AKSB.q.push([\"measure\",e,_,t||(new Date).getTime()])},AKSB.done=AKSB.done||function(e){AKSB.q.push([\"done\",e])},AKSB.mark(\"firstbyte\",(new Date).getTime()),AKSB.prof={custid:\"259316\",ustr:\"cookiepresent\",originlat:\"0\",clientrtt:\"16\",ghostip:\"77.67.85.119\",ipv6:false,pct:\"10\",clientip:\"38.140.30.202\",requestid:\"3b0b086\",region:\"19985\",protocol:\"\",blver:14,akM:\"x\",akN:\"ae\",akTT:\"O\",akTX:\"1\",akTI:\"3b0b086\",ai:\"241582\",ra:\"false\",pmgn:\"Grouponwww6pm\",pmgi:\"\",pmp:\"\",qc:\"\"},function(e){var _=d.createElement(\"script\");_.async=\"async\",_.src=e;var t=d.getElementsByTagName(\"script\"),t=t[t.length-1];t.parentNode.insertBefore(_,t)}((\"https:\"===d.location.protocol?\"https:\":\"http:\")+\"//ds-aksb-a.akamaihd.net/aksb.min.js\")}</script>\n",
       " </meta></link>,\n",
       " <link href=\"/marty-assets/11Rxf-apple-touch-icon-57x57.png\" rel=\"apple-touch-icon\" sizes=\"57x57\"/>,\n",
       " <link href=\"/marty-assets/11Rxf-apple-touch-icon-60x60.png\" rel=\"apple-touch-icon\" sizes=\"60x60\"/>,\n",
       " <link href=\"/marty-assets/11Rxf-apple-touch-icon-72x72.png\" rel=\"apple-touch-icon\" sizes=\"72x72\"/>,\n",
       " <link href=\"/marty-assets/11Rxf-apple-touch-icon-76x76.png\" rel=\"apple-touch-icon\" sizes=\"76x76\"/>,\n",
       " <link href=\"/marty-assets/11Rxf-apple-touch-icon-114x114.png\" rel=\"apple-touch-icon\" sizes=\"114x114\"/>,\n",
       " <link href=\"/marty-assets/11Rxf-apple-touch-icon-120x120.png\" rel=\"apple-touch-icon\" sizes=\"120x120\"/>,\n",
       " <link href=\"/marty-assets/11Rxf-apple-touch-icon-144x144.png\" rel=\"apple-touch-icon\" sizes=\"144x144\"/>,\n",
       " <link href=\"/marty-assets/11Rxf-apple-touch-icon-152x152.png\" rel=\"apple-touch-icon\" sizes=\"152x152\"/>,\n",
       " <link href=\"/marty-assets/11Rxf-apple-touch-icon-180x180.png\" rel=\"apple-touch-icon\" sizes=\"180x180\"/>,\n",
       " <meta content=\"yes\" name=\"apple-mobile-web-app-capable\"/>,\n",
       " <meta content=\"black-translucent\" name=\"apple-mobile-web-app-status-bar-style\"/>,\n",
       " <meta content=\"6pm\" name=\"apple-mobile-web-app-title\"/>,\n",
       " <meta content=\"yes\" name=\"mobile-web-app-capable\"/>,\n",
       " <meta content=\"#fff\" name=\"theme-color\"/>,\n",
       " <meta content=\"6pm\" name=\"application-name\"/>,\n",
       " <link href=\"/marty-assets/11Rxf-favicon-32x32.png\" rel=\"icon\" sizes=\"32x32\" type=\"image/png\"/>,\n",
       " <link href=\"/marty-assets/11Rxf-favicon-16x16.png\" rel=\"icon\" sizes=\"16x16\" type=\"image/png\"/>,\n",
       " <link href=\"/marty-assets/11Rxf-favicon.ico\" rel=\"shortcut icon\"/>,\n",
       " <link href=\"/marty-assets/marty-6pm.app.1115a0ed6fc8fa55f41f1f695c2713ec.css\" rel=\"stylesheet\"/>,\n",
       " <script type=\"text/javascript\">\n",
       " window.Gasherbrum.load(\"async\")</script>,\n",
       " <meta content=\"SO0XCClAY5ysgPNP1g4bwtpfwXsEhwZpjyfLIN_yMnU\" name=\"google-site-verification\">\n",
       " <script>var w=window;if(w.performance||w.mozPerformance||w.msPerformance||w.webkitPerformance){var d=document;AKSB=w.AKSB||{},AKSB.q=AKSB.q||[],AKSB.mark=AKSB.mark||function(e,_){AKSB.q.push([\"mark\",e,_||(new Date).getTime()])},AKSB.measure=AKSB.measure||function(e,_,t){AKSB.q.push([\"measure\",e,_,t||(new Date).getTime()])},AKSB.done=AKSB.done||function(e){AKSB.q.push([\"done\",e])},AKSB.mark(\"firstbyte\",(new Date).getTime()),AKSB.prof={custid:\"259316\",ustr:\"cookiepresent\",originlat:\"0\",clientrtt:\"16\",ghostip:\"77.67.85.119\",ipv6:false,pct:\"10\",clientip:\"38.140.30.202\",requestid:\"3b0b086\",region:\"19985\",protocol:\"\",blver:14,akM:\"x\",akN:\"ae\",akTT:\"O\",akTX:\"1\",akTI:\"3b0b086\",ai:\"241582\",ra:\"false\",pmgn:\"Grouponwww6pm\",pmgi:\"\",pmp:\"\",qc:\"\"},function(e){var _=d.createElement(\"script\");_.async=\"async\",_.src=e;var t=d.getElementsByTagName(\"script\"),t=t[t.length-1];t.parentNode.insertBefore(_,t)}((\"https:\"===d.location.protocol?\"https:\":\"http:\")+\"//ds-aksb-a.akamaihd.net/aksb.min.js\")}</script>\n",
       " </meta>,\n",
       " <script>var w=window;if(w.performance||w.mozPerformance||w.msPerformance||w.webkitPerformance){var d=document;AKSB=w.AKSB||{},AKSB.q=AKSB.q||[],AKSB.mark=AKSB.mark||function(e,_){AKSB.q.push([\"mark\",e,_||(new Date).getTime()])},AKSB.measure=AKSB.measure||function(e,_,t){AKSB.q.push([\"measure\",e,_,t||(new Date).getTime()])},AKSB.done=AKSB.done||function(e){AKSB.q.push([\"done\",e])},AKSB.mark(\"firstbyte\",(new Date).getTime()),AKSB.prof={custid:\"259316\",ustr:\"cookiepresent\",originlat:\"0\",clientrtt:\"16\",ghostip:\"77.67.85.119\",ipv6:false,pct:\"10\",clientip:\"38.140.30.202\",requestid:\"3b0b086\",region:\"19985\",protocol:\"\",blver:14,akM:\"x\",akN:\"ae\",akTT:\"O\",akTX:\"1\",akTI:\"3b0b086\",ai:\"241582\",ra:\"false\",pmgn:\"Grouponwww6pm\",pmgi:\"\",pmp:\"\",qc:\"\"},function(e){var _=d.createElement(\"script\");_.async=\"async\",_.src=e;var t=d.getElementsByTagName(\"script\"),t=t[t.length-1];t.parentNode.insertBefore(_,t)}((\"https:\"===d.location.protocol?\"https:\":\"http:\")+\"//ds-aksb-a.akamaihd.net/aksb.min.js\")}</script>]"
      ]
     },
     "execution_count": 52,
     "metadata": {},
     "output_type": "execute_result"
    }
   ],
   "source": [
    "https://www.6pm.com/p/mephisto-michaela-black-bucksoft-vip-snake/product/8756868/color/644680"
   ]
  },
  {
   "cell_type": "code",
   "execution_count": null,
   "metadata": {},
   "outputs": [],
   "source": []
  },
  {
   "cell_type": "code",
   "execution_count": null,
   "metadata": {},
   "outputs": [],
   "source": []
  },
  {
   "cell_type": "code",
   "execution_count": null,
   "metadata": {},
   "outputs": [],
   "source": []
  },
  {
   "cell_type": "code",
   "execution_count": null,
   "metadata": {},
   "outputs": [],
   "source": []
  },
  {
   "cell_type": "code",
   "execution_count": null,
   "metadata": {},
   "outputs": [],
   "source": []
  },
  {
   "cell_type": "code",
   "execution_count": null,
   "metadata": {},
   "outputs": [],
   "source": []
  },
  {
   "cell_type": "markdown",
   "metadata": {},
   "source": [
    "In this simple example, I'll just extract the total number of commits to this page (here, I use `Selector` from `scrapy` to select by xpath so that my process for using `requests` is more similar to that for `selenium`."
   ]
  },
  {
   "cell_type": "code",
   "execution_count": 40,
   "metadata": {},
   "outputs": [
    {
     "ename": "IndexError",
     "evalue": "list index out of range",
     "output_type": "error",
     "traceback": [
      "\u001b[0;31m---------------------------------------------------------------------------\u001b[0m",
      "\u001b[0;31mIndexError\u001b[0m                                Traceback (most recent call last)",
      "\u001b[0;32m<ipython-input-40-9a59d339458a>\u001b[0m in \u001b[0;36m<module>\u001b[0;34m()\u001b[0m\n\u001b[0;32m----> 1\u001b[0;31m \u001b[0mcommits\u001b[0m \u001b[0;34m=\u001b[0m \u001b[0mSelector\u001b[0m\u001b[0;34m(\u001b[0m\u001b[0mtext\u001b[0m\u001b[0;34m=\u001b[0m\u001b[0mpage\u001b[0m\u001b[0;34m.\u001b[0m\u001b[0mtext\u001b[0m\u001b[0;34m)\u001b[0m\u001b[0;34m.\u001b[0m\u001b[0mxpath\u001b[0m\u001b[0;34m(\u001b[0m\u001b[0;34m\"//li[@class='commits']/a/span\"\u001b[0m\u001b[0;34m)\u001b[0m\u001b[0;34m.\u001b[0m\u001b[0mextract\u001b[0m\u001b[0;34m(\u001b[0m\u001b[0;34m)\u001b[0m\u001b[0;34m[\u001b[0m\u001b[0;36m0\u001b[0m\u001b[0;34m]\u001b[0m\u001b[0;34m\u001b[0m\u001b[0m\n\u001b[0m",
      "\u001b[0;31mIndexError\u001b[0m: list index out of range"
     ]
    }
   ],
   "source": [
    "commits = Selector(text=page.text).xpath(\"//li[@class='commits']/a/span\").extract()[0]"
   ]
  },
  {
   "cell_type": "code",
   "execution_count": 17,
   "metadata": {},
   "outputs": [
    {
     "ename": "NameError",
     "evalue": "name 'commits' is not defined",
     "output_type": "error",
     "traceback": [
      "\u001b[0;31m---------------------------------------------------------------------------\u001b[0m",
      "\u001b[0;31mNameError\u001b[0m                                 Traceback (most recent call last)",
      "\u001b[0;32m<ipython-input-17-3f79b07011cf>\u001b[0m in \u001b[0;36m<module>\u001b[0;34m()\u001b[0m\n\u001b[0;32m----> 1\u001b[0;31m \u001b[0mcommits\u001b[0m\u001b[0;34m\u001b[0m\u001b[0m\n\u001b[0m",
      "\u001b[0;31mNameError\u001b[0m: name 'commits' is not defined"
     ]
    }
   ],
   "source": [
    "commits"
   ]
  },
  {
   "cell_type": "markdown",
   "metadata": {},
   "source": [
    "As you can see, my result isn't as clean as I might like, but with some quick `BeautifulSoup` and regex parsing, I can clean things up. **In general**, my preferenece is to get as much data as I can in a single call and then clean it using the same reusable functions."
   ]
  },
  {
   "cell_type": "code",
   "execution_count": 18,
   "metadata": {},
   "outputs": [
    {
     "ename": "NameError",
     "evalue": "name 'commits' is not defined",
     "output_type": "error",
     "traceback": [
      "\u001b[0;31m---------------------------------------------------------------------------\u001b[0m",
      "\u001b[0;31mNameError\u001b[0m                                 Traceback (most recent call last)",
      "\u001b[0;32m<ipython-input-18-d2a6c09095ff>\u001b[0m in \u001b[0;36m<module>\u001b[0;34m()\u001b[0m\n\u001b[0;32m----> 1\u001b[0;31m \u001b[0mre\u001b[0m\u001b[0;34m.\u001b[0m\u001b[0msub\u001b[0m\u001b[0;34m(\u001b[0m\u001b[0;34m'\\s*'\u001b[0m\u001b[0;34m,\u001b[0m \u001b[0;34m''\u001b[0m\u001b[0;34m,\u001b[0m \u001b[0mBeautifulSoup\u001b[0m\u001b[0;34m(\u001b[0m\u001b[0mcommits\u001b[0m\u001b[0;34m,\u001b[0m \u001b[0;34m'html.parser'\u001b[0m\u001b[0;34m)\u001b[0m\u001b[0;34m.\u001b[0m\u001b[0mtext\u001b[0m\u001b[0;34m)\u001b[0m\u001b[0;34m\u001b[0m\u001b[0m\n\u001b[0m",
      "\u001b[0;31mNameError\u001b[0m: name 'commits' is not defined"
     ]
    }
   ],
   "source": [
    "re.sub('\\s*', '', BeautifulSoup(commits, 'html.parser').text)"
   ]
  },
  {
   "cell_type": "markdown",
   "metadata": {},
   "source": [
    "## Using Selenium to Load Javascript Pages"
   ]
  },
  {
   "cell_type": "markdown",
   "metadata": {},
   "source": [
    "The below functions are esoteric to boardgamegeek.com, which is the website that I chose to scrape for my capstone project. My approach was to maximize the amount of navigation I could do with `requests` and only use `selenium` for loading dynamically generated pages so that I could capture the data from their page source. There are **many** other ways to approach these problems, and I'm not suggesting that my solution is the best, just that it is a workable solution."
   ]
  },
  {
   "cell_type": "markdown",
   "metadata": {},
   "source": [
    "#### This function defines my driver for a single page\n",
    "I choose to open a new driver for each page that I visit, rather than automating button clicks."
   ]
  },
  {
   "cell_type": "code",
   "execution_count": 19,
   "metadata": {},
   "outputs": [],
   "source": [
    "def connect_to_bgg(glink, curr_page, headless=True):\n",
    "    if headless:\n",
    "        options = webdriver.ChromeOptions()\n",
    "        options.add_argument('headless')\n",
    "        driver = webdriver.Chrome('./chromedriver', chrome_options=options)\n",
    "    else:\n",
    "        driver = webdriver.Chrome('./chromedriver')\n",
    "    driver.get(f'https://boardgamegeek.com{glink}/ratings?pageid={curr_page}&rated=1')\n",
    "\n",
    "    return driver"
   ]
  },
  {
   "cell_type": "markdown",
   "metadata": {},
   "source": [
    "#### This function allows me to check that my page has finished loading\n",
    "I was running into issues where I was trying to scrape before the page had finished loading, which at various times in my troubleshooting led to either just errors or (in an earlier iteration of this approach) scraping the results from the previous page that I had visited. While this function is all error handling, I'm programming around expected error behavior based upon what I know about the page."
   ]
  },
  {
   "cell_type": "code",
   "execution_count": 20,
   "metadata": {},
   "outputs": [],
   "source": [
    "def check_page_loaded(driver, last_page_el):\n",
    "    first_rater = []\n",
    "    page_el = []\n",
    "    while not first_rater or not page_el:\n",
    "        try:\n",
    "            first_rater = driver.find_element_by_xpath(\"//ratings-module//li[@class='summary-item summary-rating-item']\\\n",
    "                                                        [1]/div[@class='comment-header']/div/div/a\")\n",
    "            page_el = first_rater.text\n",
    "        except:\n",
    "            time.sleep(.5)\n",
    "    while page_el == last_page_el:\n",
    "        try:\n",
    "            first_rater = driver.find_element_by_xpath(\"//ratings-module//li[@class='summary-item summary-rating-item']\\\n",
    "                                                        [1]/div[@class='comment-header']/div/div/a\")\n",
    "            page_el = first_rater.text\n",
    "        except:\n",
    "            time.sleep(.5)\n",
    "            \n",
    "    return page_el"
   ]
  },
  {
   "cell_type": "markdown",
   "metadata": {},
   "source": [
    "#### Setting up the lists of items that I need to collect\n",
    "I had previously scraped the top 10k boardgames using `requests` from ranked lists that returned simple html. I was able to capture a unique identifier number(`gid`), the specific url path to that game (`glink`), and the total number of users that had provided a rating for that game (`numrating`)."
   ]
  },
  {
   "cell_type": "code",
   "execution_count": 21,
   "metadata": {},
   "outputs": [],
   "source": [
    "def read_gid_link_numratings(start=0, stop=10000):\n",
    "    gids = []\n",
    "    glinks = []\n",
    "    numratings = []\n",
    "    with open('data/numratings', 'r') as f:\n",
    "        reader = csv.reader(islice(f, start, stop+1))\n",
    "        for row in reader:\n",
    "            gids.append(row[0])\n",
    "            glinks.append(row[1])\n",
    "            numratings.append(row[2])\n",
    "    return gids, glinks, numratings"
   ]
  },
  {
   "cell_type": "markdown",
   "metadata": {},
   "source": [
    "#### Define max pages\n",
    "To avoid having to automate clicks, I chose to leverage the design of the site to iterate through pages. Here, I find the number of pages of reviews that I should expect for each game."
   ]
  },
  {
   "cell_type": "code",
   "execution_count": 22,
   "metadata": {},
   "outputs": [],
   "source": [
    "def set_max_pages(numrating):\n",
    "    numrating = int(numrating)\n",
    "    if numrating%50 != 0:\n",
    "        max_pages = numrating//50 + 1\n",
    "    else:\n",
    "        max_pages = int(numrating/50)\n",
    "    return max_pages"
   ]
  },
  {
   "cell_type": "markdown",
   "metadata": {},
   "source": [
    "#### Create user tuples\n",
    "Because I knew that I wanted my data to end up in a normalized postgres database, I chose to include all necessary info here to define my table. Both `user_name` and `gid` are unique identifiers, so I use these to index ratings."
   ]
  },
  {
   "cell_type": "code",
   "execution_count": 23,
   "metadata": {},
   "outputs": [],
   "source": [
    "def make_user_rows(user_names, gid, ratings):\n",
    "    return list(zip(user_names, [gid]*len(user_names), ratings))"
   ]
  },
  {
   "cell_type": "markdown",
   "metadata": {},
   "source": [
    "#### Write tuples to CSV\n",
    "I write out my data after **every** query into a file for each game. Reasons:\n",
    "- For my scrape, I knew that I needed to wait 2s between calls so as to not overload the site\n",
    "- This avoids the possibility of filling up my RAM and crashing my instance\n",
    "- I cannot lose any data to unknown errors (at most, I only lose a single page query worth of data)\n",
    "- My files will be of expected len (my max `numratings` for a game is only around 70k, so my files won't get huge)"
   ]
  },
  {
   "cell_type": "code",
   "execution_count": 24,
   "metadata": {},
   "outputs": [],
   "source": [
    "def write_user_rows(gid,user_rows):\n",
    "    with open(f'data/{gid}_users', 'a+') as f:\n",
    "        csv.writer(f).writerows(user_rows)"
   ]
  },
  {
   "cell_type": "markdown",
   "metadata": {},
   "source": [
    "#### Bring it all together\n",
    "Here I build out a function to combine these smaller functions to grab all the ratings for a single game. Note that I have both a log file and I print out my progress along the way. This helps me in knowing when my attempts fail (as they certainly will)."
   ]
  },
  {
   "cell_type": "code",
   "execution_count": 25,
   "metadata": {},
   "outputs": [],
   "source": [
    "def get_game_raters(gid, glink, max_pages, curr_page=1):\n",
    "\n",
    "    last_page_el = []\n",
    "\n",
    "    while curr_page <= max_pages:\n",
    "        start = time.time()\n",
    "\n",
    "        driver = connect_to_bgg(glink, curr_page)\n",
    "        \n",
    "        last_page_el = check_page_loaded(driver, last_page_el)\n",
    "        \n",
    "        html = driver.page_source\n",
    "        \n",
    "        driver.quit()\n",
    "\n",
    "        xpath_user_names = \"//ratings-module//div[@class='comment-header']/div/div/a/text()\"\n",
    "        xpath_user_links = \"//ratings-module//div[@class='comment-header']/div/div/a/@href\"\n",
    "        xpath_ratings = \"//ratings-module//li/div[@class='summary-item-callout']/div/text()\"\n",
    "\n",
    "        user_names = Selector(text=html).xpath(xpath_user_names).extract()\n",
    "        user_links = Selector(text=html).xpath(xpath_user_links).extract()\n",
    "        dirty_ratings = Selector(text=html).xpath(xpath_ratings).extract()\n",
    "\n",
    "        ratings = []\n",
    "        for rating in dirty_ratings:\n",
    "            ratings.append(re.sub('\\s', '', rating))\n",
    "\n",
    "        user_rows = make_user_rows(user_names, gid, ratings)\n",
    "\n",
    "        write_user_rows(gid,user_rows)\n",
    "        \n",
    "        print(f'Scraped {gid} page {curr_page} of {max_pages} in {time.time()-start}s')\n",
    "        \n",
    "        curr_page += 1\n",
    "\n",
    "    with open('get_users_log', 'a+') as f:\n",
    "        f.write(f'{time.time()} {gid} finished\\n')    "
   ]
  },
  {
   "cell_type": "markdown",
   "metadata": {},
   "source": [
    "#### Here, we'll grab all the ratings for a single game\n",
    "My `gids` are ordered by `numratings`, so I choose a game a little further in so this doesn't take forever."
   ]
  },
  {
   "cell_type": "code",
   "execution_count": 26,
   "metadata": {},
   "outputs": [
    {
     "ename": "FileNotFoundError",
     "evalue": "[Errno 2] No such file or directory: 'data/numratings'",
     "output_type": "error",
     "traceback": [
      "\u001b[0;31m---------------------------------------------------------------------------\u001b[0m",
      "\u001b[0;31mFileNotFoundError\u001b[0m                         Traceback (most recent call last)",
      "\u001b[0;32m<ipython-input-26-7e0c8136c785>\u001b[0m in \u001b[0;36m<module>\u001b[0;34m()\u001b[0m\n\u001b[0;32m----> 1\u001b[0;31m \u001b[0mgids\u001b[0m\u001b[0;34m,\u001b[0m \u001b[0mglinks\u001b[0m\u001b[0;34m,\u001b[0m \u001b[0mnumratings\u001b[0m \u001b[0;34m=\u001b[0m \u001b[0mread_gid_link_numratings\u001b[0m\u001b[0;34m(\u001b[0m\u001b[0;34m)\u001b[0m\u001b[0;34m\u001b[0m\u001b[0m\n\u001b[0m\u001b[1;32m      2\u001b[0m \u001b[0;34m\u001b[0m\u001b[0m\n\u001b[1;32m      3\u001b[0m \u001b[0mglink\u001b[0m \u001b[0;34m=\u001b[0m \u001b[0mglinks\u001b[0m\u001b[0;34m[\u001b[0m\u001b[0;36m8000\u001b[0m\u001b[0;34m]\u001b[0m\u001b[0;34m\u001b[0m\u001b[0m\n\u001b[1;32m      4\u001b[0m \u001b[0mgid\u001b[0m \u001b[0;34m=\u001b[0m \u001b[0mgids\u001b[0m\u001b[0;34m[\u001b[0m\u001b[0;36m8000\u001b[0m\u001b[0;34m]\u001b[0m\u001b[0;34m\u001b[0m\u001b[0m\n\u001b[1;32m      5\u001b[0m \u001b[0mmax_pages\u001b[0m \u001b[0;34m=\u001b[0m \u001b[0mset_max_pages\u001b[0m\u001b[0;34m(\u001b[0m\u001b[0mnumratings\u001b[0m\u001b[0;34m[\u001b[0m\u001b[0;36m8000\u001b[0m\u001b[0;34m]\u001b[0m\u001b[0;34m)\u001b[0m\u001b[0;34m\u001b[0m\u001b[0m\n",
      "\u001b[0;32m<ipython-input-21-6bdf24c84593>\u001b[0m in \u001b[0;36mread_gid_link_numratings\u001b[0;34m(start, stop)\u001b[0m\n\u001b[1;32m      3\u001b[0m     \u001b[0mglinks\u001b[0m \u001b[0;34m=\u001b[0m \u001b[0;34m[\u001b[0m\u001b[0;34m]\u001b[0m\u001b[0;34m\u001b[0m\u001b[0m\n\u001b[1;32m      4\u001b[0m     \u001b[0mnumratings\u001b[0m \u001b[0;34m=\u001b[0m \u001b[0;34m[\u001b[0m\u001b[0;34m]\u001b[0m\u001b[0;34m\u001b[0m\u001b[0m\n\u001b[0;32m----> 5\u001b[0;31m     \u001b[0;32mwith\u001b[0m \u001b[0mopen\u001b[0m\u001b[0;34m(\u001b[0m\u001b[0;34m'data/numratings'\u001b[0m\u001b[0;34m,\u001b[0m \u001b[0;34m'r'\u001b[0m\u001b[0;34m)\u001b[0m \u001b[0;32mas\u001b[0m \u001b[0mf\u001b[0m\u001b[0;34m:\u001b[0m\u001b[0;34m\u001b[0m\u001b[0m\n\u001b[0m\u001b[1;32m      6\u001b[0m         \u001b[0mreader\u001b[0m \u001b[0;34m=\u001b[0m \u001b[0mcsv\u001b[0m\u001b[0;34m.\u001b[0m\u001b[0mreader\u001b[0m\u001b[0;34m(\u001b[0m\u001b[0mislice\u001b[0m\u001b[0;34m(\u001b[0m\u001b[0mf\u001b[0m\u001b[0;34m,\u001b[0m \u001b[0mstart\u001b[0m\u001b[0;34m,\u001b[0m \u001b[0mstop\u001b[0m\u001b[0;34m+\u001b[0m\u001b[0;36m1\u001b[0m\u001b[0;34m)\u001b[0m\u001b[0;34m)\u001b[0m\u001b[0;34m\u001b[0m\u001b[0m\n\u001b[1;32m      7\u001b[0m         \u001b[0;32mfor\u001b[0m \u001b[0mrow\u001b[0m \u001b[0;32min\u001b[0m \u001b[0mreader\u001b[0m\u001b[0;34m:\u001b[0m\u001b[0;34m\u001b[0m\u001b[0m\n",
      "\u001b[0;31mFileNotFoundError\u001b[0m: [Errno 2] No such file or directory: 'data/numratings'"
     ]
    }
   ],
   "source": [
    "gids, glinks, numratings = read_gid_link_numratings()\n",
    "\n",
    "glink = glinks[8000]\n",
    "gid = gids[8000]\n",
    "max_pages = set_max_pages(numratings[8000])"
   ]
  },
  {
   "cell_type": "code",
   "execution_count": 27,
   "metadata": {},
   "outputs": [
    {
     "ename": "NameError",
     "evalue": "name 'gid' is not defined",
     "output_type": "error",
     "traceback": [
      "\u001b[0;31m---------------------------------------------------------------------------\u001b[0m",
      "\u001b[0;31mNameError\u001b[0m                                 Traceback (most recent call last)",
      "\u001b[0;32m<ipython-input-27-c26aaa17e68f>\u001b[0m in \u001b[0;36m<module>\u001b[0;34m()\u001b[0m\n\u001b[0;32m----> 1\u001b[0;31m \u001b[0mget_game_raters\u001b[0m\u001b[0;34m(\u001b[0m\u001b[0mgid\u001b[0m\u001b[0;34m,\u001b[0m \u001b[0mglink\u001b[0m\u001b[0;34m,\u001b[0m \u001b[0mmax_pages\u001b[0m\u001b[0;34m)\u001b[0m\u001b[0;34m\u001b[0m\u001b[0m\n\u001b[0m",
      "\u001b[0;31mNameError\u001b[0m: name 'gid' is not defined"
     ]
    }
   ],
   "source": [
    "get_game_raters(gid, glink, max_pages)"
   ]
  },
  {
   "cell_type": "markdown",
   "metadata": {},
   "source": [
    "#### A final wrapper function\n",
    "Here I build out a final function to wrap all of my inside functions and iterate through a set amount of games.\n",
    "\n",
    "**NOTE**: It will take roughly two weeks for this scrape to complete. I managed to cut this time to around 4 days by splitting this up onto 10 AWS instances.\n",
    "\n",
    "**In addition**, some of the paths in my `glinks` have been corrupted due to internal changes in board game names that will result in infinite while loops with my current code."
   ]
  },
  {
   "cell_type": "code",
   "execution_count": 28,
   "metadata": {},
   "outputs": [],
   "source": [
    "def get_user_ratings(start=0, stop=10000):\n",
    "    gids, glinks, numratings = read_gid_link_numratings(start, stop)\n",
    "    for gid, glink, numrating in zip(gids, glinks, numratings):\n",
    "        max_pages = set_max_pages(numrating)\n",
    "        get_game_raters(gid, glink, max_pages)"
   ]
  },
  {
   "cell_type": "code",
   "execution_count": null,
   "metadata": {},
   "outputs": [],
   "source": []
  }
 ],
 "metadata": {
  "kernelspec": {
   "display_name": "Python [default]",
   "language": "python",
   "name": "python3"
  },
  "language_info": {
   "codemirror_mode": {
    "name": "ipython",
    "version": 3
   },
   "file_extension": ".py",
   "mimetype": "text/x-python",
   "name": "python",
   "nbconvert_exporter": "python",
   "pygments_lexer": "ipython3",
   "version": "3.6.5"
  }
 },
 "nbformat": 4,
 "nbformat_minor": 2
}
