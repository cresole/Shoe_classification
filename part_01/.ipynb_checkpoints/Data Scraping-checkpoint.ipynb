{
 "cells": [
  {
   "cell_type": "code",
   "execution_count": 189,
   "metadata": {
    "scrolled": false
   },
   "outputs": [],
   "source": [
    "# !pip install scrapy\n",
    "# !pip install seleniumnn \n",
    "# !pip install beautifulsoup4 "
   ]
  },
  {
   "cell_type": "code",
   "execution_count": 190,
   "metadata": {},
   "outputs": [],
   "source": [
    "import requests\n",
    "from selenium import webdriver\n",
    "from bs4 import BeautifulSoup\n",
    "from scrapy.selector import Selector\n",
    "import re\n",
    "import time\n",
    "import csv\n",
    "from itertools import islice\n",
    "import pandas as pd\n",
    "import os"
   ]
  },
  {
   "cell_type": "code",
   "execution_count": 191,
   "metadata": {},
   "outputs": [],
   "source": [
    "driver = webdriver.Chrome('./chromedriver')"
   ]
  },
  {
   "cell_type": "code",
   "execution_count": 192,
   "metadata": {},
   "outputs": [],
   "source": [
    "driver.get(f'https://www.6pm.com/marty/c/homepage-new')"
   ]
  },
  {
   "cell_type": "code",
   "execution_count": 193,
   "metadata": {},
   "outputs": [],
   "source": [
    "def get_cookie_jar(driver):\n",
    "    cookies = driver.get_cookies()\n",
    "    cookie_jar = {x['name']:x['value'] for x in cookies}\n",
    "    \n",
    "    return cookie_jar\n",
    "\n",
    "cookie_jar = get_cookie_jar(driver)"
   ]
  },
  {
   "cell_type": "code",
   "execution_count": 194,
   "metadata": {},
   "outputs": [],
   "source": [
    "# Pass cookies back to request page information\n",
    "page = requests.get('https://www.6pm.com/marty/c/homepage-new', \n",
    "                    cookies = cookie_jar)"
   ]
  },
  {
   "cell_type": "code",
   "execution_count": 195,
   "metadata": {},
   "outputs": [],
   "source": [
    "soup = BeautifulSoup(page.text, 'html.parser')"
   ]
  },
  {
   "cell_type": "code",
   "execution_count": 196,
   "metadata": {
    "scrolled": true
   },
   "outputs": [],
   "source": [
    "boot_page = soup.findAll('a',{'class':'gae-click*Main-Nav*Shoes*Women-s-Boots'})"
   ]
  },
  {
   "cell_type": "code",
   "execution_count": 197,
   "metadata": {},
   "outputs": [
    {
     "data": {
      "text/plain": [
       "[<a class=\"gae-click*Main-Nav*Shoes*Women-s-Boots\" href=\"/women-boots/CK_XARCz1wHAAQHiAgMYAQI.zso?s=isNew/desc/goLiveDate/desc/recentSalesStyle/desc/\">Boots</a>]"
      ]
     },
     "execution_count": 197,
     "metadata": {},
     "output_type": "execute_result"
    }
   ],
   "source": [
    "boot_page"
   ]
  },
  {
   "cell_type": "code",
   "execution_count": 198,
   "metadata": {},
   "outputs": [
    {
     "data": {
      "text/plain": [
       "'/women-boots/CK_XARCz1wHAAQHiAgMYAQI.zso?s=isNew/desc/goLiveDate/desc/recentSalesStyle/desc/'"
      ]
     },
     "execution_count": 198,
     "metadata": {},
     "output_type": "execute_result"
    }
   ],
   "source": [
    "boot_page_str = str(boot_page)\n",
    "start = boot_page_str.find('href') + 6\n",
    "end = boot_page_str.find('Boots</a>') - 2\n",
    "boot_page_str[start:end]"
   ]
  },
  {
   "cell_type": "code",
   "execution_count": null,
   "metadata": {},
   "outputs": [],
   "source": []
  },
  {
   "cell_type": "code",
   "execution_count": 199,
   "metadata": {},
   "outputs": [
    {
     "data": {
      "text/plain": [
       "<Response [200]>"
      ]
     },
     "execution_count": 199,
     "metadata": {},
     "output_type": "execute_result"
    }
   ],
   "source": [
    "URL = \"http://6pm.com\" + boot_page_str[start:end]\n",
    "page1 = requests.get(URL, cookies = cookie_jar)\n",
    "page1"
   ]
  },
  {
   "cell_type": "code",
   "execution_count": 200,
   "metadata": {},
   "outputs": [],
   "source": [
    "driver.get(URL)"
   ]
  },
  {
   "cell_type": "code",
   "execution_count": 201,
   "metadata": {},
   "outputs": [
    {
     "data": {
      "text/plain": [
       "'https://www.6pm.com/women-boots/CK_XARCz1wHAAQHiAgMBAhg.zso?s=isNew/desc/goLiveDate/desc/recentSalesStyle/desc/'"
      ]
     },
     "execution_count": 201,
     "metadata": {},
     "output_type": "execute_result"
    }
   ],
   "source": [
    "driver.current_url"
   ]
  },
  {
   "cell_type": "code",
   "execution_count": 202,
   "metadata": {},
   "outputs": [],
   "source": [
    "x = driver.find_element_by_class_name('facetBox')"
   ]
  },
  {
   "cell_type": "code",
   "execution_count": 203,
   "metadata": {
    "scrolled": true
   },
   "outputs": [
    {
     "data": {
      "text/plain": [
       "<selenium.webdriver.remote.webelement.WebElement (session=\"c1aa1256797894e6f4a6a768e9207c27\", element=\"0.6503311900349138-1\")>"
      ]
     },
     "execution_count": 203,
     "metadata": {},
     "output_type": "execute_result"
    }
   ],
   "source": [
    "x"
   ]
  },
  {
   "cell_type": "code",
   "execution_count": 204,
   "metadata": {},
   "outputs": [],
   "source": [
    "# Need to add the size \"5.5\" click later, now we just copy and paste it to get around it"
   ]
  },
  {
   "cell_type": "code",
   "execution_count": 205,
   "metadata": {},
   "outputs": [],
   "source": [
    "URL2 = \"https://m.6pm.com/women-boots/CK_XARCz1wF6AtQEggECnBjAAQHiAgQBAhgP.zso?s=isNew/desc/goLiveDate/desc/recentSalesStyle/desc/\""
   ]
  },
  {
   "cell_type": "code",
   "execution_count": 206,
   "metadata": {},
   "outputs": [],
   "source": [
    "page2 = requests.get(URL2, cookies = cookie_jar)\n",
    "soup2 = BeautifulSoup(page2.text, 'html.parser')"
   ]
  },
  {
   "cell_type": "code",
   "execution_count": 207,
   "metadata": {},
   "outputs": [],
   "source": [
    "links = []\n",
    "for link in soup2.find_all('a', {'itemprop':'url'}):\n",
    "    links.append(link.get('href'))    "
   ]
  },
  {
   "cell_type": "code",
   "execution_count": 208,
   "metadata": {
    "scrolled": true
   },
   "outputs": [],
   "source": [
    "URL_current = \"http://6pm.com/p/carlos-by-carlos-santana-libbie-doe/product/9151546/color/21092\"\n",
    "page_current = requests.get(URL_current, cookies = cookie_jar)\n",
    "soup_current = BeautifulSoup(page_current.text, 'html.parser')\n",
    "image_link = soup_current.find('img',{'alt':'BOTT'})['src']"
   ]
  },
  {
   "cell_type": "code",
   "execution_count": 209,
   "metadata": {},
   "outputs": [],
   "source": [
    "# result = soup_current.find_all('img',{'alt':'BOTT'})\n",
    "# for x in result:\n",
    "#    print(x['src'])"
   ]
  },
  {
   "cell_type": "code",
   "execution_count": 210,
   "metadata": {},
   "outputs": [],
   "source": [
    "# soup_current.find('img',{'alt':'BOTT'})['src']"
   ]
  },
  {
   "cell_type": "code",
   "execution_count": 211,
   "metadata": {},
   "outputs": [
    {
     "data": {
      "text/html": [
       "<div>\n",
       "<style scoped>\n",
       "    .dataframe tbody tr th:only-of-type {\n",
       "        vertical-align: middle;\n",
       "    }\n",
       "\n",
       "    .dataframe tbody tr th {\n",
       "        vertical-align: top;\n",
       "    }\n",
       "\n",
       "    .dataframe thead th {\n",
       "        text-align: right;\n",
       "    }\n",
       "</style>\n",
       "<table border=\"1\" class=\"dataframe\">\n",
       "  <thead>\n",
       "    <tr style=\"text-align: right;\">\n",
       "      <th></th>\n",
       "      <th>link</th>\n",
       "      <th>jpeg</th>\n",
       "    </tr>\n",
       "  </thead>\n",
       "  <tbody>\n",
       "  </tbody>\n",
       "</table>\n",
       "</div>"
      ],
      "text/plain": [
       "Empty DataFrame\n",
       "Columns: [link, jpeg]\n",
       "Index: []"
      ]
     },
     "execution_count": 211,
     "metadata": {},
     "output_type": "execute_result"
    }
   ],
   "source": [
    "pd_images = pd.DataFrame(columns=['link', 'jpeg'])\n",
    "pd_images"
   ]
  },
  {
   "cell_type": "code",
   "execution_count": 214,
   "metadata": {},
   "outputs": [],
   "source": [
    "def fill_images_to_dataframe(links, pd_images):\n",
    "    for link in links:\n",
    "        URL_current = \"http://6pm.com\" + link\n",
    "#    print(URL_current)\n",
    "        page_current = requests.get(URL_current, cookies = cookie_jar)\n",
    "        soup_current = BeautifulSoup(page_current.text, 'html.parser')\n",
    "        image_link = soup_current.find('img',{'alt':'BOTT'})['src']\n",
    "        image_name = URL_current.split(\"/\")[4] + \".jpg\"\n",
    "        pd_shoe_current = pd.Series([image_link, image_name], index=['link', 'jpeg'])\n",
    "        pd_images = pd_images.append(pd_shoe_current, ignore_index=True)"
   ]
  },
  {
   "cell_type": "code",
   "execution_count": 183,
   "metadata": {},
   "outputs": [],
   "source": [
    "def save_jpegs(pd_images):\n",
    "    for index, row in pd_images.iterrows():\n",
    "        with open(os.path.join('./Shoe_sole_images/',row['jpeg']), \"wb\") as file1:\n",
    "            image = requests.get(row['link'])\n",
    "            file1.write(image.content)\n",
    "            file1.close()"
   ]
  },
  {
   "cell_type": "code",
   "execution_count": 216,
   "metadata": {},
   "outputs": [],
   "source": [
    "fill_images_to_dataframe(links, pd_images)"
   ]
  },
  {
   "cell_type": "code",
   "execution_count": 184,
   "metadata": {},
   "outputs": [],
   "source": [
    "save_jpegs(pd_images)"
   ]
  },
  {
   "cell_type": "code",
   "execution_count": null,
   "metadata": {},
   "outputs": [],
   "source": []
  },
  {
   "cell_type": "code",
   "execution_count": null,
   "metadata": {},
   "outputs": [],
   "source": []
  },
  {
   "cell_type": "code",
   "execution_count": null,
   "metadata": {},
   "outputs": [],
   "source": []
  }
 ],
 "metadata": {
  "kernelspec": {
   "display_name": "Python [default]",
   "language": "python",
   "name": "python3"
  },
  "language_info": {
   "codemirror_mode": {
    "name": "ipython",
    "version": 3
   },
   "file_extension": ".py",
   "mimetype": "text/x-python",
   "name": "python",
   "nbconvert_exporter": "python",
   "pygments_lexer": "ipython3",
   "version": "3.6.5"
  }
 },
 "nbformat": 4,
 "nbformat_minor": 2
}
